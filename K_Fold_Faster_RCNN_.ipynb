{
  "cells": [
    {
      "cell_type": "markdown",
      "metadata": {
        "id": "view-in-github",
        "colab_type": "text"
      },
      "source": [
        "<a href=\"https://colab.research.google.com/github/FaisalT0435/Sistem-Deteksi-Hama-menggunakan-Deep-learning-dan-IoT/blob/main/K_Fold_Faster_RCNN_.ipynb\" target=\"_parent\"><img src=\"https://colab.research.google.com/assets/colab-badge.svg\" alt=\"Open In Colab\"/></a>"
      ]
    },
    {
      "cell_type": "markdown",
      "metadata": {
        "id": "fc18NM7yL42E"
      },
      "source": [
        "Import Library\n"
      ]
    },
    {
      "cell_type": "code",
      "execution_count": 1,
      "metadata": {
        "id": "eByfqE6J-7G1"
      },
      "outputs": [],
      "source": [
        "import numpy as np # linear algebra\n",
        "import pandas as pd # data processing, CSV file I/O (e.g. pd.read_csv)\n",
        "import os\n",
        "\n"
      ]
    },
    {
      "cell_type": "code",
      "execution_count": null,
      "metadata": {
        "colab": {
          "base_uri": "https://localhost:8080/"
        },
        "id": "mfXLc8Q1rUJq",
        "outputId": "62f585c5-8ff0-40e2-9748-281e54bf631d"
      },
      "outputs": [
        {
          "output_type": "stream",
          "name": "stdout",
          "text": [
            "Sun Jan 29 15:51:26 2023       \n",
            "+-----------------------------------------------------------------------------+\n",
            "| NVIDIA-SMI 510.47.03    Driver Version: 510.47.03    CUDA Version: 11.6     |\n",
            "|-------------------------------+----------------------+----------------------+\n",
            "| GPU  Name        Persistence-M| Bus-Id        Disp.A | Volatile Uncorr. ECC |\n",
            "| Fan  Temp  Perf  Pwr:Usage/Cap|         Memory-Usage | GPU-Util  Compute M. |\n",
            "|                               |                      |               MIG M. |\n",
            "|===============================+======================+======================|\n",
            "|   0  Tesla T4            Off  | 00000000:00:04.0 Off |                    0 |\n",
            "| N/A   50C    P0    27W /  70W |      0MiB / 15360MiB |      0%      Default |\n",
            "|                               |                      |                  N/A |\n",
            "+-------------------------------+----------------------+----------------------+\n",
            "                                                                               \n",
            "+-----------------------------------------------------------------------------+\n",
            "| Processes:                                                                  |\n",
            "|  GPU   GI   CI        PID   Type   Process name                  GPU Memory |\n",
            "|        ID   ID                                                   Usage      |\n",
            "|=============================================================================|\n",
            "|  No running processes found                                                 |\n",
            "+-----------------------------------------------------------------------------+\n"
          ]
        }
      ],
      "source": [
        "!nvidia-smi"
      ]
    },
    {
      "cell_type": "code",
      "execution_count": 2,
      "metadata": {
        "colab": {
          "base_uri": "https://localhost:8080/"
        },
        "id": "IRxhiSGX2Ni6",
        "outputId": "35b75325-291c-4a1f-8529-5750f5e05f78"
      },
      "outputs": [
        {
          "output_type": "stream",
          "name": "stdout",
          "text": [
            "Mounted at /content/drive\n"
          ]
        }
      ],
      "source": [
        "from google.colab import drive\n",
        "drive.mount('/content/drive')"
      ]
    },
    {
      "cell_type": "code",
      "execution_count": null,
      "metadata": {
        "colab": {
          "base_uri": "https://localhost:8080/"
        },
        "id": "kJIaGWtS_AT5",
        "outputId": "02816502-5535-4f8a-d56c-0508194c603b"
      },
      "outputs": [
        {
          "output_type": "stream",
          "name": "stdout",
          "text": [
            "Looking in indexes: https://pypi.org/simple, https://us-python.pkg.dev/colab-wheels/public/simple/\n",
            "Requirement already satisfied: torchvision in /usr/local/lib/python3.8/dist-packages (0.14.1+cu116)\n",
            "Requirement already satisfied: torch==1.13.1 in /usr/local/lib/python3.8/dist-packages (from torchvision) (1.13.1+cu116)\n",
            "Requirement already satisfied: numpy in /usr/local/lib/python3.8/dist-packages (from torchvision) (1.21.6)\n",
            "Requirement already satisfied: requests in /usr/local/lib/python3.8/dist-packages (from torchvision) (2.25.1)\n",
            "Requirement already satisfied: pillow!=8.3.*,>=5.3.0 in /usr/local/lib/python3.8/dist-packages (from torchvision) (7.1.2)\n",
            "Requirement already satisfied: typing-extensions in /usr/local/lib/python3.8/dist-packages (from torchvision) (4.4.0)\n",
            "Requirement already satisfied: certifi>=2017.4.17 in /usr/local/lib/python3.8/dist-packages (from requests->torchvision) (2022.12.7)\n",
            "Requirement already satisfied: idna<3,>=2.5 in /usr/local/lib/python3.8/dist-packages (from requests->torchvision) (2.10)\n",
            "Requirement already satisfied: urllib3<1.27,>=1.21.1 in /usr/local/lib/python3.8/dist-packages (from requests->torchvision) (1.24.3)\n",
            "Requirement already satisfied: chardet<5,>=3.0.2 in /usr/local/lib/python3.8/dist-packages (from requests->torchvision) (4.0.0)\n"
          ]
        }
      ],
      "source": [
        "!pip install -U torchvision "
      ]
    },
    {
      "cell_type": "markdown",
      "metadata": {
        "id": "gOKJv4f6L3tI"
      },
      "source": []
    },
    {
      "cell_type": "code",
      "execution_count": null,
      "metadata": {
        "id": "V9KrOKBn_E1H"
      },
      "outputs": [],
      "source": [
        "import torch\n",
        "import torchvision\n",
        "from torchvision import datasets, models\n",
        "from torchvision.transforms import functional as FT\n",
        "from torchvision import transforms as T\n",
        "from torch import nn, optim\n",
        "from torch.nn import functional as F\n",
        "from torch.utils.data import DataLoader, sampler, random_split, Dataset\n",
        "import copy\n",
        "import math\n",
        "from PIL import Image\n",
        "import cv2\n",
        "import albumentations as A  # our data augmentation library\n",
        "\n",
        "import matplotlib.pyplot as plt\n",
        "%matplotlib inline"
      ]
    },
    {
      "cell_type": "code",
      "execution_count": null,
      "metadata": {
        "id": "hSELvN1AAOw3"
      },
      "outputs": [],
      "source": [
        "import warnings\n",
        "warnings.filterwarnings(\"ignore\")\n",
        "from collections import defaultdict, deque\n",
        "import datetime\n",
        "import time\n",
        "from tqdm import tqdm # progress bar\n",
        "from torchvision.utils import draw_bounding_boxes"
      ]
    },
    {
      "cell_type": "code",
      "execution_count": null,
      "metadata": {
        "colab": {
          "base_uri": "https://localhost:8080/"
        },
        "id": "3I5OB9RnARbJ",
        "outputId": "82616a86-7a25-430a-8bbd-670c23392e07"
      },
      "outputs": [
        {
          "output_type": "stream",
          "name": "stdout",
          "text": [
            "1.13.1+cu116\n",
            "0.14.1+cu116\n"
          ]
        }
      ],
      "source": [
        "print(torch.__version__)\n",
        "print(torchvision.__version__)"
      ]
    },
    {
      "cell_type": "code",
      "execution_count": null,
      "metadata": {
        "colab": {
          "base_uri": "https://localhost:8080/"
        },
        "id": "-QXGAoNuAUtF",
        "outputId": "a829d18b-fab9-4e21-9681-5a2db99257f3"
      },
      "outputs": [
        {
          "output_type": "stream",
          "name": "stdout",
          "text": [
            "Looking in indexes: https://pypi.org/simple, https://us-python.pkg.dev/colab-wheels/public/simple/\n",
            "Requirement already satisfied: pycocotools in /usr/local/lib/python3.8/dist-packages (2.0.6)\n",
            "Requirement already satisfied: numpy in /usr/local/lib/python3.8/dist-packages (from pycocotools) (1.21.6)\n",
            "Requirement already satisfied: matplotlib>=2.1.0 in /usr/local/lib/python3.8/dist-packages (from pycocotools) (3.2.2)\n",
            "Requirement already satisfied: pyparsing!=2.0.4,!=2.1.2,!=2.1.6,>=2.0.1 in /usr/local/lib/python3.8/dist-packages (from matplotlib>=2.1.0->pycocotools) (3.0.9)\n",
            "Requirement already satisfied: kiwisolver>=1.0.1 in /usr/local/lib/python3.8/dist-packages (from matplotlib>=2.1.0->pycocotools) (1.4.4)\n",
            "Requirement already satisfied: python-dateutil>=2.1 in /usr/local/lib/python3.8/dist-packages (from matplotlib>=2.1.0->pycocotools) (2.8.2)\n",
            "Requirement already satisfied: cycler>=0.10 in /usr/local/lib/python3.8/dist-packages (from matplotlib>=2.1.0->pycocotools) (0.11.0)\n",
            "Requirement already satisfied: six>=1.5 in /usr/local/lib/python3.8/dist-packages (from python-dateutil>=2.1->matplotlib>=2.1.0->pycocotools) (1.15.0)\n"
          ]
        }
      ],
      "source": [
        "!pip install pycocotools\n",
        "from pycocotools.coco import COCO"
      ]
    },
    {
      "cell_type": "markdown",
      "metadata": {
        "id": "X5TfJSKGMftW"
      },
      "source": [
        "Membuat boxes deteksi menggunakan library augmentasi Albumentations "
      ]
    },
    {
      "cell_type": "code",
      "execution_count": null,
      "metadata": {
        "id": "syqmpRrCWNyj"
      },
      "outputs": [],
      "source": [
        "from albumentations.pytorch import ToTensorV2"
      ]
    },
    {
      "cell_type": "code",
      "execution_count": null,
      "metadata": {
        "id": "61AiDhrTAcR5"
      },
      "outputs": [],
      "source": [
        "def get_transforms(train=False):\n",
        "    if train:\n",
        "        transform = A.Compose([\n",
        "            A.Resize(600, 600), # our input size can be 600px\n",
        "            A.HorizontalFlip(p=0.3),\n",
        "            A.VerticalFlip(p=0.3),\n",
        "            A.RandomBrightnessContrast(p=0.1),\n",
        "            A.ColorJitter(p=0.1),\n",
        "            ToTensorV2()\n",
        "        ], bbox_params=A.BboxParams(format='coco'))\n",
        "    else:\n",
        "        transform = A.Compose([\n",
        "            A.Resize(600, 600), # our input size can be 600px\n",
        "            ToTensorV2()\n",
        "        ], bbox_params=A.BboxParams(format='coco'))\n",
        "    return transform"
      ]
    },
    {
      "cell_type": "code",
      "execution_count": null,
      "metadata": {
        "id": "-L0DIhNfXrDY"
      },
      "outputs": [],
      "source": [
        "class PestDetection(datasets.VisionDataset):\n",
        "    def __init__(self, root, split='train', transform=None, target_transform=None, transforms=None):\n",
        "        # the 3 transform parameters are reuqired for datasets.VisionDataset\n",
        "        super().__init__(root, transforms, transform, target_transform)\n",
        "        self.split = split #train, valid, test\n",
        "        self.coco = COCO(os.path.join(root, split, \"_annotations.coco.json\")) # annotatiosn stored here\n",
        "        self.ids = list(sorted(self.coco.imgs.keys()))\n",
        "        self.ids = [id for id in self.ids if (len(self._load_target(id)) > 0)]\n",
        "    \n",
        "    def _load_image(self, id: int):\n",
        "        path = self.coco.loadImgs(id)[0]['file_name']\n",
        "        image = cv2.imread(os.path.join(self.root, self.split, path))\n",
        "        image = cv2.cvtColor(image, cv2.COLOR_BGR2RGB)\n",
        "        return image\n",
        "    def _load_target(self, id):\n",
        "        return self.coco.loadAnns(self.coco.getAnnIds(id))\n",
        "    \n",
        "    def __getitem__(self, index):\n",
        "        id = self.ids[index]\n",
        "        image = self._load_image(id)\n",
        "        target = self._load_target(id)\n",
        "        target = copy.deepcopy(self._load_target(id))\n",
        "        \n",
        "        boxes = [t['bbox'] + [t['category_id']] for t in target] # required annotation format for albumentations\n",
        "        if self.transforms is not None:\n",
        "            transformed = self.transforms(image=image, bboxes=boxes)\n",
        "        \n",
        "        image = transformed['image']\n",
        "        boxes = transformed['bboxes']\n",
        "        \n",
        "        new_boxes = [] # convert from xywh to xyxy\n",
        "        for box in boxes:\n",
        "            xmin = box[0]\n",
        "            xmax = xmin + box[2]\n",
        "            ymin = box[1]\n",
        "            ymax = ymin + box[3]\n",
        "\n",
        "            new_boxes.append([xmin, ymin, xmax, ymax])\n",
        "        \n",
        "        boxes = torch.tensor(new_boxes, dtype=torch.float32)\n",
        "        \n",
        "        targ = {} # here is our transformed target\n",
        "        targ['boxes'] = boxes\n",
        "        targ['labels'] = torch.tensor([t['category_id'] for t in target], dtype=torch.int64)\n",
        "        targ['image_id'] = torch.tensor([t['image_id'] for t in target])\n",
        "        targ['area'] = (boxes[:, 3] - boxes[:, 1]) * (boxes[:, 2] - boxes[:, 0]) # we have a different area\n",
        "        targ['iscrowd'] = torch.tensor([t['iscrowd'] for t in target], dtype=torch.int64)\n",
        "        return image.div(255), targ # scale images\n",
        "    def __len__(self):\n",
        "        return len(self.ids)"
      ]
    },
    {
      "cell_type": "markdown",
      "metadata": {
        "id": "xq-vNAnSNCac"
      },
      "source": [
        "Dataset"
      ]
    },
    {
      "cell_type": "markdown",
      "metadata": {
        "id": "Qno96c9pNdyS"
      },
      "source": [
        "Membuat class PetsDetection yang berisi fungsi train data dan labeling "
      ]
    },
    {
      "cell_type": "code",
      "execution_count": null,
      "metadata": {
        "id": "nFi5IABIA1n_"
      },
      "outputs": [],
      "source": [
        "#Memanggil dataset\n",
        "dataset_path = \"/content/drive/MyDrive/Dataset/\""
      ]
    },
    {
      "cell_type": "code",
      "execution_count": null,
      "metadata": {
        "colab": {
          "base_uri": "https://localhost:8080/"
        },
        "id": "TdHzG1A6A9RL",
        "outputId": "97a601cd-a367-41b3-af16-01d2c4ff6168"
      },
      "outputs": [
        {
          "output_type": "stream",
          "name": "stdout",
          "text": [
            "loading annotations into memory...\n",
            "Done (t=6.90s)\n",
            "creating index...\n",
            "index created!\n"
          ]
        },
        {
          "output_type": "execute_result",
          "data": {
            "text/plain": [
              "{0: {'id': 0, 'name': 'Pest', 'supercategory': 'none'},\n",
              " 1: {'id': 1, 'name': 'Belalang', 'supercategory': 'Pest'},\n",
              " 2: {'id': 2, 'name': 'Sehat', 'supercategory': 'Pest'},\n",
              " 3: {'id': 3, 'name': 'Ulat', 'supercategory': 'Pest'},\n",
              " 4: {'id': 4, 'name': 'Wereng', 'supercategory': 'Pest'}}"
            ]
          },
          "metadata": {},
          "execution_count": 16
        }
      ],
      "source": [
        "# memanggil file annotation untuk membuat box di data train \n",
        "coco = COCO(os.path.join(dataset_path, 'train/','_annotations.coco.json'))\n",
        "categories = coco.cats\n",
        "n_classes = len(categories.keys())\n",
        "categories"
      ]
    },
    {
      "cell_type": "code",
      "execution_count": null,
      "metadata": {
        "colab": {
          "base_uri": "https://localhost:8080/"
        },
        "id": "NHAY4uYLBfOS",
        "outputId": "7a9542e5-2ada-44a7-9c94-7d5bdbf41275"
      },
      "outputs": [
        {
          "output_type": "execute_result",
          "data": {
            "text/plain": [
              "['Pest', 'Belalang', 'Sehat', 'Ulat', 'Wereng']"
            ]
          },
          "metadata": {},
          "execution_count": 17
        }
      ],
      "source": [
        "classes = [i[1]['name'] for i in categories.items()]\n",
        "classes"
      ]
    },
    {
      "cell_type": "markdown",
      "metadata": {
        "id": "zEswJtX7Qf6g"
      },
      "source": []
    },
    {
      "cell_type": "code",
      "execution_count": null,
      "metadata": {
        "colab": {
          "base_uri": "https://localhost:8080/"
        },
        "id": "twZZEqPlVd8V",
        "outputId": "7f753b04-5f31-44d4-b348-ff2581fdf24f"
      },
      "outputs": [
        {
          "output_type": "stream",
          "name": "stdout",
          "text": [
            "loading annotations into memory...\n",
            "Done (t=0.02s)\n",
            "creating index...\n",
            "index created!\n"
          ]
        },
        {
          "output_type": "execute_result",
          "data": {
            "text/plain": [
              "(tensor([[[0., 0., 0.,  ..., 0., 0., 0.],\n",
              "          [0., 0., 0.,  ..., 0., 0., 0.],\n",
              "          [0., 0., 0.,  ..., 0., 0., 0.],\n",
              "          ...,\n",
              "          [0., 0., 0.,  ..., 0., 0., 0.],\n",
              "          [0., 0., 0.,  ..., 0., 0., 0.],\n",
              "          [0., 0., 0.,  ..., 0., 0., 0.]],\n",
              " \n",
              "         [[0., 0., 0.,  ..., 0., 0., 0.],\n",
              "          [0., 0., 0.,  ..., 0., 0., 0.],\n",
              "          [0., 0., 0.,  ..., 0., 0., 0.],\n",
              "          ...,\n",
              "          [0., 0., 0.,  ..., 0., 0., 0.],\n",
              "          [0., 0., 0.,  ..., 0., 0., 0.],\n",
              "          [0., 0., 0.,  ..., 0., 0., 0.]],\n",
              " \n",
              "         [[0., 0., 0.,  ..., 0., 0., 0.],\n",
              "          [0., 0., 0.,  ..., 0., 0., 0.],\n",
              "          [0., 0., 0.,  ..., 0., 0., 0.],\n",
              "          ...,\n",
              "          [0., 0., 0.,  ..., 0., 0., 0.],\n",
              "          [0., 0., 0.,  ..., 0., 0., 0.],\n",
              "          [0., 0., 0.,  ..., 0., 0., 0.]]]),\n",
              " {'boxes': tensor([[ 36.5625,  14.0625, 514.6875, 536.2500]]),\n",
              "  'labels': tensor([3]),\n",
              "  'image_id': tensor([100]),\n",
              "  'area': tensor([249670.9062]),\n",
              "  'iscrowd': tensor([0])})"
            ]
          },
          "metadata": {},
          "execution_count": 18
        }
      ],
      "source": [
        "train_dataset = PestDetection(root=dataset_path, transforms=get_transforms(True))\n",
        "train_dataset[100]"
      ]
    },
    {
      "cell_type": "code",
      "execution_count": null,
      "metadata": {
        "colab": {
          "base_uri": "https://localhost:8080/",
          "height": 286
        },
        "id": "05XHC552WZj4",
        "outputId": "f7a62977-520e-4b57-90f1-ae40a7f86294"
      },
      "outputs": [
        {
          "output_type": "execute_result",
          "data": {
            "text/plain": [
              "<matplotlib.image.AxesImage at 0x7f3344474940>"
            ]
          },
          "metadata": {},
          "execution_count": 19
        },
        {
          "output_type": "display_data",
          "data": {
            "text/plain": [
              "<Figure size 432x288 with 1 Axes>"
            ],
            "image/png": "[encoded data removed]"
          },
          "metadata": {
            "needs_background": "light"
          }
        }
      ],
      "source": [
        "# contoh data train yang sudah dikasih box\n",
        "sample = train_dataset[8]\n",
        "img_int = torch.tensor(sample[0] * 255, dtype=torch.uint8)\n",
        "plt.imshow(draw_bounding_boxes(\n",
        "    img_int, sample[1]['boxes'], [classes[i] for i in sample[1]['labels']], width=4\n",
        ").permute(1, 2, 0))"
      ]
    },
    {
      "cell_type": "code",
      "execution_count": null,
      "metadata": {
        "colab": {
          "base_uri": "https://localhost:8080/"
        },
        "id": "t2c9VeI6WeXa",
        "outputId": "3bc4b5da-0b6d-4521-d47f-1ea6d21f851e"
      },
      "outputs": [
        {
          "output_type": "execute_result",
          "data": {
            "text/plain": [
              "642"
            ]
          },
          "metadata": {},
          "execution_count": 20
        }
      ],
      "source": [
        "len(train_dataset)"
      ]
    },
    {
      "cell_type": "markdown",
      "metadata": {
        "id": "BjTmL4taOKch"
      },
      "source": [
        "Model Deep Learning Faster RCNN"
      ]
    },
    {
      "cell_type": "code",
      "execution_count": null,
      "metadata": {
        "id": "ruKFQYzWWha6",
        "colab": {
          "base_uri": "https://localhost:8080/",
          "height": 86,
          "referenced_widgets": [
            "a2cef3baae4349db92fae1e7773683d5",
            "18b890e78a8443c39a458afe3e693f1e",
            "ba5358e365c948449cd2bb0ea2264cf3",
            "e015b408e0854c5ebdf8dfdeb6e89aad",
            "9b304f6875044c48a93bab4f16605902",
            "b60c98c5eb064e6ea6d242bdd96b01f0",
            "5618d761d14e4a759fca86943b245fdd",
            "0244d46bb94f46829cf0af88c6360907",
            "97b862eca85943ea8db555db6d4e20a2",
            "1162bcc6cdc4445e90a59dacf4d35e17",
            "2e982d0594ee49bab5d2e0a5affc890b"
          ]
        },
        "outputId": "acf286f7-d7d4-40b8-c487-ef53568de42e"
      },
      "outputs": [
        {
          "output_type": "stream",
          "name": "stderr",
          "text": [
            "Downloading: \"https://download.pytorch.org/models/fasterrcnn_mobilenet_v3_large_fpn-fb6a3cc7.pth\" to /root/.cache/torch/hub/checkpoints/fasterrcnn_mobilenet_v3_large_fpn-fb6a3cc7.pth\n"
          ]
        },
        {
          "output_type": "display_data",
          "data": {
            "text/plain": [
              "  0%|          | 0.00/74.2M [00:00<?, ?B/s]"
            ],
            "application/vnd.jupyter.widget-view+json": {
              "version_major": 2,
              "version_minor": 0,
              "model_id": "a2cef3baae4349db92fae1e7773683d5"
            }
          },
          "metadata": {}
        }
      ],
      "source": [
        "model = models.detection.fasterrcnn_mobilenet_v3_large_fpn(pretrained=True)\n",
        "in_features = model.roi_heads.box_predictor.cls_score.in_features # we need to change the head\n",
        "model.roi_heads.box_predictor = models.detection.faster_rcnn.FastRCNNPredictor(in_features, n_classes)"
      ]
    },
    {
      "cell_type": "code",
      "execution_count": null,
      "metadata": {
        "colab": {
          "base_uri": "https://localhost:8080/"
        },
        "id": "u9pshWhjuTq5",
        "outputId": "8a731edc-00d8-469d-8675-ef61f227a79c"
      },
      "outputs": [
        {
          "output_type": "execute_result",
          "data": {
            "text/plain": [
              "1024"
            ]
          },
          "metadata": {},
          "execution_count": 22
        }
      ],
      "source": [
        "in_features"
      ]
    },
    {
      "cell_type": "markdown",
      "metadata": {
        "id": "DHXTZ1iwPGyI"
      },
      "source": [
        "Membuat dataset  untuk memudahkan masuk ke model "
      ]
    },
    {
      "cell_type": "code",
      "execution_count": null,
      "metadata": {
        "id": "iX0vgJpVWm7g"
      },
      "outputs": [],
      "source": [
        "def collate_fn(batch):\n",
        "    return tuple(zip(*batch))"
      ]
    },
    {
      "cell_type": "code",
      "source": [
        "def train_one_epoch(model, optimizer, loader, device, epoch):\n",
        "    model.to(device)\n",
        "    model.train()\n",
        "    \n",
        "#     lr_scheduler = None\n",
        "#     if epoch == 0:\n",
        "#         warmup_factor = 1.0 / 1000 # do lr warmup\n",
        "#         warmup_iters = min(1000, len(loader) - 1)\n",
        "        \n",
        "#         lr_scheduler = optim.lr_scheduler.LinearLR(optimizer, start_factor = warmup_factor, total_iters=warmup_iters)\n",
        "    \n",
        "    all_losses = []\n",
        "    all_losses_dict = []\n",
        "    for images, targets in tqdm(loader):\n",
        "      \n",
        "          images = list(image.to(device) for image in images)\n",
        "          targets = [{k: torch.tensor(v).to(device) for k, v in t.items()} for t in targets]\n",
        "          \n",
        "          loss_dict = model(images, targets) # the model computes the loss automatically if we pass in targets\n",
        "          losses = sum(loss for loss in loss_dict.values())\n",
        "          loss_dict_append = {k: v.item() for k, v in loss_dict.items()}\n",
        "          loss_value = losses.item()\n",
        "          \n",
        "          all_losses.append(loss_value)\n",
        "          all_losses_dict.append(loss_dict_append)\n",
        "          \n",
        "          if not math.isfinite(loss_value):\n",
        "              print(f\"Loss is {loss_value}, stopping trainig\") # train if loss becomes infinity\n",
        "              print(loss_dict)\n",
        "              sys.exit(1)\n",
        "          \n",
        "          optimizer.zero_grad()\n",
        "          losses.backward()\n",
        "          optimizer.step()\n",
        "        \n",
        "#         if lr_scheduler is not None:\n",
        "#             lr_scheduler.step() # \n",
        "        \n",
        "    all_losses_dict = pd.DataFrame(all_losses_dict) # for printing\n",
        "    print(\"Epoch {}, lr: {:.6f}, loss: {:.6f}, loss_classifier: {:.6f}, loss_box: {:.6f}, loss_rpn_box: {:.6f}, loss_object: {:.6f}\".format(\n",
        "        epoch, optimizer.param_groups[0]['lr'], np.mean(all_losses),\n",
        "        all_losses_dict['loss_classifier'].mean(),\n",
        "        all_losses_dict['loss_box_reg'].mean(),\n",
        "        all_losses_dict['loss_rpn_box_reg'].mean(),\n",
        "        all_losses_dict['loss_objectness'].mean()\n",
        "    ))\n",
        "    return(np.mean(all_losses))"
      ],
      "metadata": {
        "id": "BHrjWQMG0dyz"
      },
      "execution_count": null,
      "outputs": []
    },
    {
      "cell_type": "code",
      "source": [
        "LEARNING_RATE = 1e-5\n",
        "WEIGHT_DECAY = 5e-4"
      ],
      "metadata": {
        "id": "y7ywiegHNcrz"
      },
      "execution_count": null,
      "outputs": []
    },
    {
      "cell_type": "code",
      "execution_count": null,
      "metadata": {
        "id": "SqN7StbdWp5n",
        "colab": {
          "base_uri": "https://localhost:8080/"
        },
        "outputId": "0195ddee-11ff-4a50-b86e-bed93071462d"
      },
      "outputs": [
        {
          "output_type": "stream",
          "name": "stdout",
          "text": [
            "FOLD 0\n",
            "--------------------------------\n"
          ]
        },
        {
          "output_type": "stream",
          "name": "stderr",
          "text": [
            "100%|██████████| 161/161 [00:21<00:00,  7.54it/s]\n"
          ]
        },
        {
          "output_type": "stream",
          "name": "stdout",
          "text": [
            "Epoch 0, lr: 0.000010, loss: 0.182706, loss_classifier: 0.055045, loss_box: 0.117330, loss_rpn_box: 0.009440, loss_object: 0.000890\n"
          ]
        },
        {
          "output_type": "stream",
          "name": "stderr",
          "text": [
            "100%|██████████| 161/161 [00:21<00:00,  7.67it/s]\n"
          ]
        },
        {
          "output_type": "stream",
          "name": "stdout",
          "text": [
            "Epoch 1, lr: 0.000010, loss: 0.179620, loss_classifier: 0.053590, loss_box: 0.115650, loss_rpn_box: 0.009690, loss_object: 0.000691\n"
          ]
        },
        {
          "output_type": "stream",
          "name": "stderr",
          "text": [
            "100%|██████████| 161/161 [00:21<00:00,  7.64it/s]\n"
          ]
        },
        {
          "output_type": "stream",
          "name": "stdout",
          "text": [
            "Epoch 2, lr: 0.000010, loss: 0.180344, loss_classifier: 0.056583, loss_box: 0.113167, loss_rpn_box: 0.009504, loss_object: 0.001091\n"
          ]
        },
        {
          "output_type": "stream",
          "name": "stderr",
          "text": [
            "100%|██████████| 161/161 [00:23<00:00,  6.93it/s]\n"
          ]
        },
        {
          "output_type": "stream",
          "name": "stdout",
          "text": [
            "Epoch 3, lr: 0.000010, loss: 0.191958, loss_classifier: 0.059189, loss_box: 0.122012, loss_rpn_box: 0.009507, loss_object: 0.001250\n"
          ]
        },
        {
          "output_type": "stream",
          "name": "stderr",
          "text": [
            "100%|██████████| 161/161 [00:22<00:00,  7.20it/s]\n"
          ]
        },
        {
          "output_type": "stream",
          "name": "stdout",
          "text": [
            "Epoch 4, lr: 0.000010, loss: 0.184254, loss_classifier: 0.061644, loss_box: 0.112114, loss_rpn_box: 0.009514, loss_object: 0.000982\n"
          ]
        },
        {
          "output_type": "stream",
          "name": "stderr",
          "text": [
            "100%|██████████| 161/161 [00:21<00:00,  7.63it/s]\n"
          ]
        },
        {
          "output_type": "stream",
          "name": "stdout",
          "text": [
            "Epoch 5, lr: 0.000010, loss: 0.180282, loss_classifier: 0.051262, loss_box: 0.119350, loss_rpn_box: 0.009224, loss_object: 0.000446\n"
          ]
        },
        {
          "output_type": "stream",
          "name": "stderr",
          "text": [
            "100%|██████████| 161/161 [00:21<00:00,  7.60it/s]\n"
          ]
        },
        {
          "output_type": "stream",
          "name": "stdout",
          "text": [
            "Epoch 6, lr: 0.000010, loss: 0.168665, loss_classifier: 0.048672, loss_box: 0.110239, loss_rpn_box: 0.009215, loss_object: 0.000539\n"
          ]
        },
        {
          "output_type": "stream",
          "name": "stderr",
          "text": [
            "100%|██████████| 161/161 [00:21<00:00,  7.62it/s]\n"
          ]
        },
        {
          "output_type": "stream",
          "name": "stdout",
          "text": [
            "Epoch 7, lr: 0.000010, loss: 0.171023, loss_classifier: 0.050982, loss_box: 0.109652, loss_rpn_box: 0.009238, loss_object: 0.001151\n"
          ]
        },
        {
          "output_type": "stream",
          "name": "stderr",
          "text": [
            "100%|██████████| 161/161 [00:21<00:00,  7.61it/s]\n"
          ]
        },
        {
          "output_type": "stream",
          "name": "stdout",
          "text": [
            "Epoch 8, lr: 0.000010, loss: 0.177316, loss_classifier: 0.057237, loss_box: 0.109777, loss_rpn_box: 0.009173, loss_object: 0.001129\n"
          ]
        },
        {
          "output_type": "stream",
          "name": "stderr",
          "text": [
            "100%|██████████| 161/161 [00:21<00:00,  7.63it/s]\n"
          ]
        },
        {
          "output_type": "stream",
          "name": "stdout",
          "text": [
            "Epoch 9, lr: 0.000010, loss: 0.160077, loss_classifier: 0.050648, loss_box: 0.099881, loss_rpn_box: 0.008965, loss_object: 0.000583\n"
          ]
        },
        {
          "output_type": "stream",
          "name": "stderr",
          "text": [
            "100%|██████████| 161/161 [00:21<00:00,  7.60it/s]\n"
          ]
        },
        {
          "output_type": "stream",
          "name": "stdout",
          "text": [
            "Epoch 10, lr: 0.000010, loss: 0.169061, loss_classifier: 0.053068, loss_box: 0.106193, loss_rpn_box: 0.009159, loss_object: 0.000641\n"
          ]
        },
        {
          "output_type": "stream",
          "name": "stderr",
          "text": [
            "100%|██████████| 161/161 [00:21<00:00,  7.61it/s]\n"
          ]
        },
        {
          "output_type": "stream",
          "name": "stdout",
          "text": [
            "Epoch 11, lr: 0.000010, loss: 0.175465, loss_classifier: 0.052360, loss_box: 0.113128, loss_rpn_box: 0.008979, loss_object: 0.000998\n"
          ]
        },
        {
          "output_type": "stream",
          "name": "stderr",
          "text": [
            "100%|██████████| 161/161 [00:21<00:00,  7.61it/s]\n"
          ]
        },
        {
          "output_type": "stream",
          "name": "stdout",
          "text": [
            "Epoch 12, lr: 0.000010, loss: 0.167030, loss_classifier: 0.050695, loss_box: 0.106789, loss_rpn_box: 0.008912, loss_object: 0.000634\n"
          ]
        },
        {
          "output_type": "stream",
          "name": "stderr",
          "text": [
            "100%|██████████| 161/161 [00:21<00:00,  7.62it/s]\n"
          ]
        },
        {
          "output_type": "stream",
          "name": "stdout",
          "text": [
            "Epoch 13, lr: 0.000010, loss: 0.160864, loss_classifier: 0.049885, loss_box: 0.100913, loss_rpn_box: 0.008882, loss_object: 0.001184\n"
          ]
        },
        {
          "output_type": "stream",
          "name": "stderr",
          "text": [
            "100%|██████████| 161/161 [00:21<00:00,  7.62it/s]"
          ]
        },
        {
          "output_type": "stream",
          "name": "stdout",
          "text": [
            "Epoch 14, lr: 0.000010, loss: 0.160847, loss_classifier: 0.047636, loss_box: 0.103342, loss_rpn_box: 0.008909, loss_object: 0.000960\n",
            "FOLD 1\n",
            "--------------------------------\n"
          ]
        },
        {
          "output_type": "stream",
          "name": "stderr",
          "text": [
            "\n",
            "100%|██████████| 161/161 [00:21<00:00,  7.62it/s]\n"
          ]
        },
        {
          "output_type": "stream",
          "name": "stdout",
          "text": [
            "Epoch 0, lr: 0.000010, loss: 0.165923, loss_classifier: 0.051809, loss_box: 0.104550, loss_rpn_box: 0.008941, loss_object: 0.000623\n"
          ]
        },
        {
          "output_type": "stream",
          "name": "stderr",
          "text": [
            "100%|██████████| 161/161 [00:21<00:00,  7.59it/s]\n"
          ]
        },
        {
          "output_type": "stream",
          "name": "stdout",
          "text": [
            "Epoch 1, lr: 0.000010, loss: 0.163765, loss_classifier: 0.055026, loss_box: 0.098709, loss_rpn_box: 0.008817, loss_object: 0.001214\n"
          ]
        },
        {
          "output_type": "stream",
          "name": "stderr",
          "text": [
            "100%|██████████| 161/161 [00:21<00:00,  7.63it/s]\n"
          ]
        },
        {
          "output_type": "stream",
          "name": "stdout",
          "text": [
            "Epoch 2, lr: 0.000010, loss: 0.154947, loss_classifier: 0.048347, loss_box: 0.097221, loss_rpn_box: 0.008837, loss_object: 0.000543\n"
          ]
        },
        {
          "output_type": "stream",
          "name": "stderr",
          "text": [
            "100%|██████████| 161/161 [00:21<00:00,  7.60it/s]\n"
          ]
        },
        {
          "output_type": "stream",
          "name": "stdout",
          "text": [
            "Epoch 3, lr: 0.000010, loss: 0.165186, loss_classifier: 0.050583, loss_box: 0.104866, loss_rpn_box: 0.008968, loss_object: 0.000769\n"
          ]
        },
        {
          "output_type": "stream",
          "name": "stderr",
          "text": [
            "100%|██████████| 161/161 [00:21<00:00,  7.65it/s]\n"
          ]
        },
        {
          "output_type": "stream",
          "name": "stdout",
          "text": [
            "Epoch 4, lr: 0.000010, loss: 0.159283, loss_classifier: 0.046524, loss_box: 0.103123, loss_rpn_box: 0.008858, loss_object: 0.000778\n"
          ]
        },
        {
          "output_type": "stream",
          "name": "stderr",
          "text": [
            "100%|██████████| 161/161 [00:21<00:00,  7.62it/s]\n"
          ]
        },
        {
          "output_type": "stream",
          "name": "stdout",
          "text": [
            "Epoch 5, lr: 0.000010, loss: 0.164591, loss_classifier: 0.052560, loss_box: 0.101849, loss_rpn_box: 0.008729, loss_object: 0.001452\n"
          ]
        },
        {
          "output_type": "stream",
          "name": "stderr",
          "text": [
            "100%|██████████| 161/161 [00:21<00:00,  7.62it/s]\n"
          ]
        },
        {
          "output_type": "stream",
          "name": "stdout",
          "text": [
            "Epoch 6, lr: 0.000010, loss: 0.171585, loss_classifier: 0.058548, loss_box: 0.103307, loss_rpn_box: 0.008894, loss_object: 0.000835\n"
          ]
        },
        {
          "output_type": "stream",
          "name": "stderr",
          "text": [
            "100%|██████████| 161/161 [00:21<00:00,  7.60it/s]\n"
          ]
        },
        {
          "output_type": "stream",
          "name": "stdout",
          "text": [
            "Epoch 7, lr: 0.000010, loss: 0.170530, loss_classifier: 0.054256, loss_box: 0.106247, loss_rpn_box: 0.008752, loss_object: 0.001275\n"
          ]
        },
        {
          "output_type": "stream",
          "name": "stderr",
          "text": [
            "100%|██████████| 161/161 [00:21<00:00,  7.60it/s]\n"
          ]
        },
        {
          "output_type": "stream",
          "name": "stdout",
          "text": [
            "Epoch 8, lr: 0.000010, loss: 0.158949, loss_classifier: 0.046943, loss_box: 0.102476, loss_rpn_box: 0.008782, loss_object: 0.000748\n"
          ]
        },
        {
          "output_type": "stream",
          "name": "stderr",
          "text": [
            "100%|██████████| 161/161 [00:21<00:00,  7.65it/s]\n"
          ]
        },
        {
          "output_type": "stream",
          "name": "stdout",
          "text": [
            "Epoch 9, lr: 0.000010, loss: 0.149984, loss_classifier: 0.048648, loss_box: 0.091802, loss_rpn_box: 0.008705, loss_object: 0.000828\n"
          ]
        },
        {
          "output_type": "stream",
          "name": "stderr",
          "text": [
            "100%|██████████| 161/161 [00:21<00:00,  7.63it/s]\n"
          ]
        },
        {
          "output_type": "stream",
          "name": "stdout",
          "text": [
            "Epoch 10, lr: 0.000010, loss: 0.156384, loss_classifier: 0.048429, loss_box: 0.098860, loss_rpn_box: 0.008487, loss_object: 0.000608\n"
          ]
        },
        {
          "output_type": "stream",
          "name": "stderr",
          "text": [
            "100%|██████████| 161/161 [00:21<00:00,  7.66it/s]\n"
          ]
        },
        {
          "output_type": "stream",
          "name": "stdout",
          "text": [
            "Epoch 11, lr: 0.000010, loss: 0.157696, loss_classifier: 0.047098, loss_box: 0.101488, loss_rpn_box: 0.008585, loss_object: 0.000526\n"
          ]
        },
        {
          "output_type": "stream",
          "name": "stderr",
          "text": [
            "100%|██████████| 161/161 [00:20<00:00,  7.68it/s]\n"
          ]
        },
        {
          "output_type": "stream",
          "name": "stdout",
          "text": [
            "Epoch 12, lr: 0.000010, loss: 0.157910, loss_classifier: 0.047000, loss_box: 0.101931, loss_rpn_box: 0.008487, loss_object: 0.000492\n"
          ]
        },
        {
          "output_type": "stream",
          "name": "stderr",
          "text": [
            "100%|██████████| 161/161 [00:21<00:00,  7.64it/s]\n"
          ]
        },
        {
          "output_type": "stream",
          "name": "stdout",
          "text": [
            "Epoch 13, lr: 0.000010, loss: 0.143333, loss_classifier: 0.041677, loss_box: 0.092654, loss_rpn_box: 0.008493, loss_object: 0.000510\n"
          ]
        },
        {
          "output_type": "stream",
          "name": "stderr",
          "text": [
            "100%|██████████| 161/161 [00:20<00:00,  7.67it/s]"
          ]
        },
        {
          "output_type": "stream",
          "name": "stdout",
          "text": [
            "Epoch 14, lr: 0.000010, loss: 0.140849, loss_classifier: 0.043676, loss_box: 0.088142, loss_rpn_box: 0.008379, loss_object: 0.000652\n",
            "FOLD 2\n",
            "--------------------------------\n"
          ]
        },
        {
          "output_type": "stream",
          "name": "stderr",
          "text": [
            "\n",
            "100%|██████████| 161/161 [00:20<00:00,  7.68it/s]\n"
          ]
        },
        {
          "output_type": "stream",
          "name": "stdout",
          "text": [
            "Epoch 0, lr: 0.000010, loss: 0.151253, loss_classifier: 0.045773, loss_box: 0.096520, loss_rpn_box: 0.008469, loss_object: 0.000492\n"
          ]
        },
        {
          "output_type": "stream",
          "name": "stderr",
          "text": [
            "100%|██████████| 161/161 [00:20<00:00,  7.67it/s]\n"
          ]
        },
        {
          "output_type": "stream",
          "name": "stdout",
          "text": [
            "Epoch 1, lr: 0.000010, loss: 0.151109, loss_classifier: 0.043395, loss_box: 0.098873, loss_rpn_box: 0.008426, loss_object: 0.000415\n"
          ]
        },
        {
          "output_type": "stream",
          "name": "stderr",
          "text": [
            "100%|██████████| 161/161 [00:20<00:00,  7.68it/s]\n"
          ]
        },
        {
          "output_type": "stream",
          "name": "stdout",
          "text": [
            "Epoch 2, lr: 0.000010, loss: 0.146250, loss_classifier: 0.044200, loss_box: 0.093129, loss_rpn_box: 0.008226, loss_object: 0.000695\n"
          ]
        },
        {
          "output_type": "stream",
          "name": "stderr",
          "text": [
            "100%|██████████| 161/161 [00:21<00:00,  7.60it/s]\n"
          ]
        },
        {
          "output_type": "stream",
          "name": "stdout",
          "text": [
            "Epoch 3, lr: 0.000010, loss: 0.153330, loss_classifier: 0.046137, loss_box: 0.097699, loss_rpn_box: 0.008487, loss_object: 0.001007\n"
          ]
        },
        {
          "output_type": "stream",
          "name": "stderr",
          "text": [
            "100%|██████████| 161/161 [00:20<00:00,  7.68it/s]\n"
          ]
        },
        {
          "output_type": "stream",
          "name": "stdout",
          "text": [
            "Epoch 4, lr: 0.000010, loss: 0.144075, loss_classifier: 0.041314, loss_box: 0.094056, loss_rpn_box: 0.008189, loss_object: 0.000516\n"
          ]
        },
        {
          "output_type": "stream",
          "name": "stderr",
          "text": [
            "100%|██████████| 161/161 [00:20<00:00,  7.67it/s]\n"
          ]
        },
        {
          "output_type": "stream",
          "name": "stdout",
          "text": [
            "Epoch 5, lr: 0.000010, loss: 0.138578, loss_classifier: 0.042773, loss_box: 0.086967, loss_rpn_box: 0.008366, loss_object: 0.000472\n"
          ]
        },
        {
          "output_type": "stream",
          "name": "stderr",
          "text": [
            "100%|██████████| 161/161 [00:21<00:00,  7.64it/s]\n"
          ]
        },
        {
          "output_type": "stream",
          "name": "stdout",
          "text": [
            "Epoch 6, lr: 0.000010, loss: 0.148091, loss_classifier: 0.044722, loss_box: 0.094591, loss_rpn_box: 0.008176, loss_object: 0.000601\n"
          ]
        },
        {
          "output_type": "stream",
          "name": "stderr",
          "text": [
            "100%|██████████| 161/161 [00:20<00:00,  7.68it/s]\n"
          ]
        },
        {
          "output_type": "stream",
          "name": "stdout",
          "text": [
            "Epoch 7, lr: 0.000010, loss: 0.142327, loss_classifier: 0.045681, loss_box: 0.087883, loss_rpn_box: 0.008098, loss_object: 0.000665\n"
          ]
        },
        {
          "output_type": "stream",
          "name": "stderr",
          "text": [
            "100%|██████████| 161/161 [00:21<00:00,  7.66it/s]\n"
          ]
        },
        {
          "output_type": "stream",
          "name": "stdout",
          "text": [
            "Epoch 8, lr: 0.000010, loss: 0.144860, loss_classifier: 0.043556, loss_box: 0.092419, loss_rpn_box: 0.008173, loss_object: 0.000712\n"
          ]
        },
        {
          "output_type": "stream",
          "name": "stderr",
          "text": [
            "100%|██████████| 161/161 [00:21<00:00,  7.66it/s]\n"
          ]
        },
        {
          "output_type": "stream",
          "name": "stdout",
          "text": [
            "Epoch 9, lr: 0.000010, loss: 0.140321, loss_classifier: 0.042599, loss_box: 0.088844, loss_rpn_box: 0.008088, loss_object: 0.000791\n"
          ]
        },
        {
          "output_type": "stream",
          "name": "stderr",
          "text": [
            "100%|██████████| 161/161 [00:20<00:00,  7.69it/s]\n"
          ]
        },
        {
          "output_type": "stream",
          "name": "stdout",
          "text": [
            "Epoch 10, lr: 0.000010, loss: 0.138859, loss_classifier: 0.043539, loss_box: 0.086755, loss_rpn_box: 0.008075, loss_object: 0.000489\n"
          ]
        },
        {
          "output_type": "stream",
          "name": "stderr",
          "text": [
            "100%|██████████| 161/161 [00:21<00:00,  7.65it/s]\n"
          ]
        },
        {
          "output_type": "stream",
          "name": "stdout",
          "text": [
            "Epoch 11, lr: 0.000010, loss: 0.131990, loss_classifier: 0.040689, loss_box: 0.082939, loss_rpn_box: 0.007895, loss_object: 0.000467\n"
          ]
        },
        {
          "output_type": "stream",
          "name": "stderr",
          "text": [
            "100%|██████████| 161/161 [00:21<00:00,  7.62it/s]\n"
          ]
        },
        {
          "output_type": "stream",
          "name": "stdout",
          "text": [
            "Epoch 12, lr: 0.000010, loss: 0.134791, loss_classifier: 0.048495, loss_box: 0.077045, loss_rpn_box: 0.007965, loss_object: 0.001286\n"
          ]
        },
        {
          "output_type": "stream",
          "name": "stderr",
          "text": [
            "100%|██████████| 161/161 [00:20<00:00,  7.70it/s]\n"
          ]
        },
        {
          "output_type": "stream",
          "name": "stdout",
          "text": [
            "Epoch 13, lr: 0.000010, loss: 0.149497, loss_classifier: 0.047534, loss_box: 0.093347, loss_rpn_box: 0.008118, loss_object: 0.000498\n"
          ]
        },
        {
          "output_type": "stream",
          "name": "stderr",
          "text": [
            "100%|██████████| 161/161 [00:21<00:00,  7.65it/s]\n"
          ]
        },
        {
          "output_type": "stream",
          "name": "stdout",
          "text": [
            "Epoch 14, lr: 0.000010, loss: 0.136556, loss_classifier: 0.042816, loss_box: 0.085169, loss_rpn_box: 0.007999, loss_object: 0.000572\n",
            "FOLD 3\n",
            "--------------------------------\n"
          ]
        },
        {
          "output_type": "stream",
          "name": "stderr",
          "text": [
            "100%|██████████| 161/161 [00:21<00:00,  7.66it/s]\n"
          ]
        },
        {
          "output_type": "stream",
          "name": "stdout",
          "text": [
            "Epoch 0, lr: 0.000010, loss: 0.144330, loss_classifier: 0.043360, loss_box: 0.092307, loss_rpn_box: 0.008098, loss_object: 0.000565\n"
          ]
        },
        {
          "output_type": "stream",
          "name": "stderr",
          "text": [
            "100%|██████████| 161/161 [00:21<00:00,  7.64it/s]\n"
          ]
        },
        {
          "output_type": "stream",
          "name": "stdout",
          "text": [
            "Epoch 1, lr: 0.000010, loss: 0.133704, loss_classifier: 0.041267, loss_box: 0.084291, loss_rpn_box: 0.007846, loss_object: 0.000300\n"
          ]
        },
        {
          "output_type": "stream",
          "name": "stderr",
          "text": [
            "100%|██████████| 161/161 [00:20<00:00,  7.70it/s]\n"
          ]
        },
        {
          "output_type": "stream",
          "name": "stdout",
          "text": [
            "Epoch 2, lr: 0.000010, loss: 0.136901, loss_classifier: 0.039265, loss_box: 0.089354, loss_rpn_box: 0.007890, loss_object: 0.000393\n"
          ]
        },
        {
          "output_type": "stream",
          "name": "stderr",
          "text": [
            "100%|██████████| 161/161 [00:20<00:00,  7.67it/s]\n"
          ]
        },
        {
          "output_type": "stream",
          "name": "stdout",
          "text": [
            "Epoch 3, lr: 0.000010, loss: 0.140347, loss_classifier: 0.040465, loss_box: 0.091659, loss_rpn_box: 0.007658, loss_object: 0.000565\n"
          ]
        },
        {
          "output_type": "stream",
          "name": "stderr",
          "text": [
            "100%|██████████| 161/161 [00:21<00:00,  7.64it/s]\n"
          ]
        },
        {
          "output_type": "stream",
          "name": "stdout",
          "text": [
            "Epoch 4, lr: 0.000010, loss: 0.134526, loss_classifier: 0.042631, loss_box: 0.083833, loss_rpn_box: 0.007724, loss_object: 0.000338\n"
          ]
        },
        {
          "output_type": "stream",
          "name": "stderr",
          "text": [
            "100%|██████████| 161/161 [00:20<00:00,  7.69it/s]\n"
          ]
        },
        {
          "output_type": "stream",
          "name": "stdout",
          "text": [
            "Epoch 5, lr: 0.000010, loss: 0.138984, loss_classifier: 0.043299, loss_box: 0.087221, loss_rpn_box: 0.007972, loss_object: 0.000492\n"
          ]
        },
        {
          "output_type": "stream",
          "name": "stderr",
          "text": [
            "100%|██████████| 161/161 [00:21<00:00,  7.64it/s]\n"
          ]
        },
        {
          "output_type": "stream",
          "name": "stdout",
          "text": [
            "Epoch 6, lr: 0.000010, loss: 0.148036, loss_classifier: 0.043573, loss_box: 0.096293, loss_rpn_box: 0.007774, loss_object: 0.000396\n"
          ]
        },
        {
          "output_type": "stream",
          "name": "stderr",
          "text": [
            "100%|██████████| 161/161 [00:20<00:00,  7.67it/s]\n"
          ]
        },
        {
          "output_type": "stream",
          "name": "stdout",
          "text": [
            "Epoch 7, lr: 0.000010, loss: 0.136767, loss_classifier: 0.043489, loss_box: 0.084891, loss_rpn_box: 0.007764, loss_object: 0.000623\n"
          ]
        },
        {
          "output_type": "stream",
          "name": "stderr",
          "text": [
            "100%|██████████| 161/161 [00:20<00:00,  7.67it/s]\n"
          ]
        },
        {
          "output_type": "stream",
          "name": "stdout",
          "text": [
            "Epoch 8, lr: 0.000010, loss: 0.134740, loss_classifier: 0.037498, loss_box: 0.089021, loss_rpn_box: 0.007837, loss_object: 0.000383\n"
          ]
        },
        {
          "output_type": "stream",
          "name": "stderr",
          "text": [
            "100%|██████████| 161/161 [00:20<00:00,  7.69it/s]\n"
          ]
        },
        {
          "output_type": "stream",
          "name": "stdout",
          "text": [
            "Epoch 9, lr: 0.000010, loss: 0.120228, loss_classifier: 0.034034, loss_box: 0.078190, loss_rpn_box: 0.007617, loss_object: 0.000387\n"
          ]
        },
        {
          "output_type": "stream",
          "name": "stderr",
          "text": [
            "100%|██████████| 161/161 [00:20<00:00,  7.70it/s]\n"
          ]
        },
        {
          "output_type": "stream",
          "name": "stdout",
          "text": [
            "Epoch 10, lr: 0.000010, loss: 0.122891, loss_classifier: 0.034892, loss_box: 0.079926, loss_rpn_box: 0.007773, loss_object: 0.000300\n"
          ]
        },
        {
          "output_type": "stream",
          "name": "stderr",
          "text": [
            "100%|██████████| 161/161 [00:20<00:00,  7.67it/s]\n"
          ]
        },
        {
          "output_type": "stream",
          "name": "stdout",
          "text": [
            "Epoch 11, lr: 0.000010, loss: 0.121867, loss_classifier: 0.037883, loss_box: 0.076028, loss_rpn_box: 0.007637, loss_object: 0.000319\n"
          ]
        },
        {
          "output_type": "stream",
          "name": "stderr",
          "text": [
            "100%|██████████| 161/161 [00:20<00:00,  7.68it/s]\n"
          ]
        },
        {
          "output_type": "stream",
          "name": "stdout",
          "text": [
            "Epoch 12, lr: 0.000010, loss: 0.128089, loss_classifier: 0.039689, loss_box: 0.080382, loss_rpn_box: 0.007574, loss_object: 0.000443\n"
          ]
        },
        {
          "output_type": "stream",
          "name": "stderr",
          "text": [
            "100%|██████████| 161/161 [00:20<00:00,  7.72it/s]\n"
          ]
        },
        {
          "output_type": "stream",
          "name": "stdout",
          "text": [
            "Epoch 13, lr: 0.000010, loss: 0.126407, loss_classifier: 0.038090, loss_box: 0.080423, loss_rpn_box: 0.007577, loss_object: 0.000317\n"
          ]
        },
        {
          "output_type": "stream",
          "name": "stderr",
          "text": [
            "100%|██████████| 161/161 [00:20<00:00,  7.73it/s]\n"
          ]
        },
        {
          "output_type": "stream",
          "name": "stdout",
          "text": [
            "Epoch 14, lr: 0.000010, loss: 0.132078, loss_classifier: 0.036795, loss_box: 0.087330, loss_rpn_box: 0.007616, loss_object: 0.000337\n",
            "FOLD 4\n",
            "--------------------------------\n"
          ]
        },
        {
          "output_type": "stream",
          "name": "stderr",
          "text": [
            "100%|██████████| 161/161 [00:21<00:00,  7.67it/s]\n"
          ]
        },
        {
          "output_type": "stream",
          "name": "stdout",
          "text": [
            "Epoch 0, lr: 0.000010, loss: 0.126074, loss_classifier: 0.037880, loss_box: 0.080376, loss_rpn_box: 0.007309, loss_object: 0.000509\n"
          ]
        },
        {
          "output_type": "stream",
          "name": "stderr",
          "text": [
            "100%|██████████| 161/161 [00:20<00:00,  7.70it/s]\n"
          ]
        },
        {
          "output_type": "stream",
          "name": "stdout",
          "text": [
            "Epoch 1, lr: 0.000010, loss: 0.133338, loss_classifier: 0.039733, loss_box: 0.085676, loss_rpn_box: 0.007517, loss_object: 0.000412\n"
          ]
        },
        {
          "output_type": "stream",
          "name": "stderr",
          "text": [
            "100%|██████████| 161/161 [00:20<00:00,  7.71it/s]\n"
          ]
        },
        {
          "output_type": "stream",
          "name": "stdout",
          "text": [
            "Epoch 2, lr: 0.000010, loss: 0.128124, loss_classifier: 0.038200, loss_box: 0.082041, loss_rpn_box: 0.007476, loss_object: 0.000407\n"
          ]
        },
        {
          "output_type": "stream",
          "name": "stderr",
          "text": [
            "100%|██████████| 161/161 [00:20<00:00,  7.71it/s]\n"
          ]
        },
        {
          "output_type": "stream",
          "name": "stdout",
          "text": [
            "Epoch 3, lr: 0.000010, loss: 0.125824, loss_classifier: 0.040344, loss_box: 0.077685, loss_rpn_box: 0.007480, loss_object: 0.000316\n"
          ]
        },
        {
          "output_type": "stream",
          "name": "stderr",
          "text": [
            "100%|██████████| 161/161 [00:20<00:00,  7.69it/s]\n"
          ]
        },
        {
          "output_type": "stream",
          "name": "stdout",
          "text": [
            "Epoch 4, lr: 0.000010, loss: 0.127012, loss_classifier: 0.035865, loss_box: 0.083516, loss_rpn_box: 0.007238, loss_object: 0.000393\n"
          ]
        },
        {
          "output_type": "stream",
          "name": "stderr",
          "text": [
            "100%|██████████| 161/161 [00:21<00:00,  7.64it/s]\n"
          ]
        },
        {
          "output_type": "stream",
          "name": "stdout",
          "text": [
            "Epoch 5, lr: 0.000010, loss: 0.122786, loss_classifier: 0.037857, loss_box: 0.076827, loss_rpn_box: 0.007412, loss_object: 0.000689\n"
          ]
        },
        {
          "output_type": "stream",
          "name": "stderr",
          "text": [
            "100%|██████████| 161/161 [00:20<00:00,  7.73it/s]\n"
          ]
        },
        {
          "output_type": "stream",
          "name": "stdout",
          "text": [
            "Epoch 6, lr: 0.000010, loss: 0.118524, loss_classifier: 0.036109, loss_box: 0.074641, loss_rpn_box: 0.007449, loss_object: 0.000324\n"
          ]
        },
        {
          "output_type": "stream",
          "name": "stderr",
          "text": [
            "100%|██████████| 161/161 [00:20<00:00,  7.71it/s]\n"
          ]
        },
        {
          "output_type": "stream",
          "name": "stdout",
          "text": [
            "Epoch 7, lr: 0.000010, loss: 0.118997, loss_classifier: 0.034855, loss_box: 0.076547, loss_rpn_box: 0.007393, loss_object: 0.000203\n"
          ]
        },
        {
          "output_type": "stream",
          "name": "stderr",
          "text": [
            "100%|██████████| 161/161 [00:20<00:00,  7.70it/s]\n"
          ]
        },
        {
          "output_type": "stream",
          "name": "stdout",
          "text": [
            "Epoch 8, lr: 0.000010, loss: 0.119705, loss_classifier: 0.034719, loss_box: 0.077371, loss_rpn_box: 0.007350, loss_object: 0.000265\n"
          ]
        },
        {
          "output_type": "stream",
          "name": "stderr",
          "text": [
            "100%|██████████| 161/161 [00:20<00:00,  7.71it/s]\n"
          ]
        },
        {
          "output_type": "stream",
          "name": "stdout",
          "text": [
            "Epoch 9, lr: 0.000010, loss: 0.125251, loss_classifier: 0.039425, loss_box: 0.078092, loss_rpn_box: 0.007239, loss_object: 0.000495\n"
          ]
        },
        {
          "output_type": "stream",
          "name": "stderr",
          "text": [
            "100%|██████████| 161/161 [00:20<00:00,  7.71it/s]\n"
          ]
        },
        {
          "output_type": "stream",
          "name": "stdout",
          "text": [
            "Epoch 10, lr: 0.000010, loss: 0.119098, loss_classifier: 0.035071, loss_box: 0.076508, loss_rpn_box: 0.007252, loss_object: 0.000268\n"
          ]
        },
        {
          "output_type": "stream",
          "name": "stderr",
          "text": [
            "100%|██████████| 161/161 [00:20<00:00,  7.69it/s]\n"
          ]
        },
        {
          "output_type": "stream",
          "name": "stdout",
          "text": [
            "Epoch 11, lr: 0.000010, loss: 0.124547, loss_classifier: 0.037165, loss_box: 0.079809, loss_rpn_box: 0.007220, loss_object: 0.000353\n"
          ]
        },
        {
          "output_type": "stream",
          "name": "stderr",
          "text": [
            "100%|██████████| 161/161 [00:20<00:00,  7.73it/s]\n"
          ]
        },
        {
          "output_type": "stream",
          "name": "stdout",
          "text": [
            "Epoch 12, lr: 0.000010, loss: 0.122648, loss_classifier: 0.036363, loss_box: 0.078626, loss_rpn_box: 0.007261, loss_object: 0.000397\n"
          ]
        },
        {
          "output_type": "stream",
          "name": "stderr",
          "text": [
            "100%|██████████| 161/161 [00:20<00:00,  7.71it/s]\n"
          ]
        },
        {
          "output_type": "stream",
          "name": "stdout",
          "text": [
            "Epoch 13, lr: 0.000010, loss: 0.118673, loss_classifier: 0.034044, loss_box: 0.077023, loss_rpn_box: 0.007238, loss_object: 0.000368\n"
          ]
        },
        {
          "output_type": "stream",
          "name": "stderr",
          "text": [
            "100%|██████████| 161/161 [00:20<00:00,  7.71it/s]\n"
          ]
        },
        {
          "output_type": "stream",
          "name": "stdout",
          "text": [
            "Epoch 14, lr: 0.000010, loss: 0.129016, loss_classifier: 0.037114, loss_box: 0.084525, loss_rpn_box: 0.007148, loss_object: 0.000229\n"
          ]
        }
      ],
      "source": [
        "from sklearn.model_selection import KFold\n",
        "\n",
        "dataset = train_dataset\n",
        "k_folds = 5\n",
        "\n",
        "kfold = KFold(n_splits=k_folds, shuffle=True)\n",
        "avg_train_loss = []\n",
        "avg_val_loss = []\n",
        "# output = model(images, targets)\n",
        "for fold, (train_ids, test_ids) in enumerate(kfold.split(dataset)):\n",
        "  print(f'FOLD {fold}')\n",
        "  print('--------------------------------')\n",
        "  train_subsampler = torch.utils.data.SubsetRandomSampler(train_ids)\n",
        "  \n",
        "  train_loader = DataLoader(train_dataset, batch_size=4, shuffle=True, num_workers=4, collate_fn=collate_fn)\n",
        "\n",
        "  images,targets = next(iter(train_loader))\n",
        "\n",
        "  images = list(image for image in images)\n",
        "  targets = [{k:v for k, v in t.items()} for t in targets]\n",
        "  \n",
        "  # output = model(images, targets)\n",
        "\n",
        "  device = torch.device(\"cuda\")\n",
        "  \n",
        "  model = model.to(device)\n",
        "\n",
        "  optimizer = torch.optim.AdamW(params=model.parameters(),\n",
        "                                  lr=LEARNING_RATE,\n",
        "                                  weight_decay=WEIGHT_DECAY)\n",
        "\n",
        "  train_error =[]\n",
        "  num_epochs=15\n",
        "  for epoch in range(num_epochs):\n",
        "    x = train_one_epoch(model, optimizer, train_loader, device, epoch)\n",
        "    train_error.append(x)\n",
        "#     lr_scheduler.step()\n",
        "  avg_train_loss.append(sum(train_error) / len(train_error))"
      ]
    },
    {
      "cell_type": "code",
      "source": [
        "avg_train_loss"
      ],
      "metadata": {
        "colab": {
          "base_uri": "https://localhost:8080/"
        },
        "id": "Qp0DgOzUbzAN",
        "outputId": "653c55b3-2b05-437d-aab7-ba0dc681efa8"
      },
      "execution_count": null,
      "outputs": [
        {
          "output_type": "execute_result",
          "data": {
            "text/plain": [
              "[0.17396757585260683,\n",
              " 0.15872766525941603,\n",
              " 0.14345909189857065,\n",
              " 0.1333263595274208,\n",
              " 0.12397458521228895]"
            ]
          },
          "metadata": {},
          "execution_count": 102
        }
      ]
    },
    {
      "cell_type": "markdown",
      "metadata": {
        "id": "M2vlvrWKPmMX"
      },
      "source": []
    },
    {
      "cell_type": "code",
      "source": [
        "index = np.arange(5)\n",
        "x_label = [0,1,2,3,4]\n",
        "bar_width = 0.35\n",
        "\n",
        "fig, ax = plt.subplots()\n",
        "train = ax.bar(index, avg_train_loss, bar_width,\n",
        "                label=\"Train Loss\")\n",
        "\n",
        "# valid = ax.bar(index+bar_width, avg_val_loss,\n",
        "#                  bar_width, label=\"Validation Loss\")\n",
        "\n",
        "ax.set_xlabel('Fold')\n",
        "ax.set_ylabel('Loss')\n",
        "ax.set_title('Training & Validation Loss')\n",
        "ax.set_xticks(index + bar_width / 2)\n",
        "ax.set_xticklabels(x_label)\n",
        "\n",
        "# ax.set_xticklabels([\"ASB\", \"Violence\", \"Theft\", \"Public Order\", \"Drugs\"])\n",
        "ax.legend()\n",
        "\n",
        "plt.show()"
      ],
      "metadata": {
        "id": "VSzbN5wwlWYZ",
        "outputId": "8d98b74d-9662-46ba-fe81-1497e5a6db82",
        "colab": {
          "base_uri": "https://localhost:8080/",
          "height": 295
        }
      },
      "execution_count": null,
      "outputs": [
        {
          "output_type": "display_data",
          "data": {
            "text/plain": [
              "<Figure size 432x288 with 1 Axes>"
            ],
            "image/png": "[encoded data removed]"
          },
          "metadata": {
            "needs_background": "light"
          }
        }
      ]
    },
    {
      "cell_type": "code",
      "source": [
        "plt.subplot(2, 1, 2)\n",
        "plt.plot(avg_train_loss, label='Training Loss')\n",
        "# ?plt.plot(avg_val_loss, label='Validation Loss')\n",
        "plt.legend()\n",
        "plt.title('Training Loss')\n",
        "plt.axvline(4,  label=\"Epoch\")\n",
        "# plt.ylabel('merror')\n",
        "plt.ylabel('Loss')\n",
        "plt.xlabel('K-fold')\n",
        "plt.show()"
      ],
      "metadata": {
        "colab": {
          "base_uri": "https://localhost:8080/",
          "height": 177
        },
        "id": "uv33e6n-lHip",
        "outputId": "110eab5a-bcc9-45b2-df8f-0134e1e7b7a4"
      },
      "execution_count": null,
      "outputs": [
        {
          "output_type": "display_data",
          "data": {
            "text/plain": [
              "<Figure size 432x288 with 1 Axes>"
            ],
            "image/png": "[encoded data removed]"
          },
          "metadata": {
            "needs_background": "light"
          }
        }
      ]
    },
    {
      "cell_type": "code",
      "execution_count": null,
      "metadata": {
        "id": "wtnPFb3J9eNn"
      },
      "outputs": [],
      "source": [
        "model.eval()\n",
        "torch.cuda.empty_cache()"
      ]
    },
    {
      "cell_type": "code",
      "execution_count": null,
      "metadata": {
        "colab": {
          "base_uri": "https://localhost:8080/"
        },
        "id": "yvCst0zZ9gkK",
        "outputId": "31a51516-e93a-4b93-ddee-60db101670aa"
      },
      "outputs": [
        {
          "output_type": "stream",
          "name": "stdout",
          "text": [
            "loading annotations into memory...\n",
            "Done (t=0.35s)\n",
            "creating index...\n",
            "index created!\n"
          ]
        }
      ],
      "source": [
        "test_dataset = PestDetection(root=dataset_path, split=\"test\", transforms=get_transforms(False))"
      ]
    },
    {
      "cell_type": "code",
      "execution_count": null,
      "metadata": {
        "colab": {
          "base_uri": "https://localhost:8080/"
        },
        "id": "RPoB9iBqPgko",
        "outputId": "59dcee83-cf5c-4d24-fe36-e12f3d6802ef"
      },
      "outputs": [
        {
          "output_type": "execute_result",
          "data": {
            "text/plain": [
              "Dataset PestDetection\n",
              "    Number of datapoints: 170\n",
              "    Root location: /content/drive/MyDrive/Dataset/\n",
              "    Compose([\n",
              "  Resize(always_apply=False, p=1, height=600, width=600, interpolation=1),\n",
              "  ToTensorV2(always_apply=True, p=1.0, transpose_mask=False),\n",
              "], p=1.0, bbox_params={'format': 'coco', 'label_fields': None, 'min_area': 0.0, 'min_visibility': 0.0, 'check_each_transform': True}, keypoint_params=None, additional_targets={})"
            ]
          },
          "metadata": {},
          "execution_count": 29
        }
      ],
      "source": [
        "test_dataset"
      ]
    },
    {
      "cell_type": "code",
      "execution_count": null,
      "metadata": {
        "colab": {
          "base_uri": "https://localhost:8080/"
        },
        "id": "sIj2toz7_zS3",
        "outputId": "500dc428-8fa4-4778-c8ca-49bb69273b2b"
      },
      "outputs": [
        {
          "output_type": "execute_result",
          "data": {
            "text/plain": [
              "170"
            ]
          },
          "metadata": {},
          "execution_count": 30
        }
      ],
      "source": [
        "len(test_dataset)"
      ]
    },
    {
      "cell_type": "code",
      "execution_count": 3,
      "metadata": {
        "id": "WO6PSqEVYz6N",
        "colab": {
          "base_uri": "https://localhost:8080/",
          "height": 424
        },
        "outputId": "0407d2ad-2d42-4edb-f3e2-9b27b2f77ffe"
      },
      "outputs": [
        {
          "output_type": "execute_result",
          "data": {
            "text/plain": [
              "                                              filename   Belalang   Sehat  \\\n",
              "0    Wereng-33-_jpg.rf.0023f384c26e7d66c8bb905c8fa2...          0       0   \n",
              "1    Wereng-72-_jpg.rf.0315ec5d8678d3be183582ce1d0d...          0       0   \n",
              "2    Wereng-25-_jpg.rf.081b03ea5f5b1276fa21e4512f04...          0       0   \n",
              "3    Ulat-69-_jpg.rf.088d9fd97dc296be8218328df3a723...          0       0   \n",
              "4    Ulat-62-_jpg.rf.08b9f9275628ae55e0353af40f1230...          1       0   \n",
              "..                                                 ...        ...     ...   \n",
              "165  Ulat-91-_jpg.rf.fd8ce17c9ae10811eddf2db9308ede...          0       0   \n",
              "166  Ulat-78-_jpg.rf.fddb4585975965e29ed434ad977019...          0       0   \n",
              "167  Wereng-52-_jpg.rf.ffdd05dabb56269f1bd6a8371001...          0       0   \n",
              "168  Wereng-78-_jpg.rf.fd0f2c13bc628d2e2d3492be8dbc...          0       0   \n",
              "169  Ulat-16-_jpg.rf.ff2ab7d76a20b5cc7358e7e7692649...          0       0   \n",
              "\n",
              "      Ulat   Wereng  \n",
              "0        0        1  \n",
              "1        0        1  \n",
              "2        0        1  \n",
              "3        1        0  \n",
              "4        0        0  \n",
              "..     ...      ...  \n",
              "165      1        0  \n",
              "166      1        0  \n",
              "167      0        1  \n",
              "168      0        1  \n",
              "169      1        0  \n",
              "\n",
              "[170 rows x 5 columns]"
            ],
            "text/html": [
              "\n",
              "  <div id=\"df-3f488482-c992-41af-aa1e-6ee53d9cc328\">\n",
              "    <div class=\"colab-df-container\">\n",
              "      <div>\n",
              "<style scoped>\n",
              "    .dataframe tbody tr th:only-of-type {\n",
              "        vertical-align: middle;\n",
              "    }\n",
              "\n",
              "    .dataframe tbody tr th {\n",
              "        vertical-align: top;\n",
              "    }\n",
              "\n",
              "    .dataframe thead th {\n",
              "        text-align: right;\n",
              "    }\n",
              "</style>\n",
              "<table border=\"1\" class=\"dataframe\">\n",
              "  <thead>\n",
              "    <tr style=\"text-align: right;\">\n",
              "      <th></th>\n",
              "      <th>filename</th>\n",
              "      <th>Belalang</th>\n",
              "      <th>Sehat</th>\n",
              "      <th>Ulat</th>\n",
              "      <th>Wereng</th>\n",
              "    </tr>\n",
              "  </thead>\n",
              "  <tbody>\n",
              "    <tr>\n",
              "      <th>0</th>\n",
              "      <td>Wereng-33-_jpg.rf.0023f384c26e7d66c8bb905c8fa2...</td>\n",
              "      <td>0</td>\n",
              "      <td>0</td>\n",
              "      <td>0</td>\n",
              "      <td>1</td>\n",
              "    </tr>\n",
              "    <tr>\n",
              "      <th>1</th>\n",
              "      <td>Wereng-72-_jpg.rf.0315ec5d8678d3be183582ce1d0d...</td>\n",
              "      <td>0</td>\n",
              "      <td>0</td>\n",
              "      <td>0</td>\n",
              "      <td>1</td>\n",
              "    </tr>\n",
              "    <tr>\n",
              "      <th>2</th>\n",
              "      <td>Wereng-25-_jpg.rf.081b03ea5f5b1276fa21e4512f04...</td>\n",
              "      <td>0</td>\n",
              "      <td>0</td>\n",
              "      <td>0</td>\n",
              "      <td>1</td>\n",
              "    </tr>\n",
              "    <tr>\n",
              "      <th>3</th>\n",
              "      <td>Ulat-69-_jpg.rf.088d9fd97dc296be8218328df3a723...</td>\n",
              "      <td>0</td>\n",
              "      <td>0</td>\n",
              "      <td>1</td>\n",
              "      <td>0</td>\n",
              "    </tr>\n",
              "    <tr>\n",
              "      <th>4</th>\n",
              "      <td>Ulat-62-_jpg.rf.08b9f9275628ae55e0353af40f1230...</td>\n",
              "      <td>1</td>\n",
              "      <td>0</td>\n",
              "      <td>0</td>\n",
              "      <td>0</td>\n",
              "    </tr>\n",
              "    <tr>\n",
              "      <th>...</th>\n",
              "      <td>...</td>\n",
              "      <td>...</td>\n",
              "      <td>...</td>\n",
              "      <td>...</td>\n",
              "      <td>...</td>\n",
              "    </tr>\n",
              "    <tr>\n",
              "      <th>165</th>\n",
              "      <td>Ulat-91-_jpg.rf.fd8ce17c9ae10811eddf2db9308ede...</td>\n",
              "      <td>0</td>\n",
              "      <td>0</td>\n",
              "      <td>1</td>\n",
              "      <td>0</td>\n",
              "    </tr>\n",
              "    <tr>\n",
              "      <th>166</th>\n",
              "      <td>Ulat-78-_jpg.rf.fddb4585975965e29ed434ad977019...</td>\n",
              "      <td>0</td>\n",
              "      <td>0</td>\n",
              "      <td>1</td>\n",
              "      <td>0</td>\n",
              "    </tr>\n",
              "    <tr>\n",
              "      <th>167</th>\n",
              "      <td>Wereng-52-_jpg.rf.ffdd05dabb56269f1bd6a8371001...</td>\n",
              "      <td>0</td>\n",
              "      <td>0</td>\n",
              "      <td>0</td>\n",
              "      <td>1</td>\n",
              "    </tr>\n",
              "    <tr>\n",
              "      <th>168</th>\n",
              "      <td>Wereng-78-_jpg.rf.fd0f2c13bc628d2e2d3492be8dbc...</td>\n",
              "      <td>0</td>\n",
              "      <td>0</td>\n",
              "      <td>0</td>\n",
              "      <td>1</td>\n",
              "    </tr>\n",
              "    <tr>\n",
              "      <th>169</th>\n",
              "      <td>Ulat-16-_jpg.rf.ff2ab7d76a20b5cc7358e7e7692649...</td>\n",
              "      <td>0</td>\n",
              "      <td>0</td>\n",
              "      <td>1</td>\n",
              "      <td>0</td>\n",
              "    </tr>\n",
              "  </tbody>\n",
              "</table>\n",
              "<p>170 rows × 5 columns</p>\n",
              "</div>\n",
              "      <button class=\"colab-df-convert\" onclick=\"convertToInteractive('df-3f488482-c992-41af-aa1e-6ee53d9cc328')\"\n",
              "              title=\"Convert this dataframe to an interactive table.\"\n",
              "              style=\"display:none;\">\n",
              "        \n",
              "  <svg xmlns=\"http://www.w3.org/2000/svg\" height=\"24px\"viewBox=\"0 0 24 24\"\n",
              "       width=\"24px\">\n",
              "    <path d=\"M0 0h24v24H0V0z\" fill=\"none\"/>\n",
              "    <path d=\"M18.56 5.44l.94 2.06.94-2.06 2.06-.94-2.06-.94-.94-2.06-.94 2.06-2.06.94zm-11 1L8.5 8.5l.94-2.06 2.06-.94-2.06-.94L8.5 2.5l-.94 2.06-2.06.94zm10 10l.94 2.06.94-2.06 2.06-.94-2.06-.94-.94-2.06-.94 2.06-2.06.94z\"/><path d=\"M17.41 7.96l-1.37-1.37c-.4-.4-.92-.59-1.43-.59-.52 0-1.04.2-1.43.59L10.3 9.45l-7.72 7.72c-.78.78-.78 2.05 0 2.83L4 21.41c.39.39.9.59 1.41.59.51 0 1.02-.2 1.41-.59l7.78-7.78 2.81-2.81c.8-.78.8-2.07 0-2.86zM5.41 20L4 18.59l7.72-7.72 1.47 1.35L5.41 20z\"/>\n",
              "  </svg>\n",
              "      </button>\n",
              "      \n",
              "  <style>\n",
              "    .colab-df-container {\n",
              "      display:flex;\n",
              "      flex-wrap:wrap;\n",
              "      gap: 12px;\n",
              "    }\n",
              "\n",
              "    .colab-df-convert {\n",
              "      background-color: #E8F0FE;\n",
              "      border: none;\n",
              "      border-radius: 50%;\n",
              "      cursor: pointer;\n",
              "      display: none;\n",
              "      fill: #1967D2;\n",
              "      height: 32px;\n",
              "      padding: 0 0 0 0;\n",
              "      width: 32px;\n",
              "    }\n",
              "\n",
              "    .colab-df-convert:hover {\n",
              "      background-color: #E2EBFA;\n",
              "      box-shadow: 0px 1px 2px rgba(60, 64, 67, 0.3), 0px 1px 3px 1px rgba(60, 64, 67, 0.15);\n",
              "      fill: #174EA6;\n",
              "    }\n",
              "\n",
              "    [theme=dark] .colab-df-convert {\n",
              "      background-color: #3B4455;\n",
              "      fill: #D2E3FC;\n",
              "    }\n",
              "\n",
              "    [theme=dark] .colab-df-convert:hover {\n",
              "      background-color: #434B5C;\n",
              "      box-shadow: 0px 1px 3px 1px rgba(0, 0, 0, 0.15);\n",
              "      filter: drop-shadow(0px 1px 2px rgba(0, 0, 0, 0.3));\n",
              "      fill: #FFFFFF;\n",
              "    }\n",
              "  </style>\n",
              "\n",
              "      <script>\n",
              "        const buttonEl =\n",
              "          document.querySelector('#df-3f488482-c992-41af-aa1e-6ee53d9cc328 button.colab-df-convert');\n",
              "        buttonEl.style.display =\n",
              "          google.colab.kernel.accessAllowed ? 'block' : 'none';\n",
              "\n",
              "        async function convertToInteractive(key) {\n",
              "          const element = document.querySelector('#df-3f488482-c992-41af-aa1e-6ee53d9cc328');\n",
              "          const dataTable =\n",
              "            await google.colab.kernel.invokeFunction('convertToInteractive',\n",
              "                                                     [key], {});\n",
              "          if (!dataTable) return;\n",
              "\n",
              "          const docLinkHtml = 'Like what you see? Visit the ' +\n",
              "            '<a target=\"_blank\" href=https://colab.research.google.com/notebooks/data_table.ipynb>data table notebook</a>'\n",
              "            + ' to learn more about interactive tables.';\n",
              "          element.innerHTML = '';\n",
              "          dataTable['output_type'] = 'display_data';\n",
              "          await google.colab.output.renderOutput(dataTable, element);\n",
              "          const docLink = document.createElement('div');\n",
              "          docLink.innerHTML = docLinkHtml;\n",
              "          element.appendChild(docLink);\n",
              "        }\n",
              "      </script>\n",
              "    </div>\n",
              "  </div>\n",
              "  "
            ]
          },
          "metadata": {},
          "execution_count": 3
        }
      ],
      "source": [
        "labels = pd.read_csv('/content/drive/MyDrive/Dataset/test/_classes.csv', sep=',')\n",
        "\n",
        "labels"
      ]
    },
    {
      "cell_type": "code",
      "source": [
        "def get_label(row):\n",
        "  for c in labels.columns:\n",
        "    if row[c]==1:\n",
        "      return c"
      ],
      "metadata": {
        "id": "JfzJvHsI6PQi"
      },
      "execution_count": 4,
      "outputs": []
    },
    {
      "cell_type": "code",
      "source": [
        "test_labels = labels.apply(get_label, axis=1)\n",
        "\n",
        "test_labels\n"
      ],
      "metadata": {
        "colab": {
          "base_uri": "https://localhost:8080/"
        },
        "id": "ydfeYPk46UpT",
        "outputId": "22f803ac-ba08-44ca-d445-5f6c0b053ff7"
      },
      "execution_count": 5,
      "outputs": [
        {
          "output_type": "execute_result",
          "data": {
            "text/plain": [
              "0         Wereng\n",
              "1         Wereng\n",
              "2         Wereng\n",
              "3           Ulat\n",
              "4       Belalang\n",
              "         ...    \n",
              "165         Ulat\n",
              "166         Ulat\n",
              "167       Wereng\n",
              "168       Wereng\n",
              "169         Ulat\n",
              "Length: 170, dtype: object"
            ]
          },
          "metadata": {},
          "execution_count": 5
        }
      ]
    },
    {
      "cell_type": "code",
      "source": [
        "test_dataset = PestDetection(root=dataset_path, split=\"test\", transforms=get_transforms(False))\n",
        "img, _ = test_dataset[5]\n",
        "img\n",
        "dataset_path"
      ],
      "metadata": {
        "colab": {
          "base_uri": "https://localhost:8080/",
          "height": 105
        },
        "id": "5Ps2aM1YAMhx",
        "outputId": "d3809786-2558-4ae6-acff-dd585bc04419"
      },
      "execution_count": null,
      "outputs": [
        {
          "output_type": "stream",
          "name": "stdout",
          "text": [
            "loading annotations into memory...\n",
            "Done (t=0.00s)\n",
            "creating index...\n",
            "index created!\n"
          ]
        },
        {
          "output_type": "execute_result",
          "data": {
            "text/plain": [
              "'/content/drive/MyDrive/Dataset/'"
            ],
            "application/vnd.google.colaboratory.intrinsic+json": {
              "type": "string"
            }
          },
          "metadata": {},
          "execution_count": 34
        }
      ]
    },
    {
      "cell_type": "code",
      "source": [
        "# import os\n",
        "# from os import listdir\n",
        "\n",
        "# hasil_pred = []\n",
        "# test_dataset = PestDetection(root=dataset_path, split=\"test\", transforms=get_transforms(False))\n",
        "# # get the path/directory\n",
        "# folder_dir = \"/content/drive/MyDrive/TA/dataset/test/\"\n",
        "# for images in os.listdir(folder_dir):\n",
        "#     # check if the image ends with png\n",
        "#     if (images.endswith(\".jpg\")):\n",
        "#       img, _ = test_dataset[i]\n",
        "\n",
        "      \n",
        "\n",
        "\n",
        "#       images = []   \n",
        "#       # while(cap.isOpened()):\n",
        "#           ret, frame = cap.read()\n",
        "#           if ret == True:\n",
        "#               result_frame, predict = predict_single_frame(frame)\n",
        "#               images.append(result_frame)\n",
        "#               hasil_pred.append (predict)\n",
        "#           else: \n",
        "#               break\n",
        "\n",
        "#       cap.release()"
      ],
      "metadata": {
        "id": "-v6Fl_Gh_N3O"
      },
      "execution_count": null,
      "outputs": []
    },
    {
      "cell_type": "code",
      "source": [
        "print(\"Score\")\n",
        "tp = []\n",
        "fp = []\n",
        "fn = []\n",
        "predict = []\n",
        "folder_dir = \"/content/drive/MyDrive/Dataset/test/\"\n",
        "for i in range(2):\n",
        "  img, _ = test_dataset[i]\n",
        "  img_int = torch.tensor(img*255, dtype=torch.uint8)\n",
        "  with torch.no_grad():\n",
        "      prediction = model([img.to(device)])\n",
        "      pred = prediction[0]\n",
        "\n",
        "  \n",
        "  # if(pred['labels'] == 2):\n",
        "  #   x = \"True\" \n",
        "  # else:\n",
        "  #   x = \"xe\"\n",
        "  # print(x)\n",
        "  # print(pred['labels'])\n",
        "  # i = pred['labels'].tolist()\n",
        "  # print(i)\n",
        "  # x = classes[i] \n",
        "  # predict.append(x)\n",
        "  \n",
        "\n",
        "  # x = len(pred['labels'][pred['scores'] > 0.8])\n",
        "  # y = len(pred['labels'])\n",
        "\n",
        "  predict.append(pred['labels'].tolist())\n",
        "  # if (x==1):\n",
        "  #   tp.append(1)\n",
        "  # elif (x > 1 ):\n",
        "  #   fp.append(1)\n",
        "  # elif (y > 1):\n",
        "  #   fn.append(1)\n",
        "\n",
        "  # print( [classes[i] for i in pred['labels'][pred['scores'] > 0.8].tolist()], \": \",pred['scores'].tolist() )\n",
        "  # fig = plt.figure(figsize=(14, 10))\n",
        "  # plt.imshow(draw_bounding_boxes(img_int,\n",
        "  #   pred['boxes'][pred['scores'] > 0.8], \n",
        "  #   [classes[i] for i in pred['labels'][pred['scores'] > 0.8].tolist()], width=4\n",
        "  # ).permute(1, 2, 0))\n",
        "  \n",
        "\n",
        "  \n",
        "# x = pred['labels'][pred['scores'] > 0.8]\n",
        "# y = pred['labels']\n",
        "# len(y)   "
      ],
      "metadata": {
        "id": "Y9nyvQz06kXh"
      },
      "execution_count": null,
      "outputs": []
    },
    {
      "cell_type": "code",
      "source": [
        "predict\n",
        "predicted = []\n",
        "\n",
        "for i in range(150):\n",
        "  if (predict[i] == [1]):\n",
        "    predicted.append(' Belalang')\n",
        "  elif (predict[i] == [2]):\n",
        "    predicted.append(' Sehat')\n",
        "  elif (predict[i] == [3]):\n",
        "    predicted.append(' Ulat')\n",
        "  elif (predict[i] == [4]):\n",
        "    predicted.append(' Wereng')\n",
        "  # else:\n",
        "  #   predicted.append(' Wereng')\n",
        "\n",
        "\n",
        "predicted"
      ],
      "metadata": {
        "id": "dC7prQf_xcU3"
      },
      "execution_count": null,
      "outputs": []
    },
    {
      "cell_type": "code",
      "source": [
        "df_hasil_pred = pd.DataFrame(predicted)\n",
        "df_hasil_pred [1] = pd.DataFrame(test_labels)\n",
        "\n",
        "df_hasil_pred"
      ],
      "metadata": {
        "colab": {
          "base_uri": "https://localhost:8080/",
          "height": 424
        },
        "id": "rmR9PzDmwbCj",
        "outputId": "79ba4c37-d5b1-46de-e52d-f7afd8893b0d"
      },
      "execution_count": 18,
      "outputs": [
        {
          "output_type": "execute_result",
          "data": {
            "text/plain": [
              "             0          1\n",
              "0       Wereng     Wereng\n",
              "1       Wereng     Wereng\n",
              "2       Wereng     Wereng\n",
              "3         Ulat       Ulat\n",
              "4     Belalang   Belalang\n",
              "..         ...        ...\n",
              "165       Ulat       Ulat\n",
              "166       Ulat       Ulat\n",
              "167     Wereng     Wereng\n",
              "168     Wereng     Wereng\n",
              "169       Ulat       Ulat\n",
              "\n",
              "[170 rows x 2 columns]"
            ],
            "text/html": [
              "\n",
              "  <div id=\"df-60fbc418-604f-422e-b541-6a0072c3b51e\">\n",
              "    <div class=\"colab-df-container\">\n",
              "      <div>\n",
              "<style scoped>\n",
              "    .dataframe tbody tr th:only-of-type {\n",
              "        vertical-align: middle;\n",
              "    }\n",
              "\n",
              "    .dataframe tbody tr th {\n",
              "        vertical-align: top;\n",
              "    }\n",
              "\n",
              "    .dataframe thead th {\n",
              "        text-align: right;\n",
              "    }\n",
              "</style>\n",
              "<table border=\"1\" class=\"dataframe\">\n",
              "  <thead>\n",
              "    <tr style=\"text-align: right;\">\n",
              "      <th></th>\n",
              "      <th>0</th>\n",
              "      <th>1</th>\n",
              "    </tr>\n",
              "  </thead>\n",
              "  <tbody>\n",
              "    <tr>\n",
              "      <th>0</th>\n",
              "      <td>Wereng</td>\n",
              "      <td>Wereng</td>\n",
              "    </tr>\n",
              "    <tr>\n",
              "      <th>1</th>\n",
              "      <td>Wereng</td>\n",
              "      <td>Wereng</td>\n",
              "    </tr>\n",
              "    <tr>\n",
              "      <th>2</th>\n",
              "      <td>Wereng</td>\n",
              "      <td>Wereng</td>\n",
              "    </tr>\n",
              "    <tr>\n",
              "      <th>3</th>\n",
              "      <td>Ulat</td>\n",
              "      <td>Ulat</td>\n",
              "    </tr>\n",
              "    <tr>\n",
              "      <th>4</th>\n",
              "      <td>Belalang</td>\n",
              "      <td>Belalang</td>\n",
              "    </tr>\n",
              "    <tr>\n",
              "      <th>...</th>\n",
              "      <td>...</td>\n",
              "      <td>...</td>\n",
              "    </tr>\n",
              "    <tr>\n",
              "      <th>165</th>\n",
              "      <td>Ulat</td>\n",
              "      <td>Ulat</td>\n",
              "    </tr>\n",
              "    <tr>\n",
              "      <th>166</th>\n",
              "      <td>Ulat</td>\n",
              "      <td>Ulat</td>\n",
              "    </tr>\n",
              "    <tr>\n",
              "      <th>167</th>\n",
              "      <td>Wereng</td>\n",
              "      <td>Wereng</td>\n",
              "    </tr>\n",
              "    <tr>\n",
              "      <th>168</th>\n",
              "      <td>Wereng</td>\n",
              "      <td>Wereng</td>\n",
              "    </tr>\n",
              "    <tr>\n",
              "      <th>169</th>\n",
              "      <td>Ulat</td>\n",
              "      <td>Ulat</td>\n",
              "    </tr>\n",
              "  </tbody>\n",
              "</table>\n",
              "<p>170 rows × 2 columns</p>\n",
              "</div>\n",
              "      <button class=\"colab-df-convert\" onclick=\"convertToInteractive('df-60fbc418-604f-422e-b541-6a0072c3b51e')\"\n",
              "              title=\"Convert this dataframe to an interactive table.\"\n",
              "              style=\"display:none;\">\n",
              "        \n",
              "  <svg xmlns=\"http://www.w3.org/2000/svg\" height=\"24px\"viewBox=\"0 0 24 24\"\n",
              "       width=\"24px\">\n",
              "    <path d=\"M0 0h24v24H0V0z\" fill=\"none\"/>\n",
              "    <path d=\"M18.56 5.44l.94 2.06.94-2.06 2.06-.94-2.06-.94-.94-2.06-.94 2.06-2.06.94zm-11 1L8.5 8.5l.94-2.06 2.06-.94-2.06-.94L8.5 2.5l-.94 2.06-2.06.94zm10 10l.94 2.06.94-2.06 2.06-.94-2.06-.94-.94-2.06-.94 2.06-2.06.94z\"/><path d=\"M17.41 7.96l-1.37-1.37c-.4-.4-.92-.59-1.43-.59-.52 0-1.04.2-1.43.59L10.3 9.45l-7.72 7.72c-.78.78-.78 2.05 0 2.83L4 21.41c.39.39.9.59 1.41.59.51 0 1.02-.2 1.41-.59l7.78-7.78 2.81-2.81c.8-.78.8-2.07 0-2.86zM5.41 20L4 18.59l7.72-7.72 1.47 1.35L5.41 20z\"/>\n",
              "  </svg>\n",
              "      </button>\n",
              "      \n",
              "  <style>\n",
              "    .colab-df-container {\n",
              "      display:flex;\n",
              "      flex-wrap:wrap;\n",
              "      gap: 12px;\n",
              "    }\n",
              "\n",
              "    .colab-df-convert {\n",
              "      background-color: #E8F0FE;\n",
              "      border: none;\n",
              "      border-radius: 50%;\n",
              "      cursor: pointer;\n",
              "      display: none;\n",
              "      fill: #1967D2;\n",
              "      height: 32px;\n",
              "      padding: 0 0 0 0;\n",
              "      width: 32px;\n",
              "    }\n",
              "\n",
              "    .colab-df-convert:hover {\n",
              "      background-color: #E2EBFA;\n",
              "      box-shadow: 0px 1px 2px rgba(60, 64, 67, 0.3), 0px 1px 3px 1px rgba(60, 64, 67, 0.15);\n",
              "      fill: #174EA6;\n",
              "    }\n",
              "\n",
              "    [theme=dark] .colab-df-convert {\n",
              "      background-color: #3B4455;\n",
              "      fill: #D2E3FC;\n",
              "    }\n",
              "\n",
              "    [theme=dark] .colab-df-convert:hover {\n",
              "      background-color: #434B5C;\n",
              "      box-shadow: 0px 1px 3px 1px rgba(0, 0, 0, 0.15);\n",
              "      filter: drop-shadow(0px 1px 2px rgba(0, 0, 0, 0.3));\n",
              "      fill: #FFFFFF;\n",
              "    }\n",
              "  </style>\n",
              "\n",
              "      <script>\n",
              "        const buttonEl =\n",
              "          document.querySelector('#df-60fbc418-604f-422e-b541-6a0072c3b51e button.colab-df-convert');\n",
              "        buttonEl.style.display =\n",
              "          google.colab.kernel.accessAllowed ? 'block' : 'none';\n",
              "\n",
              "        async function convertToInteractive(key) {\n",
              "          const element = document.querySelector('#df-60fbc418-604f-422e-b541-6a0072c3b51e');\n",
              "          const dataTable =\n",
              "            await google.colab.kernel.invokeFunction('convertToInteractive',\n",
              "                                                     [key], {});\n",
              "          if (!dataTable) return;\n",
              "\n",
              "          const docLinkHtml = 'Like what you see? Visit the ' +\n",
              "            '<a target=\"_blank\" href=https://colab.research.google.com/notebooks/data_table.ipynb>data table notebook</a>'\n",
              "            + ' to learn more about interactive tables.';\n",
              "          element.innerHTML = '';\n",
              "          dataTable['output_type'] = 'display_data';\n",
              "          await google.colab.output.renderOutput(dataTable, element);\n",
              "          const docLink = document.createElement('div');\n",
              "          docLink.innerHTML = docLinkHtml;\n",
              "          element.appendChild(docLink);\n",
              "        }\n",
              "      </script>\n",
              "    </div>\n",
              "  </div>\n",
              "  "
            ]
          },
          "metadata": {},
          "execution_count": 18
        }
      ]
    },
    {
      "cell_type": "code",
      "source": [
        "import matplotlib.pyplot as plt\n",
        "import numpy\n",
        "from sklearn import metrics\n",
        "\n",
        "actual = df_hasil_pred[0]\n",
        "predicted = df_hasil_pred[1]\n",
        "\n",
        "confusion_matrix = metrics.confusion_matrix(actual, predicted)\n",
        "\n",
        "cm_display = metrics.ConfusionMatrixDisplay(confusion_matrix = confusion_matrix, display_labels = ['Belalang', 'Sehat', 'Ulat', 'Wereng'])\n",
        "\n",
        "cm_display.plot()\n",
        "plt.show()"
      ],
      "metadata": {
        "colab": {
          "base_uri": "https://localhost:8080/",
          "height": 279
        },
        "id": "oh2un6h0wh9r",
        "outputId": "936a6226-886a-4481-9b8b-2f0c1195defe"
      },
      "execution_count": 19,
      "outputs": [
        {
          "output_type": "display_data",
          "data": {
            "text/plain": [
              "<Figure size 432x288 with 2 Axes>"
            ],
            "image/png": "[encoded data removed]"
          },
          "metadata": {
            "needs_background": "light"
          }
        }
      ]
    },
    {
      "cell_type": "code",
      "source": [
        "from sklearn.metrics import classification_report\n",
        "print(classification_report(actual, predicted, target_names=['Belalang', 'Sehat', 'Ulat', 'Wereng']))"
      ],
      "metadata": {
        "colab": {
          "base_uri": "https://localhost:8080/"
        },
        "id": "1Wl_PpUawj_F",
        "outputId": "80d69da5-d587-49e5-fbb1-e48b629b5d69"
      },
      "execution_count": 20,
      "outputs": [
        {
          "output_type": "stream",
          "name": "stdout",
          "text": [
            "              precision    recall  f1-score   support\n",
            "\n",
            "    Belalang       0.89      0.94      0.91        17\n",
            "       Sehat       0.91      0.71      0.80        14\n",
            "        Ulat       0.95      0.97      0.96        61\n",
            "      Wereng       0.95      0.96      0.96        78\n",
            "\n",
            "    accuracy                           0.94       170\n",
            "   macro avg       0.92      0.90      0.91       170\n",
            "weighted avg       0.94      0.94      0.94       170\n",
            "\n"
          ]
        }
      ]
    },
    {
      "cell_type": "code",
      "source": [
        "import random\n",
        "import time\n",
        "\n",
        "from paho.mqtt import client as mqtt_client\n",
        "\n",
        "broker = 'broker.emqx.io'\n",
        "port = 1883\n",
        "topic1 = \"detect/hama\"\n",
        "# topic0 = \"detect/healthy\"\n",
        "# generate client ID with pub prefix randomly\n",
        "client_id = f'python-mqtt-{random.randint(0, 1000)}'\n",
        "username = 'emqx'\n",
        "password = 'public'\n",
        "\n",
        "def connect_mqtt():\n",
        "    def on_connect(client, userdata, flags, rc):\n",
        "        if rc == 0:\n",
        "            print(\"Connected to MQTT Broker!\")\n",
        "        else:\n",
        "            print(\"Failed to connect, return code %d\\n\", rc)\n",
        "\n",
        "    client = mqtt_client.Client(client_id)\n",
        "    client.username_pw_set(username, password)\n",
        "    client.on_connect = on_connect\n",
        "    client.connect(broker, port)\n",
        "    return client\n",
        "\n",
        "\n",
        "def publish(client):\n",
        "    \n",
        "    msg_count = 0\n",
        "    msg = ''\n",
        "    while True:\n",
        "        time.sleep(1)\n",
        "        # pred = predict()\n",
        "        # print (pred)\n",
        "        deteksi = []\n",
        "        for i in predicted:\n",
        "            if (i == ' Belalang' or i == ' Wereng' or i == ' Ulat')  :\n",
        "                j = 'Pest'\n",
        "                deteksi.append(j)\n",
        "            else:\n",
        "                j = 'healthy'\n",
        "                deteksi.append(j)\n",
        "        # print (deteksi)\n",
        "    \n",
        "        for x in deteksi:\n",
        "            if (x == 'Pest'):\n",
        "                msg = \"Pest\"\n",
        "                result = client.publish(topic1, msg)\n",
        "                status = result[0]\n",
        "                if status == 0:\n",
        "                    print(f\"Send `{msg}` to topic `{topic1}`\")\n",
        "                else:\n",
        "                    print(f\"Failed to send message to topic {topic1}\")\n",
        "\n",
        "\n",
        "def run():\n",
        "    client = connect_mqtt()\n",
        "    client.loop_start()\n",
        "    publish(client)\n"
      ],
      "metadata": {
        "id": "jNtQ3Pt8D1CV"
      },
      "execution_count": null,
      "outputs": []
    },
    {
      "cell_type": "code",
      "source": [
        "run()"
      ],
      "metadata": {
        "id": "RA6WBTlvEGTA"
      },
      "execution_count": null,
      "outputs": []
    },
    {
      "cell_type": "code",
      "execution_count": null,
      "metadata": {
        "id": "g9B03qhP9jJE"
      },
      "outputs": [],
      "source": [
        "print(\"Score\")\n",
        "tp = []\n",
        "fp = []\n",
        "fn = []\n",
        "\n",
        "for i in range(30,100):\n",
        "  img, _ = test_dataset[i]\n",
        "  img_int = torch.tensor(img*255, dtype=torch.uint8)\n",
        "  with torch.no_grad():\n",
        "      prediction = model([img.to(device)])\n",
        "      pred = prediction[0]\n",
        "\n",
        "\n",
        "  x = len(pred['labels'][pred['scores'] > 0.8])\n",
        "  y = len(pred['labels'])\n",
        "  if (x==1):\n",
        "    tp.append(1)\n",
        "  elif (x > 1 ):\n",
        "    fp.append(1)\n",
        "  elif (y > 1):\n",
        "    fn.append(1)\n",
        "\n",
        "  # print( [classes[i] for i in pred['labels'][pred['scores'] > 0.8].tolist()], \": \",pred['scores'].tolist() )\n",
        "  fig = plt.figure(figsize=(14, 10))\n",
        "  plt.imshow(draw_bounding_boxes(img_int,\n",
        "    pred['boxes'][pred['scores'] > 0.8], \n",
        "    [classes[i] for i in pred['labels'][pred['scores'] > 0.8].tolist()], width=4\n",
        "  ).permute(1, 2, 0))\n",
        "  \n",
        "\n",
        "  \n",
        "# x = pred['labels'][pred['scores'] > 0.8]\n",
        "# y = pred['labels']\n",
        "# len(y)   \n",
        "  \n"
      ]
    },
    {
      "cell_type": "code",
      "source": [],
      "metadata": {
        "id": "Og4ioEU94eRp"
      },
      "execution_count": null,
      "outputs": []
    }
  ],
  "metadata": {
    "colab": {
      "provenance": [],
      "mount_file_id": "1-l2wqf9kXVQR-KIWsQOs7eyl1aRwzG9Z",
      "authorship_tag": "ABX9TyMR0pFqEfiOXSLBeBeuUKvH",
      "include_colab_link": true
    },
    "gpuClass": "standard",
    "kernelspec": {
      "display_name": "Python 3",
      "name": "python3"
    },
    "language_info": {
      "name": "python"
    },
    "widgets": {
      "application/vnd.jupyter.widget-state+json": {
        "a2cef3baae4349db92fae1e7773683d5": {
          "model_module": "@jupyter-widgets/controls",
          "model_name": "HBoxModel",
          "model_module_version": "1.5.0",
          "state": {
            "_dom_classes": [],
            "_model_module": "@jupyter-widgets/controls",
            "_model_module_version": "1.5.0",
            "_model_name": "HBoxModel",
            "_view_count": null,
            "_view_module": "@jupyter-widgets/controls",
            "_view_module_version": "1.5.0",
            "_view_name": "HBoxView",
            "box_style": "",
            "children": [
              "IPY_MODEL_18b890e78a8443c39a458afe3e693f1e",
              "IPY_MODEL_ba5358e365c948449cd2bb0ea2264cf3",
              "IPY_MODEL_e015b408e0854c5ebdf8dfdeb6e89aad"
            ],
            "layout": "IPY_MODEL_9b304f6875044c48a93bab4f16605902"
          }
        },
        "18b890e78a8443c39a458afe3e693f1e": {
          "model_module": "@jupyter-widgets/controls",
          "model_name": "HTMLModel",
          "model_module_version": "1.5.0",
          "state": {
            "_dom_classes": [],
            "_model_module": "@jupyter-widgets/controls",
            "_model_module_version": "1.5.0",
            "_model_name": "HTMLModel",
            "_view_count": null,
            "_view_module": "@jupyter-widgets/controls",
            "_view_module_version": "1.5.0",
            "_view_name": "HTMLView",
            "description": "",
            "description_tooltip": null,
            "layout": "IPY_MODEL_b60c98c5eb064e6ea6d242bdd96b01f0",
            "placeholder": "​",
            "style": "IPY_MODEL_5618d761d14e4a759fca86943b245fdd",
            "value": "100%"
          }
        },
        "ba5358e365c948449cd2bb0ea2264cf3": {
          "model_module": "@jupyter-widgets/controls",
          "model_name": "FloatProgressModel",
          "model_module_version": "1.5.0",
          "state": {
            "_dom_classes": [],
            "_model_module": "@jupyter-widgets/controls",
            "_model_module_version": "1.5.0",
            "_model_name": "FloatProgressModel",
            "_view_count": null,
            "_view_module": "@jupyter-widgets/controls",
            "_view_module_version": "1.5.0",
            "_view_name": "ProgressView",
            "bar_style": "success",
            "description": "",
            "description_tooltip": null,
            "layout": "IPY_MODEL_0244d46bb94f46829cf0af88c6360907",
            "max": 77844807,
            "min": 0,
            "orientation": "horizontal",
            "style": "IPY_MODEL_97b862eca85943ea8db555db6d4e20a2",
            "value": 77844807
          }
        },
        "e015b408e0854c5ebdf8dfdeb6e89aad": {
          "model_module": "@jupyter-widgets/controls",
          "model_name": "HTMLModel",
          "model_module_version": "1.5.0",
          "state": {
            "_dom_classes": [],
            "_model_module": "@jupyter-widgets/controls",
            "_model_module_version": "1.5.0",
            "_model_name": "HTMLModel",
            "_view_count": null,
            "_view_module": "@jupyter-widgets/controls",
            "_view_module_version": "1.5.0",
            "_view_name": "HTMLView",
            "description": "",
            "description_tooltip": null,
            "layout": "IPY_MODEL_1162bcc6cdc4445e90a59dacf4d35e17",
            "placeholder": "​",
            "style": "IPY_MODEL_2e982d0594ee49bab5d2e0a5affc890b",
            "value": " 74.2M/74.2M [00:00&lt;00:00, 210MB/s]"
          }
        },
        "9b304f6875044c48a93bab4f16605902": {
          "model_module": "@jupyter-widgets/base",
          "model_name": "LayoutModel",
          "model_module_version": "1.2.0",
          "state": {
            "_model_module": "@jupyter-widgets/base",
            "_model_module_version": "1.2.0",
            "_model_name": "LayoutModel",
            "_view_count": null,
            "_view_module": "@jupyter-widgets/base",
            "_view_module_version": "1.2.0",
            "_view_name": "LayoutView",
            "align_content": null,
            "align_items": null,
            "align_self": null,
            "border": null,
            "bottom": null,
            "display": null,
            "flex": null,
            "flex_flow": null,
            "grid_area": null,
            "grid_auto_columns": null,
            "grid_auto_flow": null,
            "grid_auto_rows": null,
            "grid_column": null,
            "grid_gap": null,
            "grid_row": null,
            "grid_template_areas": null,
            "grid_template_columns": null,
            "grid_template_rows": null,
            "height": null,
            "justify_content": null,
            "justify_items": null,
            "left": null,
            "margin": null,
            "max_height": null,
            "max_width": null,
            "min_height": null,
            "min_width": null,
            "object_fit": null,
            "object_position": null,
            "order": null,
            "overflow": null,
            "overflow_x": null,
            "overflow_y": null,
            "padding": null,
            "right": null,
            "top": null,
            "visibility": null,
            "width": null
          }
        },
        "b60c98c5eb064e6ea6d242bdd96b01f0": {
          "model_module": "@jupyter-widgets/base",
          "model_name": "LayoutModel",
          "model_module_version": "1.2.0",
          "state": {
            "_model_module": "@jupyter-widgets/base",
            "_model_module_version": "1.2.0",
            "_model_name": "LayoutModel",
            "_view_count": null,
            "_view_module": "@jupyter-widgets/base",
            "_view_module_version": "1.2.0",
            "_view_name": "LayoutView",
            "align_content": null,
            "align_items": null,
            "align_self": null,
            "border": null,
            "bottom": null,
            "display": null,
            "flex": null,
            "flex_flow": null,
            "grid_area": null,
            "grid_auto_columns": null,
            "grid_auto_flow": null,
            "grid_auto_rows": null,
            "grid_column": null,
            "grid_gap": null,
            "grid_row": null,
            "grid_template_areas": null,
            "grid_template_columns": null,
            "grid_template_rows": null,
            "height": null,
            "justify_content": null,
            "justify_items": null,
            "left": null,
            "margin": null,
            "max_height": null,
            "max_width": null,
            "min_height": null,
            "min_width": null,
            "object_fit": null,
            "object_position": null,
            "order": null,
            "overflow": null,
            "overflow_x": null,
            "overflow_y": null,
            "padding": null,
            "right": null,
            "top": null,
            "visibility": null,
            "width": null
          }
        },
        "5618d761d14e4a759fca86943b245fdd": {
          "model_module": "@jupyter-widgets/controls",
          "model_name": "DescriptionStyleModel",
          "model_module_version": "1.5.0",
          "state": {
            "_model_module": "@jupyter-widgets/controls",
            "_model_module_version": "1.5.0",
            "_model_name": "DescriptionStyleModel",
            "_view_count": null,
            "_view_module": "@jupyter-widgets/base",
            "_view_module_version": "1.2.0",
            "_view_name": "StyleView",
            "description_width": ""
          }
        },
        "0244d46bb94f46829cf0af88c6360907": {
          "model_module": "@jupyter-widgets/base",
          "model_name": "LayoutModel",
          "model_module_version": "1.2.0",
          "state": {
            "_model_module": "@jupyter-widgets/base",
            "_model_module_version": "1.2.0",
            "_model_name": "LayoutModel",
            "_view_count": null,
            "_view_module": "@jupyter-widgets/base",
            "_view_module_version": "1.2.0",
            "_view_name": "LayoutView",
            "align_content": null,
            "align_items": null,
            "align_self": null,
            "border": null,
            "bottom": null,
            "display": null,
            "flex": null,
            "flex_flow": null,
            "grid_area": null,
            "grid_auto_columns": null,
            "grid_auto_flow": null,
            "grid_auto_rows": null,
            "grid_column": null,
            "grid_gap": null,
            "grid_row": null,
            "grid_template_areas": null,
            "grid_template_columns": null,
            "grid_template_rows": null,
            "height": null,
            "justify_content": null,
            "justify_items": null,
            "left": null,
            "margin": null,
            "max_height": null,
            "max_width": null,
            "min_height": null,
            "min_width": null,
            "object_fit": null,
            "object_position": null,
            "order": null,
            "overflow": null,
            "overflow_x": null,
            "overflow_y": null,
            "padding": null,
            "right": null,
            "top": null,
            "visibility": null,
            "width": null
          }
        },
        "97b862eca85943ea8db555db6d4e20a2": {
          "model_module": "@jupyter-widgets/controls",
          "model_name": "ProgressStyleModel",
          "model_module_version": "1.5.0",
          "state": {
            "_model_module": "@jupyter-widgets/controls",
            "_model_module_version": "1.5.0",
            "_model_name": "ProgressStyleModel",
            "_view_count": null,
            "_view_module": "@jupyter-widgets/base",
            "_view_module_version": "1.2.0",
            "_view_name": "StyleView",
            "bar_color": null,
            "description_width": ""
          }
        },
        "1162bcc6cdc4445e90a59dacf4d35e17": {
          "model_module": "@jupyter-widgets/base",
          "model_name": "LayoutModel",
          "model_module_version": "1.2.0",
          "state": {
            "_model_module": "@jupyter-widgets/base",
            "_model_module_version": "1.2.0",
            "_model_name": "LayoutModel",
            "_view_count": null,
            "_view_module": "@jupyter-widgets/base",
            "_view_module_version": "1.2.0",
            "_view_name": "LayoutView",
            "align_content": null,
            "align_items": null,
            "align_self": null,
            "border": null,
            "bottom": null,
            "display": null,
            "flex": null,
            "flex_flow": null,
            "grid_area": null,
            "grid_auto_columns": null,
            "grid_auto_flow": null,
            "grid_auto_rows": null,
            "grid_column": null,
            "grid_gap": null,
            "grid_row": null,
            "grid_template_areas": null,
            "grid_template_columns": null,
            "grid_template_rows": null,
            "height": null,
            "justify_content": null,
            "justify_items": null,
            "left": null,
            "margin": null,
            "max_height": null,
            "max_width": null,
            "min_height": null,
            "min_width": null,
            "object_fit": null,
            "object_position": null,
            "order": null,
            "overflow": null,
            "overflow_x": null,
            "overflow_y": null,
            "padding": null,
            "right": null,
            "top": null,
            "visibility": null,
            "width": null
          }
        },
        "2e982d0594ee49bab5d2e0a5affc890b": {
          "model_module": "@jupyter-widgets/controls",
          "model_name": "DescriptionStyleModel",
          "model_module_version": "1.5.0",
          "state": {
            "_model_module": "@jupyter-widgets/controls",
            "_model_module_version": "1.5.0",
            "_model_name": "DescriptionStyleModel",
            "_view_count": null,
            "_view_module": "@jupyter-widgets/base",
            "_view_module_version": "1.2.0",
            "_view_name": "StyleView",
            "description_width": ""
          }
        }
      }
    }
  },
  "nbformat": 4,
  "nbformat_minor": 0
}