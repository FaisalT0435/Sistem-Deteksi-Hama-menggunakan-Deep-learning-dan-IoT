{
  "cells": [
    {
      "cell_type": "markdown",
      "metadata": {
        "id": "view-in-github",
        "colab_type": "text"
      },
      "source": [
        "<a href=\"https://colab.research.google.com/github/FaisalT0435/Sistem-Deteksi-Hama-menggunakan-Deep-learning-dan-IoT/blob/main/Faster_RCNN.ipynb\" target=\"_parent\"><img src=\"https://colab.research.google.com/assets/colab-badge.svg\" alt=\"Open In Colab\"/></a>"
      ]
    },
    {
      "cell_type": "code",
      "execution_count": null,
      "metadata": {
        "id": "zBvckS8b4yf7",
        "colab": {
          "base_uri": "https://localhost:8080/"
        },
        "outputId": "dbd3bfaa-c02d-48b7-a492-2bf408ae28c0"
      },
      "outputs": [
        {
          "output_type": "stream",
          "name": "stdout",
          "text": [
            "Wed Jan 25 07:09:57 2023       \n",
            "+-----------------------------------------------------------------------------+\n",
            "| NVIDIA-SMI 510.47.03    Driver Version: 510.47.03    CUDA Version: 11.6     |\n",
            "|-------------------------------+----------------------+----------------------+\n",
            "| GPU  Name        Persistence-M| Bus-Id        Disp.A | Volatile Uncorr. ECC |\n",
            "| Fan  Temp  Perf  Pwr:Usage/Cap|         Memory-Usage | GPU-Util  Compute M. |\n",
            "|                               |                      |               MIG M. |\n",
            "|===============================+======================+======================|\n",
            "|   0  Tesla T4            Off  | 00000000:00:04.0 Off |                    0 |\n",
            "| N/A   53C    P0    29W /  70W |      0MiB / 15360MiB |      0%      Default |\n",
            "|                               |                      |                  N/A |\n",
            "+-------------------------------+----------------------+----------------------+\n",
            "                                                                               \n",
            "+-----------------------------------------------------------------------------+\n",
            "| Processes:                                                                  |\n",
            "|  GPU   GI   CI        PID   Type   Process name                  GPU Memory |\n",
            "|        ID   ID                                                   Usage      |\n",
            "|=============================================================================|\n",
            "|  No running processes found                                                 |\n",
            "+-----------------------------------------------------------------------------+\n"
          ]
        }
      ],
      "source": [
        "!nvidia-smi"
      ]
    },
    {
      "cell_type": "code",
      "source": [],
      "metadata": {
        "id": "TIcWnIETM4UI"
      },
      "execution_count": null,
      "outputs": []
    },
    {
      "cell_type": "code",
      "execution_count": null,
      "metadata": {
        "id": "fYTj0vMb5HE7"
      },
      "outputs": [],
      "source": [
        "import numpy as np # linear algebra\n",
        "import pandas as pd # data processing, CSV file I/O (e.g. pd.read_csv)\n",
        "import os"
      ]
    },
    {
      "cell_type": "code",
      "execution_count": null,
      "metadata": {
        "id": "VrXQsXHk5LZI",
        "colab": {
          "base_uri": "https://localhost:8080/"
        },
        "outputId": "4667a11c-5d2d-41bc-d6e3-0cd0d5b68bc2"
      },
      "outputs": [
        {
          "output_type": "stream",
          "name": "stdout",
          "text": [
            "Drive already mounted at /content/drive; to attempt to forcibly remount, call drive.mount(\"/content/drive\", force_remount=True).\n"
          ]
        }
      ],
      "source": [
        "from google.colab import drive\n",
        "drive.mount('/content/drive')"
      ]
    },
    {
      "cell_type": "code",
      "execution_count": null,
      "metadata": {
        "id": "KeYH6Tab5QIB",
        "colab": {
          "base_uri": "https://localhost:8080/"
        },
        "outputId": "1304947a-6549-4592-f1a9-dc6cc318442f"
      },
      "outputs": [
        {
          "output_type": "stream",
          "name": "stdout",
          "text": [
            "Looking in indexes: https://pypi.org/simple, https://us-python.pkg.dev/colab-wheels/public/simple/\n",
            "Requirement already satisfied: torchvision in /usr/local/lib/python3.8/dist-packages (0.14.1+cu116)\n",
            "Requirement already satisfied: numpy in /usr/local/lib/python3.8/dist-packages (from torchvision) (1.21.6)\n",
            "Requirement already satisfied: torch==1.13.1 in /usr/local/lib/python3.8/dist-packages (from torchvision) (1.13.1+cu116)\n",
            "Requirement already satisfied: typing-extensions in /usr/local/lib/python3.8/dist-packages (from torchvision) (4.4.0)\n",
            "Requirement already satisfied: pillow!=8.3.*,>=5.3.0 in /usr/local/lib/python3.8/dist-packages (from torchvision) (7.1.2)\n",
            "Requirement already satisfied: requests in /usr/local/lib/python3.8/dist-packages (from torchvision) (2.25.1)\n",
            "Requirement already satisfied: certifi>=2017.4.17 in /usr/local/lib/python3.8/dist-packages (from requests->torchvision) (2022.12.7)\n",
            "Requirement already satisfied: urllib3<1.27,>=1.21.1 in /usr/local/lib/python3.8/dist-packages (from requests->torchvision) (1.24.3)\n",
            "Requirement already satisfied: chardet<5,>=3.0.2 in /usr/local/lib/python3.8/dist-packages (from requests->torchvision) (4.0.0)\n",
            "Requirement already satisfied: idna<3,>=2.5 in /usr/local/lib/python3.8/dist-packages (from requests->torchvision) (2.10)\n"
          ]
        }
      ],
      "source": [
        "!pip install -U torchvision "
      ]
    },
    {
      "cell_type": "code",
      "execution_count": null,
      "metadata": {
        "id": "W7AL1Xcc5Sao"
      },
      "outputs": [],
      "source": [
        "import torch\n",
        "import torchvision\n",
        "from torchvision import datasets, models\n",
        "from torchvision.transforms import functional as FT\n",
        "from torchvision import transforms as T\n",
        "from torch import nn, optim\n",
        "from torch.nn import functional as F\n",
        "from torch.utils.data import DataLoader, sampler, random_split, Dataset\n",
        "import copy\n",
        "import math\n",
        "from PIL import Image\n",
        "import cv2\n",
        "import albumentations as A  # our data augmentation library\n",
        "\n",
        "import matplotlib.pyplot as plt\n",
        "%matplotlib inline"
      ]
    },
    {
      "cell_type": "code",
      "execution_count": null,
      "metadata": {
        "id": "U5eUIvkC5VNG"
      },
      "outputs": [],
      "source": [
        "import warnings\n",
        "warnings.filterwarnings(\"ignore\")\n",
        "from collections import defaultdict, deque\n",
        "import datetime\n",
        "import time\n",
        "from tqdm import tqdm # progress bar\n",
        "from torchvision.utils import draw_bounding_boxes"
      ]
    },
    {
      "cell_type": "code",
      "execution_count": null,
      "metadata": {
        "id": "1cXjLahn5XHB",
        "colab": {
          "base_uri": "https://localhost:8080/"
        },
        "outputId": "6250b9a2-23b0-4f62-8998-64b634d93006"
      },
      "outputs": [
        {
          "output_type": "stream",
          "name": "stdout",
          "text": [
            "1.13.1+cu116\n",
            "0.14.1+cu116\n"
          ]
        }
      ],
      "source": [
        "print(torch.__version__)\n",
        "print(torchvision.__version__)"
      ]
    },
    {
      "cell_type": "code",
      "execution_count": null,
      "metadata": {
        "id": "K1CR-WPh5ZtO",
        "colab": {
          "base_uri": "https://localhost:8080/"
        },
        "outputId": "d65f28e8-bbdb-42c8-f30c-2e9e27da3bb2"
      },
      "outputs": [
        {
          "output_type": "stream",
          "name": "stdout",
          "text": [
            "Looking in indexes: https://pypi.org/simple, https://us-python.pkg.dev/colab-wheels/public/simple/\n",
            "Requirement already satisfied: pycocotools in /usr/local/lib/python3.8/dist-packages (2.0.6)\n",
            "Requirement already satisfied: numpy in /usr/local/lib/python3.8/dist-packages (from pycocotools) (1.21.6)\n",
            "Requirement already satisfied: matplotlib>=2.1.0 in /usr/local/lib/python3.8/dist-packages (from pycocotools) (3.2.2)\n",
            "Requirement already satisfied: cycler>=0.10 in /usr/local/lib/python3.8/dist-packages (from matplotlib>=2.1.0->pycocotools) (0.11.0)\n",
            "Requirement already satisfied: kiwisolver>=1.0.1 in /usr/local/lib/python3.8/dist-packages (from matplotlib>=2.1.0->pycocotools) (1.4.4)\n",
            "Requirement already satisfied: pyparsing!=2.0.4,!=2.1.2,!=2.1.6,>=2.0.1 in /usr/local/lib/python3.8/dist-packages (from matplotlib>=2.1.0->pycocotools) (3.0.9)\n",
            "Requirement already satisfied: python-dateutil>=2.1 in /usr/local/lib/python3.8/dist-packages (from matplotlib>=2.1.0->pycocotools) (2.8.2)\n",
            "Requirement already satisfied: six>=1.5 in /usr/local/lib/python3.8/dist-packages (from python-dateutil>=2.1->matplotlib>=2.1.0->pycocotools) (1.15.0)\n"
          ]
        }
      ],
      "source": [
        "!pip install pycocotools\n",
        "from pycocotools.coco import COCO"
      ]
    },
    {
      "cell_type": "code",
      "execution_count": null,
      "metadata": {
        "id": "7CzwV-pV5b3f"
      },
      "outputs": [],
      "source": [
        "from albumentations.pytorch import ToTensorV2"
      ]
    },
    {
      "cell_type": "code",
      "execution_count": null,
      "metadata": {
        "id": "PP5DFy2f5emf"
      },
      "outputs": [],
      "source": [
        "def get_transforms(train=False):\n",
        "    if train:\n",
        "        transform = A.Compose([\n",
        "            A.Resize(600, 600), # our input size can be 600px\n",
        "            A.HorizontalFlip(p=0.3),\n",
        "            A.VerticalFlip(p=0.3),\n",
        "            A.RandomBrightnessContrast(p=0.1),\n",
        "            A.ColorJitter(p=0.1),\n",
        "            ToTensorV2()\n",
        "        ], bbox_params=A.BboxParams(format='coco'))\n",
        "    else:\n",
        "        transform = A.Compose([\n",
        "            A.Resize(600, 600), # our input size can be 600px\n",
        "            ToTensorV2()\n",
        "        ], bbox_params=A.BboxParams(format='coco'))\n",
        "    return transform"
      ]
    },
    {
      "cell_type": "code",
      "execution_count": null,
      "metadata": {
        "id": "QrQGp-pE5grt"
      },
      "outputs": [],
      "source": [
        "class PestDetection(datasets.VisionDataset):\n",
        "    def __init__(self, root, split='train', transform=None, target_transform=None, transforms=None):\n",
        "        # the 3 transform parameters are reuqired for datasets.VisionDataset\n",
        "        super().__init__(root, transforms, transform, target_transform)\n",
        "        self.split = split #train, valid, test\n",
        "        self.coco = COCO(os.path.join(root, split, \"_annotations.coco.json\")) # annotatiosn stored here\n",
        "        self.ids = list(sorted(self.coco.imgs.keys()))\n",
        "        self.ids = [id for id in self.ids if (len(self._load_target(id)) > 0)]\n",
        "    \n",
        "    def _load_image(self, id: int):\n",
        "        path = self.coco.loadImgs(id)[0]['file_name']\n",
        "        image = cv2.imread(os.path.join(self.root, self.split, path))\n",
        "        image = cv2.cvtColor(image, cv2.COLOR_BGR2RGB)\n",
        "        return image\n",
        "    def _load_target(self, id):\n",
        "        return self.coco.loadAnns(self.coco.getAnnIds(id))\n",
        "    \n",
        "    def __getitem__(self, index):\n",
        "        id = self.ids[index]\n",
        "        image = self._load_image(id)\n",
        "        target = self._load_target(id)\n",
        "        target = copy.deepcopy(self._load_target(id))\n",
        "        \n",
        "        boxes = [t['bbox'] + [t['category_id']] for t in target] # required annotation format for albumentations\n",
        "        if self.transforms is not None:\n",
        "            transformed = self.transforms(image=image, bboxes=boxes)\n",
        "        \n",
        "        image = transformed['image']\n",
        "        boxes = transformed['bboxes']\n",
        "        \n",
        "        new_boxes = [] # convert from xywh to xyxy\n",
        "        for box in boxes:\n",
        "            xmin = box[0]\n",
        "            xmax = xmin + box[2]\n",
        "            ymin = box[1]\n",
        "            ymax = ymin + box[3]\n",
        "            new_boxes.append([xmin, ymin, xmax, ymax])\n",
        "        \n",
        "        boxes = torch.tensor(new_boxes, dtype=torch.float32)\n",
        "        \n",
        "        targ = {} # here is our transformed target\n",
        "        targ['boxes'] = boxes\n",
        "        targ['labels'] = torch.tensor([t['category_id'] for t in target], dtype=torch.int64)\n",
        "        targ['image_id'] = torch.tensor([t['image_id'] for t in target])\n",
        "        targ['area'] = (boxes[:, 3] - boxes[:, 1]) * (boxes[:, 2] - boxes[:, 0]) # we have a different area\n",
        "        targ['iscrowd'] = torch.tensor([t['iscrowd'] for t in target], dtype=torch.int64)\n",
        "        return image.div(255), targ # scale images\n",
        "    def __len__(self):\n",
        "        return len(self.ids)"
      ]
    },
    {
      "cell_type": "code",
      "execution_count": null,
      "metadata": {
        "id": "2wmPF9T65ifz"
      },
      "outputs": [],
      "source": [
        "#Memanggil dataset\n",
        "dataset_path = \"/content/drive/MyDrive/Ta/Faster_RCNN/Dataset\""
      ]
    },
    {
      "cell_type": "code",
      "execution_count": null,
      "metadata": {
        "id": "jdXdqrf-5s9g",
        "colab": {
          "base_uri": "https://localhost:8080/"
        },
        "outputId": "7c73d0b8-b505-4086-ba87-5bf7de8eebee"
      },
      "outputs": [
        {
          "output_type": "stream",
          "name": "stdout",
          "text": [
            "loading annotations into memory...\n",
            "Done (t=8.82s)\n",
            "creating index...\n",
            "index created!\n"
          ]
        },
        {
          "output_type": "execute_result",
          "data": {
            "text/plain": [
              "{0: {'id': 0, 'name': 'Padi', 'supercategory': 'none'},\n",
              " 1: {'id': 1, 'name': 'Belalang', 'supercategory': 'Padi'},\n",
              " 2: {'id': 2, 'name': 'Padi', 'supercategory': 'Padi'},\n",
              " 3: {'id': 3, 'name': 'Ulat', 'supercategory': 'Padi'},\n",
              " 4: {'id': 4, 'name': 'Wereng', 'supercategory': 'Padi'}}"
            ]
          },
          "metadata": {},
          "execution_count": 13
        }
      ],
      "source": [
        "coco = COCO(os.path.join(dataset_path, \"train\", \"_annotations.coco.json\"))\n",
        "categories = coco.cats\n",
        "n_classes = len(categories.keys())\n",
        "categories"
      ]
    },
    {
      "cell_type": "code",
      "execution_count": null,
      "metadata": {
        "id": "UPhkFoDh61qH",
        "colab": {
          "base_uri": "https://localhost:8080/"
        },
        "outputId": "736acb9a-d3e2-4b7a-ebf7-414600bafb96"
      },
      "outputs": [
        {
          "output_type": "execute_result",
          "data": {
            "text/plain": [
              "['Padi', 'Belalang', 'Padi', 'Ulat', 'Wereng']"
            ]
          },
          "metadata": {},
          "execution_count": 14
        }
      ],
      "source": [
        "classes = [i[1]['name'] for i in categories.items()]\n",
        "classes"
      ]
    },
    {
      "cell_type": "code",
      "execution_count": null,
      "metadata": {
        "id": "naMGxd2Q6365",
        "colab": {
          "base_uri": "https://localhost:8080/"
        },
        "outputId": "9e444cb5-fa82-4dea-9ab1-cfeb4e8cbc7d"
      },
      "outputs": [
        {
          "output_type": "stream",
          "name": "stdout",
          "text": [
            "loading annotations into memory...\n",
            "Done (t=0.02s)\n",
            "creating index...\n",
            "index created!\n",
            "loading annotations into memory...\n",
            "Done (t=2.33s)\n",
            "creating index...\n",
            "index created!\n"
          ]
        }
      ],
      "source": [
        "train_dataset = PestDetection(root=dataset_path, transforms=get_transforms(True))\n",
        "test_dataset = PestDetection(root=dataset_path, split=\"test\", transforms=get_transforms(False))"
      ]
    },
    {
      "cell_type": "code",
      "execution_count": null,
      "metadata": {
        "id": "9bLtlF7b66NS",
        "colab": {
          "base_uri": "https://localhost:8080/",
          "height": 286
        },
        "outputId": "79e7c04c-2983-4616-af33-3cf101225587"
      },
      "outputs": [
        {
          "output_type": "execute_result",
          "data": {
            "text/plain": [
              "<matplotlib.image.AxesImage at 0x7f36fe68b3d0>"
            ]
          },
          "metadata": {},
          "execution_count": 16
        },
        {
          "output_type": "display_data",
          "data": {
            "text/plain": [
              "<Figure size 432x288 with 1 Axes>"
            ],
            "image/png": "[encoded data removed]"
          },
          "metadata": {
            "needs_background": "light"
          }
        }
      ],
      "source": [
        "sample = train_dataset[8]\n",
        "img_int = torch.tensor(sample[0] * 255, dtype=torch.uint8)\n",
        "plt.imshow(draw_bounding_boxes(\n",
        "    img_int, sample[1]['boxes'], [classes[i] for i in sample[1]['labels']], width=4\n",
        ").permute(1, 2, 0))"
      ]
    },
    {
      "cell_type": "code",
      "execution_count": null,
      "metadata": {
        "id": "hBPLavHA7B3g",
        "colab": {
          "base_uri": "https://localhost:8080/"
        },
        "outputId": "34790452-aa1e-435b-bc1a-25c7ea774936"
      },
      "outputs": [
        {
          "output_type": "execute_result",
          "data": {
            "text/plain": [
              "1671"
            ]
          },
          "metadata": {},
          "execution_count": 17
        }
      ],
      "source": [
        "len(train_dataset)"
      ]
    },
    {
      "cell_type": "code",
      "execution_count": null,
      "metadata": {
        "id": "FwA9fzkb7FKI",
        "colab": {
          "base_uri": "https://localhost:8080/",
          "height": 86,
          "referenced_widgets": [
            "453983f3756e4b37bd301d17b586d85a",
            "b85fe28bc3da44a9bd4234cd7dc0fa39",
            "10679ff957154b86a42ac775a28dba68",
            "e7b73c3faf7b4703ae37b59988d9b1cb",
            "06621419a2894ba3aa0e7224c67d3ba1",
            "fff12543ab41480f997de5205c2dfee5",
            "495fa4c91d2e45d984f3cf73ca47eaff",
            "4ccbc3900bd54bf2a5681f6c8f19c718",
            "96b525a50d884fb59e6d91b6c6e6ea8c",
            "f16690db28f34c8383e357750a85f00f",
            "a48ee94776bb4b49a268cd8b4aa41d04"
          ]
        },
        "outputId": "9334d8bd-dbe4-475a-ce50-76551e0003ee"
      },
      "outputs": [
        {
          "output_type": "stream",
          "name": "stderr",
          "text": [
            "Downloading: \"https://download.pytorch.org/models/fasterrcnn_resnet50_fpn_coco-258fb6c6.pth\" to /root/.cache/torch/hub/checkpoints/fasterrcnn_resnet50_fpn_coco-258fb6c6.pth\n"
          ]
        },
        {
          "output_type": "display_data",
          "data": {
            "text/plain": [
              "  0%|          | 0.00/160M [00:00<?, ?B/s]"
            ],
            "application/vnd.jupyter.widget-view+json": {
              "version_major": 2,
              "version_minor": 0,
              "model_id": "453983f3756e4b37bd301d17b586d85a"
            }
          },
          "metadata": {}
        }
      ],
      "source": [
        "model = models.detection.fasterrcnn_resnet50_fpn(pretrained=True)\n",
        "in_features = model.roi_heads.box_predictor.cls_score.in_features # we need to change the head\n",
        "model.roi_heads.box_predictor = models.detection.faster_rcnn.FastRCNNPredictor(in_features, n_classes)"
      ]
    },
    {
      "cell_type": "code",
      "execution_count": null,
      "metadata": {
        "id": "JkgQOw4J7Hnj",
        "colab": {
          "base_uri": "https://localhost:8080/"
        },
        "outputId": "9e651b9b-ff05-4dc7-ee1c-4d53c5263523"
      },
      "outputs": [
        {
          "output_type": "execute_result",
          "data": {
            "text/plain": [
              "1024"
            ]
          },
          "metadata": {},
          "execution_count": 19
        }
      ],
      "source": [
        "in_features"
      ]
    },
    {
      "cell_type": "code",
      "source": [
        "# images,targets = next(iter(train_dataset))\n",
        "# images\n",
        "# # from torchmetrics.classification import MultilabelConfusionMatrix\n",
        "# # confmat = MultilabelConfusionMatrix(num_labels=2)\n",
        "# # confmat(images, targets)"
      ],
      "metadata": {
        "id": "-Fw56SquijUt"
      },
      "execution_count": null,
      "outputs": []
    },
    {
      "cell_type": "code",
      "execution_count": null,
      "metadata": {
        "id": "nNHp_b_C7Jps"
      },
      "outputs": [],
      "source": [
        "def collate_fn(batch):\n",
        "    return tuple(zip(*batch))"
      ]
    },
    {
      "cell_type": "code",
      "source": [
        "test_dataset = PestDetection(root=dataset_path, split=\"valid\", transforms=get_transforms(False))"
      ],
      "metadata": {
        "id": "aXP6-rNsc7Rm",
        "colab": {
          "base_uri": "https://localhost:8080/"
        },
        "outputId": "88c801c8-291a-4e99-ba71-bd07ce2dc03b"
      },
      "execution_count": null,
      "outputs": [
        {
          "output_type": "stream",
          "name": "stdout",
          "text": [
            "loading annotations into memory...\n",
            "Done (t=0.89s)\n",
            "creating index...\n",
            "index created!\n"
          ]
        }
      ]
    },
    {
      "cell_type": "code",
      "execution_count": null,
      "metadata": {
        "id": "zS05irB37LfW"
      },
      "outputs": [],
      "source": [
        "train_loader = DataLoader(train_dataset, batch_size=4, shuffle=True, num_workers=4, collate_fn=collate_fn)\n",
        "# valid_loader = DataLoader(valid_dataset, batch_size=4, shuffle=True, num_workers=4, collate_fn=collate_fn)\n",
        "test_loader = DataLoader(test_dataset, batch_size=4, shuffle=True, num_workers=4, collate_fn=collate_fn)\n"
      ]
    },
    {
      "cell_type": "code",
      "execution_count": null,
      "metadata": {
        "id": "u3QhfZ9B7O7o",
        "colab": {
          "base_uri": "https://localhost:8080/"
        },
        "outputId": "d6ee05c9-febf-4177-eb92-a2c711d52118"
      },
      "outputs": [
        {
          "output_type": "execute_result",
          "data": {
            "text/plain": [
              "tensor([[[0.3412, 0.3412, 0.3412,  ..., 0.4824, 0.4549, 0.4627],\n",
              "         [0.3412, 0.3412, 0.3412,  ..., 0.4706, 0.4784, 0.4941],\n",
              "         [0.3412, 0.3412, 0.3412,  ..., 0.4902, 0.4863, 0.3804],\n",
              "         ...,\n",
              "         [0.4902, 0.5529, 0.4667,  ..., 0.4353, 0.4275, 0.4275],\n",
              "         [0.4941, 0.5294, 0.5020,  ..., 0.4275, 0.4314, 0.4314],\n",
              "         [0.5216, 0.4902, 0.5020,  ..., 0.4275, 0.4314, 0.4353]],\n",
              "\n",
              "        [[0.5765, 0.5765, 0.5765,  ..., 0.6863, 0.6588, 0.6667],\n",
              "         [0.5765, 0.5765, 0.5765,  ..., 0.6745, 0.6784, 0.6980],\n",
              "         [0.5765, 0.5765, 0.5765,  ..., 0.6824, 0.6784, 0.5647],\n",
              "         ...,\n",
              "         [0.6745, 0.7333, 0.6510,  ..., 0.6667, 0.6706, 0.6706],\n",
              "         [0.6784, 0.7176, 0.6902,  ..., 0.6667, 0.6745, 0.6745],\n",
              "         [0.7059, 0.6745, 0.6902,  ..., 0.6706, 0.6745, 0.6784]],\n",
              "\n",
              "        [[0.0000, 0.0000, 0.0000,  ..., 0.0196, 0.0000, 0.0000],\n",
              "         [0.0000, 0.0000, 0.0000,  ..., 0.0078, 0.0157, 0.0353],\n",
              "         [0.0000, 0.0000, 0.0000,  ..., 0.0235, 0.0353, 0.0000],\n",
              "         ...,\n",
              "         [0.0118, 0.0784, 0.0078,  ..., 0.0078, 0.0078, 0.0078],\n",
              "         [0.0196, 0.0549, 0.0275,  ..., 0.0000, 0.0039, 0.0039],\n",
              "         [0.0471, 0.0157, 0.0275,  ..., 0.0000, 0.0039, 0.0078]]])"
            ]
          },
          "metadata": {},
          "execution_count": 24
        }
      ],
      "source": [
        "images,targets = next(iter(train_loader))\n",
        "\n",
        "images[0]\n"
      ]
    },
    {
      "cell_type": "code",
      "source": [
        "# targets[0]"
      ],
      "metadata": {
        "id": "KUv9aPuIswuI"
      },
      "execution_count": null,
      "outputs": []
    },
    {
      "cell_type": "code",
      "source": [
        "# from torchmetrics.classification import BinaryConfusionMatrix\n",
        "# confmat = BinaryConfusionMatrix()\n",
        "# confmat(images, targets)"
      ],
      "metadata": {
        "id": "-iQvGTX4hsAF"
      },
      "execution_count": null,
      "outputs": []
    },
    {
      "cell_type": "code",
      "execution_count": null,
      "metadata": {
        "id": "2eHmQEpA7RXn"
      },
      "outputs": [],
      "source": [
        "images = list(image for image in images)\n",
        "targets = [{k:v for k, v in t.items()} for t in targets]\n",
        "output = model(images, targets)"
      ]
    },
    {
      "cell_type": "code",
      "source": [
        "# from torchmetrics.functional.classification import multilabel_confusion_matrix"
      ],
      "metadata": {
        "id": "vDpKNC3srLoJ"
      },
      "execution_count": null,
      "outputs": []
    },
    {
      "cell_type": "code",
      "source": [
        "# preds = images"
      ],
      "metadata": {
        "id": "CzV7_ecfroPY"
      },
      "execution_count": null,
      "outputs": []
    },
    {
      "cell_type": "code",
      "source": [
        "# target = targets"
      ],
      "metadata": {
        "id": "_zjZL_9wrq-Z"
      },
      "execution_count": null,
      "outputs": []
    },
    {
      "cell_type": "code",
      "source": [
        "!pip install torchmetrics"
      ],
      "metadata": {
        "id": "i6Lh97kZwlrj",
        "colab": {
          "base_uri": "https://localhost:8080/"
        },
        "outputId": "dd15a51c-9c0e-421e-83c9-a1a3a56b4892"
      },
      "execution_count": null,
      "outputs": [
        {
          "output_type": "stream",
          "name": "stdout",
          "text": [
            "Looking in indexes: https://pypi.org/simple, https://us-python.pkg.dev/colab-wheels/public/simple/\n",
            "Collecting torchmetrics\n",
            "  Downloading torchmetrics-0.11.0-py3-none-any.whl (512 kB)\n",
            "\u001b[?25l     \u001b[90m━━━━━━━━━━━━━━━━━━━━━━━━━━━━━━━━━━━━━━━━\u001b[0m \u001b[32m0.0/512.4 KB\u001b[0m \u001b[31m?\u001b[0m eta \u001b[36m-:--:--\u001b[0m\r\u001b[2K     \u001b[91m━━━━━━━━━━━━━━━━━━━━━━━━━━━━━━\u001b[0m\u001b[90m╺\u001b[0m\u001b[90m━━━━━━━\u001b[0m \u001b[32m409.6/512.4 KB\u001b[0m \u001b[31m12.1 MB/s\u001b[0m eta \u001b[36m0:00:01\u001b[0m\r\u001b[2K     \u001b[90m━━━━━━━━━━━━━━━━━━━━━━━━━━━━━━━━━━━━━━\u001b[0m \u001b[32m512.4/512.4 KB\u001b[0m \u001b[31m10.5 MB/s\u001b[0m eta \u001b[36m0:00:00\u001b[0m\n",
            "\u001b[?25hRequirement already satisfied: typing-extensions in /usr/local/lib/python3.8/dist-packages (from torchmetrics) (4.4.0)\n",
            "Requirement already satisfied: torch>=1.8.1 in /usr/local/lib/python3.8/dist-packages (from torchmetrics) (1.13.1+cu116)\n",
            "Requirement already satisfied: numpy>=1.17.2 in /usr/local/lib/python3.8/dist-packages (from torchmetrics) (1.21.6)\n",
            "Requirement already satisfied: packaging in /usr/local/lib/python3.8/dist-packages (from torchmetrics) (21.3)\n",
            "Requirement already satisfied: pyparsing!=3.0.5,>=2.0.2 in /usr/local/lib/python3.8/dist-packages (from packaging->torchmetrics) (3.0.9)\n",
            "Installing collected packages: torchmetrics\n",
            "Successfully installed torchmetrics-0.11.0\n"
          ]
        }
      ]
    },
    {
      "cell_type": "code",
      "source": [
        "# from torchmetrics.classification import MulticlassAccuracy"
      ],
      "metadata": {
        "id": "zWKHThHqwqer"
      },
      "execution_count": null,
      "outputs": []
    },
    {
      "cell_type": "code",
      "execution_count": null,
      "metadata": {
        "id": "HwJJsYwh7UIT"
      },
      "outputs": [],
      "source": [
        "device = torch.device(\"cuda\")"
      ]
    },
    {
      "cell_type": "code",
      "execution_count": null,
      "metadata": {
        "id": "-WeA_SuX7V_y"
      },
      "outputs": [],
      "source": [
        "model = model.to(device)"
      ]
    },
    {
      "cell_type": "code",
      "source": [
        "# from torch.optim import Adam"
      ],
      "metadata": {
        "id": "40k9M9SM1NHz"
      },
      "execution_count": null,
      "outputs": []
    },
    {
      "cell_type": "code",
      "execution_count": null,
      "metadata": {
        "id": "SHtOiJPw7YzV"
      },
      "outputs": [],
      "source": [
        "params = [p for p in model.parameters() if p.requires_grad]\n",
        "optimizer = torch.optim.AdamW(params, lr=1e-5,  weight_decay=5e-4)"
      ]
    },
    {
      "cell_type": "code",
      "source": [
        "import os"
      ],
      "metadata": {
        "id": "qRB3oSp7ewGK"
      },
      "execution_count": null,
      "outputs": []
    },
    {
      "cell_type": "code",
      "execution_count": null,
      "metadata": {
        "id": "aVXF53xu7alS"
      },
      "outputs": [],
      "source": [
        "def train_one_epoch(model, optimizer, loader, device, epoch):\n",
        "    model.to(device)\n",
        "    model.train()\n",
        "    \n",
        "#     lr_scheduler = None\n",
        "#     if epoch == 0:\n",
        "#         warmup_factor = 1.0 / 1000 # do lr warmup\n",
        "#         warmup_iters = min(1000, len(loader) - 1)\n",
        "        \n",
        "#         lr_scheduler = optim.lr_scheduler.LinearLR(optimizer, start_factor = warmup_factor, total_iters=warmup_iters)\n",
        "    \n",
        "    all_losses = []\n",
        "    all_losses_dict = []\n",
        "    for images, targets in tqdm(loader):\n",
        "      \n",
        "          images = list(image.to(device) for image in images)\n",
        "          targets = [{k: torch.tensor(v).to(device) for k, v in t.items()} for t in targets]\n",
        "          \n",
        "          loss_dict = model(images, targets) # the model computes the loss automatically if we pass in targets\n",
        "          losses = sum(loss for loss in loss_dict.values())\n",
        "          loss_dict_append = {k: v.item() for k, v in loss_dict.items()}\n",
        "          loss_value = losses.item()\n",
        "          \n",
        "          all_losses.append(loss_value)\n",
        "          all_losses_dict.append(loss_dict_append)\n",
        "          \n",
        "          if not math.isfinite(loss_value):\n",
        "              print(f\"Loss is {loss_value}, stopping trainig\") # train if loss becomes infinity\n",
        "              print(loss_dict)\n",
        "              sys.exit(1)\n",
        "          \n",
        "          optimizer.zero_grad()\n",
        "          losses.backward()\n",
        "          optimizer.step()\n",
        "        \n",
        "#         if lr_scheduler is not None:\n",
        "#             lr_scheduler.step() # \n",
        "    # print(f\"Avg train Loss: {np.mean(all_losses)}\")\n",
        "    return np.mean(all_losses)\n",
        "        \n",
        "    all_losses_dict = pd.DataFrame(all_losses_dict) # for printing\n",
        "    print(\"Epoch {}, lr: {:.6f}, loss: {:.6f}, loss_classifier: {:.6f}, loss_box: {:.6f}, loss_rpn_box: {:.6f}, loss_object: {:.6f}\".format(\n",
        "        epoch, optimizer.param_groups[0]['lr'], np.mean(all_losses),\n",
        "        all_losses_dict['loss_classifier'].mean(),\n",
        "        all_losses_dict['loss_box_reg'].mean(),\n",
        "        all_losses_dict['loss_rpn_box_reg'].mean(),\n",
        "        all_losses_dict['loss_objectness'].mean()\n",
        "    ))"
      ]
    },
    {
      "cell_type": "code",
      "source": [
        "best_vloss = np.inf\n",
        "def validate(loader, model, optimizer, device, epoch):\n",
        "    global best_vloss\n",
        "    loop = tqdm(loader)\n",
        "    running_vloss = 0\n",
        "    for batch_idx, (images, targets) in enumerate(loop):\n",
        "        images = list(image.to(device) for image in images)\n",
        "        targets = [{k: v.to(device) for k, v in t.items()} for t in targets]\n",
        "        \n",
        "        with torch.no_grad():\n",
        "          loss_dict = model(images, targets)\n",
        "        \n",
        "        losses = sum(loss for loss in loss_dict.values())\n",
        "        running_vloss += losses\n",
        "        \n",
        "    avg_vloss = running_vloss / (batch_idx + 1)\n",
        "    print(f\"Avg Valid Loss: {avg_vloss}\")\n",
        "    if avg_vloss < best_vloss:\n",
        "      best_vloss = avg_vloss\n",
        "      # if SAVE_MODEL:\n",
        "      #       print(\"Model improved, saving...\")\n",
        "      #       checkpoint = {\n",
        "      #           \"state_dict\": model.state_dict(),\n",
        "      #           \"optimizer\": optimizer.state_dict(),\n",
        "      #       }\n",
        "      #       save_checkpoint(checkpoint, filename=f\"1152KaggleBest_second_{epoch}.pth.tar\")\n",
        "    print('\\n')\n",
        "    return avg_vloss"
      ],
      "metadata": {
        "id": "YrKmC9DMa-hx"
      },
      "execution_count": null,
      "outputs": []
    },
    {
      "cell_type": "code",
      "execution_count": null,
      "metadata": {
        "id": "uCKDS4Wh7c9o",
        "colab": {
          "base_uri": "https://localhost:8080/"
        },
        "outputId": "eb1be63b-3f02-42e3-e947-3a65ec2b64f2"
      },
      "outputs": [
        {
          "output_type": "stream",
          "name": "stderr",
          "text": [
            "100%|██████████| 418/418 [05:35<00:00,  1.25it/s]\n",
            "100%|██████████| 31/31 [00:13<00:00,  2.36it/s]\n"
          ]
        },
        {
          "output_type": "stream",
          "name": "stdout",
          "text": [
            "Avg Valid Loss: 0.17044562101364136\n",
            "\n",
            "\n"
          ]
        },
        {
          "output_type": "stream",
          "name": "stderr",
          "text": [
            "100%|██████████| 418/418 [05:31<00:00,  1.26it/s]\n",
            "100%|██████████| 31/31 [00:11<00:00,  2.62it/s]\n"
          ]
        },
        {
          "output_type": "stream",
          "name": "stdout",
          "text": [
            "Avg Valid Loss: 0.14102748036384583\n",
            "\n",
            "\n"
          ]
        },
        {
          "output_type": "stream",
          "name": "stderr",
          "text": [
            "100%|██████████| 418/418 [05:31<00:00,  1.26it/s]\n",
            "100%|██████████| 31/31 [00:11<00:00,  2.60it/s]\n"
          ]
        },
        {
          "output_type": "stream",
          "name": "stdout",
          "text": [
            "Avg Valid Loss: 0.13612693548202515\n",
            "\n",
            "\n"
          ]
        },
        {
          "output_type": "stream",
          "name": "stderr",
          "text": [
            "100%|██████████| 418/418 [05:31<00:00,  1.26it/s]\n",
            "100%|██████████| 31/31 [00:11<00:00,  2.61it/s]\n"
          ]
        },
        {
          "output_type": "stream",
          "name": "stdout",
          "text": [
            "Avg Valid Loss: 0.13787050545215607\n",
            "\n",
            "\n"
          ]
        },
        {
          "output_type": "stream",
          "name": "stderr",
          "text": [
            "100%|██████████| 418/418 [05:30<00:00,  1.26it/s]\n",
            "100%|██████████| 31/31 [00:11<00:00,  2.61it/s]\n"
          ]
        },
        {
          "output_type": "stream",
          "name": "stdout",
          "text": [
            "Avg Valid Loss: 0.13164357841014862\n",
            "\n",
            "\n"
          ]
        },
        {
          "output_type": "stream",
          "name": "stderr",
          "text": [
            "100%|██████████| 418/418 [05:31<00:00,  1.26it/s]\n",
            "100%|██████████| 31/31 [00:12<00:00,  2.56it/s]\n"
          ]
        },
        {
          "output_type": "stream",
          "name": "stdout",
          "text": [
            "Avg Valid Loss: 0.1302657127380371\n",
            "\n",
            "\n"
          ]
        },
        {
          "output_type": "stream",
          "name": "stderr",
          "text": [
            "100%|██████████| 418/418 [05:31<00:00,  1.26it/s]\n",
            "100%|██████████| 31/31 [00:11<00:00,  2.61it/s]\n"
          ]
        },
        {
          "output_type": "stream",
          "name": "stdout",
          "text": [
            "Avg Valid Loss: 0.12857238948345184\n",
            "\n",
            "\n"
          ]
        },
        {
          "output_type": "stream",
          "name": "stderr",
          "text": [
            "100%|██████████| 418/418 [05:30<00:00,  1.26it/s]\n",
            "100%|██████████| 31/31 [00:11<00:00,  2.61it/s]\n"
          ]
        },
        {
          "output_type": "stream",
          "name": "stdout",
          "text": [
            "Avg Valid Loss: 0.1266741007566452\n",
            "\n",
            "\n"
          ]
        },
        {
          "output_type": "stream",
          "name": "stderr",
          "text": [
            "100%|██████████| 418/418 [05:30<00:00,  1.26it/s]\n",
            "100%|██████████| 31/31 [00:11<00:00,  2.60it/s]\n"
          ]
        },
        {
          "output_type": "stream",
          "name": "stdout",
          "text": [
            "Avg Valid Loss: 0.13041798770427704\n",
            "\n",
            "\n"
          ]
        },
        {
          "output_type": "stream",
          "name": "stderr",
          "text": [
            "100%|██████████| 418/418 [05:30<00:00,  1.26it/s]\n",
            "100%|██████████| 31/31 [00:12<00:00,  2.58it/s]\n"
          ]
        },
        {
          "output_type": "stream",
          "name": "stdout",
          "text": [
            "Avg Valid Loss: 0.12578816711902618\n",
            "\n",
            "\n"
          ]
        },
        {
          "output_type": "stream",
          "name": "stderr",
          "text": [
            "100%|██████████| 418/418 [05:30<00:00,  1.26it/s]\n",
            "100%|██████████| 31/31 [00:11<00:00,  2.61it/s]\n"
          ]
        },
        {
          "output_type": "stream",
          "name": "stdout",
          "text": [
            "Avg Valid Loss: 0.12856943905353546\n",
            "\n",
            "\n"
          ]
        },
        {
          "output_type": "stream",
          "name": "stderr",
          "text": [
            "100%|██████████| 418/418 [05:31<00:00,  1.26it/s]\n",
            "100%|██████████| 31/31 [00:12<00:00,  2.57it/s]\n"
          ]
        },
        {
          "output_type": "stream",
          "name": "stdout",
          "text": [
            "Avg Valid Loss: 0.12364964932203293\n",
            "\n",
            "\n"
          ]
        },
        {
          "output_type": "stream",
          "name": "stderr",
          "text": [
            "100%|██████████| 418/418 [05:30<00:00,  1.26it/s]\n",
            "100%|██████████| 31/31 [00:11<00:00,  2.59it/s]\n"
          ]
        },
        {
          "output_type": "stream",
          "name": "stdout",
          "text": [
            "Avg Valid Loss: 0.12216836959123611\n",
            "\n",
            "\n"
          ]
        },
        {
          "output_type": "stream",
          "name": "stderr",
          "text": [
            "  1%|▏         | 6/418 [00:05<05:34,  1.23it/s]"
          ]
        }
      ],
      "source": [
        "num_epochs=25\n",
        "train_error = []\n",
        "val_error = []\n",
        "for epoch in range(num_epochs):\n",
        "    train=train_one_epoch(model, optimizer, train_loader, device, epoch)\n",
        "    vloss= validate(test_loader, model, optimizer, device, epoch)\n",
        "    train_error.append(train*100)\n",
        "    val_error.append(vloss.tolist()*100)\n",
        "    \n",
        "  "
      ]
    },
    {
      "cell_type": "code",
      "source": [
        "train_error"
      ],
      "metadata": {
        "id": "dOfkFOwsllIQ"
      },
      "execution_count": null,
      "outputs": []
    },
    {
      "cell_type": "code",
      "source": [
        "vloss.tolist()"
      ],
      "metadata": {
        "id": "UYKCysWDlQX7"
      },
      "execution_count": null,
      "outputs": []
    },
    {
      "cell_type": "code",
      "source": [
        "# plt.figure(figsize=(8, 8))\n",
        "# plt.subplot(2, 1, 1)\n",
        "# plt.plot(train_acc, label='Train Accuracy')\n",
        "# plt.plot(val_acc, label='Validation Accuracy')\n",
        "# plt.legend(loc='lower right')\n",
        "# plt.ylabel('Accuracy')\n",
        "# plt.ylim([0.3, 1.1])\n",
        "# plt.axvline(best_ntree_limit-1, color=\"gray\", label=\"Optimal tree number\")\n",
        "# plt.title('Training and Validation Accuracy')\n",
        "\n",
        "\n",
        "plt.subplot(2, 1, 2)\n",
        "plt.plot(train_error, label='Training Loss')\n",
        "plt.plot(val_error, label='Validation Loss')\n",
        "plt.legend()\n",
        "plt.title('Training and Validation Loss')\n",
        "plt.axvline(num_epochs, color=\"gray\", label=\"Epoch\")\n",
        "# plt.ylabel('merror')\n",
        "plt.ylabel('Loss')\n",
        "\n",
        "plt.show()"
      ],
      "metadata": {
        "id": "AtxspJ8Qg36f"
      },
      "execution_count": null,
      "outputs": []
    },
    {
      "cell_type": "code",
      "execution_count": null,
      "metadata": {
        "id": "uqxIaGhy7hHb"
      },
      "outputs": [],
      "source": [
        "model.eval()\n",
        "torch.cuda.empty_cache()"
      ]
    },
    {
      "cell_type": "code",
      "execution_count": null,
      "metadata": {
        "id": "we59ghcJ7m7e"
      },
      "outputs": [],
      "source": [
        "len(test_dataset)"
      ]
    },
    {
      "cell_type": "code",
      "source": [
        "import torch\n",
        "from torchmetrics.detection.mean_ap import MeanAveragePrecision"
      ],
      "metadata": {
        "id": "t6wZMbglO7Rw"
      },
      "execution_count": null,
      "outputs": []
    },
    {
      "cell_type": "code",
      "source": [
        "# print(\"Score\")\n",
        "\n",
        "# img, _ = test_dataset[10]\n",
        "# # print(images)\n",
        "# # print(img)\n",
        "# img_int = torch.tensor(img*255, dtype=torch.uint8)\n",
        "\n",
        "# with torch.no_grad():\n",
        "#       # _, predicted = torch.max(img.data, 2)\n",
        "#       prediction = model([img.to(device)])\n",
        "#       # print(prediction)\n",
        "#       pred = prediction[0]\n",
        "#       # x = model([images.to(device)])\n",
        "#       # print(pred)\n",
        "      \n",
        "#       # # print(pred)\n",
        "#       # x = pred['scores'] > 0.7\n",
        "#       # print(x)\n",
        "#       # print(targets[0])\n",
        "#       # images = list(image.to(device) for image in images)\n",
        "#       # print(images)\n",
        "#       metric = MeanAveragePrecision(box_format='xyxy', iou_type='bbox', iou_thresholds=None, rec_thresholds=None, max_detection_thresholds=None, class_metrics=False)\n",
        "#       metric.update(pred, images)\n",
        "#       # from pprint import pprint\n",
        "#       # pprint(metric.compute())\n",
        "      \n",
        "\n",
        "  \n",
        "  \n",
        "    \n",
        "  \n"
      ],
      "metadata": {
        "id": "kVDnbDoJ1HAb"
      },
      "execution_count": null,
      "outputs": []
    },
    {
      "cell_type": "code",
      "execution_count": null,
      "metadata": {
        "id": "35zJOj907nrj"
      },
      "outputs": [],
      "source": [
        "print(\"Score\")\n",
        "for i in range(4):\n",
        "  img, _ = test_dataset[i]\n",
        "  img_int = torch.tensor(img*255, dtype=torch.uint8)\n",
        "  with torch.no_grad():\n",
        "      prediction = model([img.to(device)])\n",
        "      pred = prediction[0]\n",
        "      \n",
        "  \n",
        "  # print(prediction,targets[1]['labels'])\n",
        "  \n",
        "  print( [classes[i] for i in pred['labels'][pred['scores'] > 0.7].tolist()], \": \",pred['scores'].tolist() )\n",
        "  fig = plt.figure(figsize=(14, 10))\n",
        "  plt.imshow(draw_bounding_boxes(img_int,\n",
        "    pred['boxes'][pred['scores'] > 0.8], \n",
        "    [classes[i] for i in pred['labels'][pred['scores'] > 0.8].tolist()], width=4\n",
        "  ).permute(1, 2, 0))\n",
        "\n",
        "  \n",
        "  \n",
        "    \n",
        "  \n"
      ]
    },
    {
      "cell_type": "code",
      "source": [
        "# img, _ = test_dataset[3]\n",
        "# img_int = torch.tensor(img*255, dtype=torch.uint8)\n",
        "# with torch.no_grad():\n",
        "#       prediction = model([img.to(device)])\n",
        "#       pred = prediction[0]\n",
        "      \n",
        "  \n",
        "# print(prediction,targets[1]['labels'])\n",
        "  \n",
        "#   # print( [classes[i] for i in pred['labels'][pred['scores'] > 0.8].tolist()], \": \",pred['scores'].tolist() )\n",
        "# fig = plt.figure(figsize=(14, 10))\n",
        "# plt.imshow(draw_bounding_boxes(img_int,\n",
        "#     pred['boxes'][pred['scores'] > 0.4], \n",
        "#     [classes[i] for i in pred['labels'][pred['scores'] > 0.4].tolist()], width=4\n",
        "#   ).permute(1, 2, 0))\n"
      ],
      "metadata": {
        "id": "cFB_4u1oNBXf"
      },
      "execution_count": null,
      "outputs": []
    },
    {
      "cell_type": "code",
      "source": [
        "# from sklearn import metrics"
      ],
      "metadata": {
        "id": "MIRXdLF1sURE"
      },
      "execution_count": null,
      "outputs": []
    },
    {
      "cell_type": "code",
      "source": [
        "# prediction\n",
        "# # multilabel_confusion_matrix(images[0], prediction, num_labels=4)"
      ],
      "metadata": {
        "id": "Z85gdYPjsA-y"
      },
      "execution_count": null,
      "outputs": []
    }
  ],
  "metadata": {
    "accelerator": "GPU",
    "colab": {
      "provenance": [],
      "mount_file_id": "1yKeezI6BQDKBREHr9kK9YVtvTbKYdl32",
      "authorship_tag": "ABX9TyN3uvNcM7cPj/vaRQ1lPq9a",
      "include_colab_link": true
    },
    "gpuClass": "standard",
    "kernelspec": {
      "display_name": "Python 3",
      "name": "python3"
    },
    "language_info": {
      "name": "python"
    },
    "widgets": {
      "application/vnd.jupyter.widget-state+json": {
        "453983f3756e4b37bd301d17b586d85a": {
          "model_module": "@jupyter-widgets/controls",
          "model_name": "HBoxModel",
          "model_module_version": "1.5.0",
          "state": {
            "_dom_classes": [],
            "_model_module": "@jupyter-widgets/controls",
            "_model_module_version": "1.5.0",
            "_model_name": "HBoxModel",
            "_view_count": null,
            "_view_module": "@jupyter-widgets/controls",
            "_view_module_version": "1.5.0",
            "_view_name": "HBoxView",
            "box_style": "",
            "children": [
              "IPY_MODEL_b85fe28bc3da44a9bd4234cd7dc0fa39",
              "IPY_MODEL_10679ff957154b86a42ac775a28dba68",
              "IPY_MODEL_e7b73c3faf7b4703ae37b59988d9b1cb"
            ],
            "layout": "IPY_MODEL_06621419a2894ba3aa0e7224c67d3ba1"
          }
        },
        "b85fe28bc3da44a9bd4234cd7dc0fa39": {
          "model_module": "@jupyter-widgets/controls",
          "model_name": "HTMLModel",
          "model_module_version": "1.5.0",
          "state": {
            "_dom_classes": [],
            "_model_module": "@jupyter-widgets/controls",
            "_model_module_version": "1.5.0",
            "_model_name": "HTMLModel",
            "_view_count": null,
            "_view_module": "@jupyter-widgets/controls",
            "_view_module_version": "1.5.0",
            "_view_name": "HTMLView",
            "description": "",
            "description_tooltip": null,
            "layout": "IPY_MODEL_fff12543ab41480f997de5205c2dfee5",
            "placeholder": "​",
            "style": "IPY_MODEL_495fa4c91d2e45d984f3cf73ca47eaff",
            "value": "100%"
          }
        },
        "10679ff957154b86a42ac775a28dba68": {
          "model_module": "@jupyter-widgets/controls",
          "model_name": "FloatProgressModel",
          "model_module_version": "1.5.0",
          "state": {
            "_dom_classes": [],
            "_model_module": "@jupyter-widgets/controls",
            "_model_module_version": "1.5.0",
            "_model_name": "FloatProgressModel",
            "_view_count": null,
            "_view_module": "@jupyter-widgets/controls",
            "_view_module_version": "1.5.0",
            "_view_name": "ProgressView",
            "bar_style": "success",
            "description": "",
            "description_tooltip": null,
            "layout": "IPY_MODEL_4ccbc3900bd54bf2a5681f6c8f19c718",
            "max": 167502836,
            "min": 0,
            "orientation": "horizontal",
            "style": "IPY_MODEL_96b525a50d884fb59e6d91b6c6e6ea8c",
            "value": 167502836
          }
        },
        "e7b73c3faf7b4703ae37b59988d9b1cb": {
          "model_module": "@jupyter-widgets/controls",
          "model_name": "HTMLModel",
          "model_module_version": "1.5.0",
          "state": {
            "_dom_classes": [],
            "_model_module": "@jupyter-widgets/controls",
            "_model_module_version": "1.5.0",
            "_model_name": "HTMLModel",
            "_view_count": null,
            "_view_module": "@jupyter-widgets/controls",
            "_view_module_version": "1.5.0",
            "_view_name": "HTMLView",
            "description": "",
            "description_tooltip": null,
            "layout": "IPY_MODEL_f16690db28f34c8383e357750a85f00f",
            "placeholder": "​",
            "style": "IPY_MODEL_a48ee94776bb4b49a268cd8b4aa41d04",
            "value": " 160M/160M [00:00&lt;00:00, 250MB/s]"
          }
        },
        "06621419a2894ba3aa0e7224c67d3ba1": {
          "model_module": "@jupyter-widgets/base",
          "model_name": "LayoutModel",
          "model_module_version": "1.2.0",
          "state": {
            "_model_module": "@jupyter-widgets/base",
            "_model_module_version": "1.2.0",
            "_model_name": "LayoutModel",
            "_view_count": null,
            "_view_module": "@jupyter-widgets/base",
            "_view_module_version": "1.2.0",
            "_view_name": "LayoutView",
            "align_content": null,
            "align_items": null,
            "align_self": null,
            "border": null,
            "bottom": null,
            "display": null,
            "flex": null,
            "flex_flow": null,
            "grid_area": null,
            "grid_auto_columns": null,
            "grid_auto_flow": null,
            "grid_auto_rows": null,
            "grid_column": null,
            "grid_gap": null,
            "grid_row": null,
            "grid_template_areas": null,
            "grid_template_columns": null,
            "grid_template_rows": null,
            "height": null,
            "justify_content": null,
            "justify_items": null,
            "left": null,
            "margin": null,
            "max_height": null,
            "max_width": null,
            "min_height": null,
            "min_width": null,
            "object_fit": null,
            "object_position": null,
            "order": null,
            "overflow": null,
            "overflow_x": null,
            "overflow_y": null,
            "padding": null,
            "right": null,
            "top": null,
            "visibility": null,
            "width": null
          }
        },
        "fff12543ab41480f997de5205c2dfee5": {
          "model_module": "@jupyter-widgets/base",
          "model_name": "LayoutModel",
          "model_module_version": "1.2.0",
          "state": {
            "_model_module": "@jupyter-widgets/base",
            "_model_module_version": "1.2.0",
            "_model_name": "LayoutModel",
            "_view_count": null,
            "_view_module": "@jupyter-widgets/base",
            "_view_module_version": "1.2.0",
            "_view_name": "LayoutView",
            "align_content": null,
            "align_items": null,
            "align_self": null,
            "border": null,
            "bottom": null,
            "display": null,
            "flex": null,
            "flex_flow": null,
            "grid_area": null,
            "grid_auto_columns": null,
            "grid_auto_flow": null,
            "grid_auto_rows": null,
            "grid_column": null,
            "grid_gap": null,
            "grid_row": null,
            "grid_template_areas": null,
            "grid_template_columns": null,
            "grid_template_rows": null,
            "height": null,
            "justify_content": null,
            "justify_items": null,
            "left": null,
            "margin": null,
            "max_height": null,
            "max_width": null,
            "min_height": null,
            "min_width": null,
            "object_fit": null,
            "object_position": null,
            "order": null,
            "overflow": null,
            "overflow_x": null,
            "overflow_y": null,
            "padding": null,
            "right": null,
            "top": null,
            "visibility": null,
            "width": null
          }
        },
        "495fa4c91d2e45d984f3cf73ca47eaff": {
          "model_module": "@jupyter-widgets/controls",
          "model_name": "DescriptionStyleModel",
          "model_module_version": "1.5.0",
          "state": {
            "_model_module": "@jupyter-widgets/controls",
            "_model_module_version": "1.5.0",
            "_model_name": "DescriptionStyleModel",
            "_view_count": null,
            "_view_module": "@jupyter-widgets/base",
            "_view_module_version": "1.2.0",
            "_view_name": "StyleView",
            "description_width": ""
          }
        },
        "4ccbc3900bd54bf2a5681f6c8f19c718": {
          "model_module": "@jupyter-widgets/base",
          "model_name": "LayoutModel",
          "model_module_version": "1.2.0",
          "state": {
            "_model_module": "@jupyter-widgets/base",
            "_model_module_version": "1.2.0",
            "_model_name": "LayoutModel",
            "_view_count": null,
            "_view_module": "@jupyter-widgets/base",
            "_view_module_version": "1.2.0",
            "_view_name": "LayoutView",
            "align_content": null,
            "align_items": null,
            "align_self": null,
            "border": null,
            "bottom": null,
            "display": null,
            "flex": null,
            "flex_flow": null,
            "grid_area": null,
            "grid_auto_columns": null,
            "grid_auto_flow": null,
            "grid_auto_rows": null,
            "grid_column": null,
            "grid_gap": null,
            "grid_row": null,
            "grid_template_areas": null,
            "grid_template_columns": null,
            "grid_template_rows": null,
            "height": null,
            "justify_content": null,
            "justify_items": null,
            "left": null,
            "margin": null,
            "max_height": null,
            "max_width": null,
            "min_height": null,
            "min_width": null,
            "object_fit": null,
            "object_position": null,
            "order": null,
            "overflow": null,
            "overflow_x": null,
            "overflow_y": null,
            "padding": null,
            "right": null,
            "top": null,
            "visibility": null,
            "width": null
          }
        },
        "96b525a50d884fb59e6d91b6c6e6ea8c": {
          "model_module": "@jupyter-widgets/controls",
          "model_name": "ProgressStyleModel",
          "model_module_version": "1.5.0",
          "state": {
            "_model_module": "@jupyter-widgets/controls",
            "_model_module_version": "1.5.0",
            "_model_name": "ProgressStyleModel",
            "_view_count": null,
            "_view_module": "@jupyter-widgets/base",
            "_view_module_version": "1.2.0",
            "_view_name": "StyleView",
            "bar_color": null,
            "description_width": ""
          }
        },
        "f16690db28f34c8383e357750a85f00f": {
          "model_module": "@jupyter-widgets/base",
          "model_name": "LayoutModel",
          "model_module_version": "1.2.0",
          "state": {
            "_model_module": "@jupyter-widgets/base",
            "_model_module_version": "1.2.0",
            "_model_name": "LayoutModel",
            "_view_count": null,
            "_view_module": "@jupyter-widgets/base",
            "_view_module_version": "1.2.0",
            "_view_name": "LayoutView",
            "align_content": null,
            "align_items": null,
            "align_self": null,
            "border": null,
            "bottom": null,
            "display": null,
            "flex": null,
            "flex_flow": null,
            "grid_area": null,
            "grid_auto_columns": null,
            "grid_auto_flow": null,
            "grid_auto_rows": null,
            "grid_column": null,
            "grid_gap": null,
            "grid_row": null,
            "grid_template_areas": null,
            "grid_template_columns": null,
            "grid_template_rows": null,
            "height": null,
            "justify_content": null,
            "justify_items": null,
            "left": null,
            "margin": null,
            "max_height": null,
            "max_width": null,
            "min_height": null,
            "min_width": null,
            "object_fit": null,
            "object_position": null,
            "order": null,
            "overflow": null,
            "overflow_x": null,
            "overflow_y": null,
            "padding": null,
            "right": null,
            "top": null,
            "visibility": null,
            "width": null
          }
        },
        "a48ee94776bb4b49a268cd8b4aa41d04": {
          "model_module": "@jupyter-widgets/controls",
          "model_name": "DescriptionStyleModel",
          "model_module_version": "1.5.0",
          "state": {
            "_model_module": "@jupyter-widgets/controls",
            "_model_module_version": "1.5.0",
            "_model_name": "DescriptionStyleModel",
            "_view_count": null,
            "_view_module": "@jupyter-widgets/base",
            "_view_module_version": "1.2.0",
            "_view_name": "StyleView",
            "description_width": ""
          }
        }
      }
    }
  },
  "nbformat": 4,
  "nbformat_minor": 0
}