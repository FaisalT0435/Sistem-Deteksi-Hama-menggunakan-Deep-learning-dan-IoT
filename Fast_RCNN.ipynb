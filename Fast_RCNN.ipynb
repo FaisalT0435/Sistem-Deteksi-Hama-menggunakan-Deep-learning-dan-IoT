{
  "cells": [
    {
      "cell_type": "markdown",
      "metadata": {
        "id": "view-in-github",
        "colab_type": "text"
      },
      "source": [
        "<a href=\"https://colab.research.google.com/github/FaisalT0435/Sistem-Deteksi-Hama-menggunakan-Deep-learning-dan-IoT/blob/main/Fast_RCNN.ipynb\" target=\"_parent\"><img src=\"https://colab.research.google.com/assets/colab-badge.svg\" alt=\"Open In Colab\"/></a>"
      ]
    },
    {
      "cell_type": "code",
      "execution_count": 4,
      "metadata": {
        "colab": {
          "base_uri": "https://localhost:8080/"
        },
        "id": "zBvckS8b4yf7",
        "outputId": "2a7cd9a9-ebdd-4c65-f595-ab7a7e0ea4d3"
      },
      "outputs": [
        {
          "output_type": "stream",
          "name": "stdout",
          "text": [
            "Fri Jan 27 06:17:18 2023       \n",
            "+-----------------------------------------------------------------------------+\n",
            "| NVIDIA-SMI 510.47.03    Driver Version: 510.47.03    CUDA Version: 11.6     |\n",
            "|-------------------------------+----------------------+----------------------+\n",
            "| GPU  Name        Persistence-M| Bus-Id        Disp.A | Volatile Uncorr. ECC |\n",
            "| Fan  Temp  Perf  Pwr:Usage/Cap|         Memory-Usage | GPU-Util  Compute M. |\n",
            "|                               |                      |               MIG M. |\n",
            "|===============================+======================+======================|\n",
            "|   0  Tesla T4            Off  | 00000000:00:04.0 Off |                    0 |\n",
            "| N/A   49C    P0    27W /  70W |      0MiB / 15360MiB |      0%      Default |\n",
            "|                               |                      |                  N/A |\n",
            "+-------------------------------+----------------------+----------------------+\n",
            "                                                                               \n",
            "+-----------------------------------------------------------------------------+\n",
            "| Processes:                                                                  |\n",
            "|  GPU   GI   CI        PID   Type   Process name                  GPU Memory |\n",
            "|        ID   ID                                                   Usage      |\n",
            "|=============================================================================|\n",
            "|  No running processes found                                                 |\n",
            "+-----------------------------------------------------------------------------+\n"
          ]
        }
      ],
      "source": [
        "!nvidia-smi"
      ]
    },
    {
      "cell_type": "code",
      "execution_count": 5,
      "metadata": {
        "id": "fYTj0vMb5HE7"
      },
      "outputs": [],
      "source": [
        "import numpy as np # linear algebra\n",
        "import pandas as pd # data processing, CSV file I/O (e.g. pd.read_csv)\n",
        "import os"
      ]
    },
    {
      "cell_type": "code",
      "execution_count": 6,
      "metadata": {
        "colab": {
          "base_uri": "https://localhost:8080/"
        },
        "id": "VrXQsXHk5LZI",
        "outputId": "68d5e881-dbe2-4389-86af-101ab4f3b44d"
      },
      "outputs": [
        {
          "output_type": "stream",
          "name": "stdout",
          "text": [
            "Mounted at /content/drive\n"
          ]
        }
      ],
      "source": [
        "from google.colab import drive\n",
        "drive.mount('/content/drive')\n"
      ]
    },
    {
      "cell_type": "code",
      "execution_count": 7,
      "metadata": {
        "id": "P9oy8Oq27Bf1"
      },
      "outputs": [],
      "source": [
        "from torchvision import datasets, models"
      ]
    },
    {
      "cell_type": "code",
      "execution_count": 8,
      "metadata": {
        "colab": {
          "base_uri": "https://localhost:8080/"
        },
        "id": "KeYH6Tab5QIB",
        "outputId": "b64ba3d5-d270-4cb7-ee8c-b3ca52878491"
      },
      "outputs": [
        {
          "output_type": "stream",
          "name": "stdout",
          "text": [
            "Looking in indexes: https://pypi.org/simple, https://us-python.pkg.dev/colab-wheels/public/simple/\n",
            "Requirement already satisfied: torchvision in /usr/local/lib/python3.8/dist-packages (0.14.1+cu116)\n",
            "Requirement already satisfied: pillow!=8.3.*,>=5.3.0 in /usr/local/lib/python3.8/dist-packages (from torchvision) (7.1.2)\n",
            "Requirement already satisfied: numpy in /usr/local/lib/python3.8/dist-packages (from torchvision) (1.21.6)\n",
            "Requirement already satisfied: requests in /usr/local/lib/python3.8/dist-packages (from torchvision) (2.25.1)\n",
            "Requirement already satisfied: typing-extensions in /usr/local/lib/python3.8/dist-packages (from torchvision) (4.4.0)\n",
            "Requirement already satisfied: torch==1.13.1 in /usr/local/lib/python3.8/dist-packages (from torchvision) (1.13.1+cu116)\n",
            "Requirement already satisfied: urllib3<1.27,>=1.21.1 in /usr/local/lib/python3.8/dist-packages (from requests->torchvision) (1.24.3)\n",
            "Requirement already satisfied: chardet<5,>=3.0.2 in /usr/local/lib/python3.8/dist-packages (from requests->torchvision) (4.0.0)\n",
            "Requirement already satisfied: certifi>=2017.4.17 in /usr/local/lib/python3.8/dist-packages (from requests->torchvision) (2022.12.7)\n",
            "Requirement already satisfied: idna<3,>=2.5 in /usr/local/lib/python3.8/dist-packages (from requests->torchvision) (2.10)\n"
          ]
        }
      ],
      "source": [
        "!pip install -U torchvision "
      ]
    },
    {
      "cell_type": "code",
      "execution_count": 9,
      "metadata": {
        "id": "W7AL1Xcc5Sao"
      },
      "outputs": [],
      "source": [
        "import torch\n",
        "import torchvision\n",
        "from torchvision import datasets, models\n",
        "from torchvision.transforms import functional as FT\n",
        "from torchvision import transforms as T\n",
        "from torch import nn, optim\n",
        "from torch.nn import functional as F\n",
        "from torch.utils.data import DataLoader, sampler, random_split, Dataset\n",
        "import copy\n",
        "import math\n",
        "from PIL import Image\n",
        "import cv2\n",
        "import albumentations as A  # our data augmentation library\n",
        "\n",
        "import matplotlib.pyplot as plt\n",
        "%matplotlib inline"
      ]
    },
    {
      "cell_type": "code",
      "execution_count": 10,
      "metadata": {
        "id": "U5eUIvkC5VNG"
      },
      "outputs": [],
      "source": [
        "import warnings\n",
        "warnings.filterwarnings(\"ignore\")\n",
        "from collections import defaultdict, deque\n",
        "import datetime\n",
        "import time\n",
        "from tqdm import tqdm # progress bar\n",
        "from torchvision.utils import draw_bounding_boxes"
      ]
    },
    {
      "cell_type": "code",
      "execution_count": 11,
      "metadata": {
        "colab": {
          "base_uri": "https://localhost:8080/"
        },
        "id": "1cXjLahn5XHB",
        "outputId": "ad7c9b8f-d15a-4f8b-9382-e03907bf5791"
      },
      "outputs": [
        {
          "output_type": "stream",
          "name": "stdout",
          "text": [
            "1.13.1+cu116\n",
            "0.14.1+cu116\n"
          ]
        }
      ],
      "source": [
        "print(torch.__version__)\n",
        "print(torchvision.__version__)"
      ]
    },
    {
      "cell_type": "code",
      "execution_count": 12,
      "metadata": {
        "colab": {
          "base_uri": "https://localhost:8080/"
        },
        "id": "K1CR-WPh5ZtO",
        "outputId": "c5b7bfad-ee66-4128-bf8f-79bab24bc479"
      },
      "outputs": [
        {
          "output_type": "stream",
          "name": "stdout",
          "text": [
            "Looking in indexes: https://pypi.org/simple, https://us-python.pkg.dev/colab-wheels/public/simple/\n",
            "Requirement already satisfied: pycocotools in /usr/local/lib/python3.8/dist-packages (2.0.6)\n",
            "Requirement already satisfied: matplotlib>=2.1.0 in /usr/local/lib/python3.8/dist-packages (from pycocotools) (3.2.2)\n",
            "Requirement already satisfied: numpy in /usr/local/lib/python3.8/dist-packages (from pycocotools) (1.21.6)\n",
            "Requirement already satisfied: cycler>=0.10 in /usr/local/lib/python3.8/dist-packages (from matplotlib>=2.1.0->pycocotools) (0.11.0)\n",
            "Requirement already satisfied: pyparsing!=2.0.4,!=2.1.2,!=2.1.6,>=2.0.1 in /usr/local/lib/python3.8/dist-packages (from matplotlib>=2.1.0->pycocotools) (3.0.9)\n",
            "Requirement already satisfied: python-dateutil>=2.1 in /usr/local/lib/python3.8/dist-packages (from matplotlib>=2.1.0->pycocotools) (2.8.2)\n",
            "Requirement already satisfied: kiwisolver>=1.0.1 in /usr/local/lib/python3.8/dist-packages (from matplotlib>=2.1.0->pycocotools) (1.4.4)\n",
            "Requirement already satisfied: six>=1.5 in /usr/local/lib/python3.8/dist-packages (from python-dateutil>=2.1->matplotlib>=2.1.0->pycocotools) (1.15.0)\n"
          ]
        }
      ],
      "source": [
        "!pip install pycocotools\n",
        "from pycocotools.coco import COCO"
      ]
    },
    {
      "cell_type": "code",
      "execution_count": 13,
      "metadata": {
        "id": "7CzwV-pV5b3f"
      },
      "outputs": [],
      "source": [
        "from albumentations.pytorch import ToTensorV2"
      ]
    },
    {
      "cell_type": "markdown",
      "source": [
        "Augmentasi"
      ],
      "metadata": {
        "id": "H_nnUWn2rSqI"
      }
    },
    {
      "cell_type": "code",
      "execution_count": 14,
      "metadata": {
        "id": "PP5DFy2f5emf"
      },
      "outputs": [],
      "source": [
        "def get_transforms(train=False):\n",
        "    if train:\n",
        "        transform = A.Compose([\n",
        "            A.Resize(600, 600), # our input size can be 600px\n",
        "            A.HorizontalFlip(p=0.3),\n",
        "            A.VerticalFlip(p=0.3),\n",
        "            A.RandomBrightnessContrast(p=0.1),\n",
        "            A.ColorJitter(p=0.1),\n",
        "            ToTensorV2()\n",
        "        ], bbox_params=A.BboxParams(format='coco'))\n",
        "    else:\n",
        "        transform = A.Compose([\n",
        "            A.Resize(600, 600), # our input size can be 600px\n",
        "            ToTensorV2()\n",
        "        ], bbox_params=A.BboxParams(format='coco'))\n",
        "    return transform"
      ]
    },
    {
      "cell_type": "code",
      "execution_count": 15,
      "metadata": {
        "id": "QrQGp-pE5grt"
      },
      "outputs": [],
      "source": [
        "class PestDetection(datasets.VisionDataset):\n",
        "    def __init__(self, root, split='train', transform=None, target_transform=None, transforms=None):\n",
        "        # the 3 transform parameters are reuqired for datasets.VisionDataset\n",
        "        super().__init__(root, transforms, transform, target_transform)\n",
        "        self.split = split #Memanggil folder sesuai dengan train atau test\n",
        "        self.coco = COCO(os.path.join(root, split, \"_annotations.coco.json\")) # Memanggil file annotaion(bounding box) json sesuai dengan folder  \n",
        "        self.ids = list(sorted(self.coco.imgs.keys())) #mengurutkan list json dan disimpan ke ids\n",
        "        self.ids = [id for id in self.ids if (len(self._load_target(id)) > 0)] # memasukkan index yang lebih dari 0 sesuai ids ke id\n",
        "    \n",
        "    #mengambil nama image dari file json diurutkan sesuai filename\n",
        "    def _load_image(self, id: int):\n",
        "        path = self.coco.loadImgs(id)[0]['file_name']\n",
        "        image = cv2.imread(os.path.join(self.root, self.split, path))\n",
        "        image = cv2.cvtColor(image, cv2.COLOR_BGR2RGB)\n",
        "        return image\n",
        "\n",
        "    # Menggambil file annotation sesuai dengan id\n",
        "    def _load_target(self, id):\n",
        "        return self.coco.loadAnns(self.coco.getAnnIds(id))\n",
        "    \n",
        "\n",
        "    def __getitem__(self, index):\n",
        "        id = self.ids[index]\n",
        "        image = self._load_image(id)\n",
        "        target = self._load_target(id)\n",
        "        target = copy.deepcopy(self._load_target(id))\n",
        "        \n",
        "        #memanggil bounding box dan  category Id (label) berdasarkan target\n",
        "        boxes = [t['bbox'] + [t['category_id']] for t in target] # required annotation format for albumentations\n",
        "\n",
        "        #jika belum di augmentasi maka akan di augmentasi\n",
        "        if self.transforms is not None:\n",
        "            transformed = self.transforms(image=image, bboxes=boxes)\n",
        "\n",
        "        #hasil Augmentasi images di simpan ke image\n",
        "        image = transformed['image']\n",
        "        #hasil Augmentasi bounding boxes di simpan ke boxes \n",
        "        boxes = transformed['bboxes']\n",
        "        \n",
        "        new_boxes = [] # convert from xywh to xyxy\n",
        "\n",
        "        # merubah ukuran bounding boxes yang sebelumnya (x y w h) menjadi (xmin ymin xmax ymax)\n",
        "        for box in boxes:\n",
        "            xmin = box[0]\n",
        "            xmax = xmin + box[2]\n",
        "            ymin = box[1]\n",
        "            ymax = ymin + box[3]\n",
        "            new_boxes.append([xmin, ymin, xmax, ymax])\n",
        "        \n",
        "        #merubah new_boxes ke tensor array supaya bisa berjalan di GPU\n",
        "        boxes = torch.tensor(new_boxes, dtype=torch.float32)\n",
        "        \n",
        "        #merubah array ke tensor array supaya bisa berjalan di GPU\n",
        "        targ = {} # here is our transformed target\n",
        "        targ['boxes'] = boxes\n",
        "        targ['labels'] = torch.tensor([t['category_id'] for t in target], dtype=torch.int64)\n",
        "        targ['image_id'] = torch.tensor([t['image_id'] for t in target])\n",
        "        targ['area'] = (boxes[:, 3] - boxes[:, 1]) * (boxes[:, 2] - boxes[:, 0]) # we have a different area\n",
        "        targ['iscrowd'] = torch.tensor([t['iscrowd'] for t in target], dtype=torch.int64)\n",
        "        return image.div(255), targ # scale images\n",
        "    def __len__(self):\n",
        "        return len(self.ids)"
      ]
    },
    {
      "cell_type": "code",
      "execution_count": 16,
      "metadata": {
        "id": "2wmPF9T65ifz"
      },
      "outputs": [],
      "source": [
        "#Memanggil dataset\n",
        "dataset_path = \"/content/drive/MyDrive/Ta/Faster_RCNN/Dataset\""
      ]
    },
    {
      "cell_type": "code",
      "execution_count": 17,
      "metadata": {
        "colab": {
          "base_uri": "https://localhost:8080/"
        },
        "id": "jdXdqrf-5s9g",
        "outputId": "cc0aea8e-3489-4331-adf0-847c59319ed2"
      },
      "outputs": [
        {
          "output_type": "stream",
          "name": "stdout",
          "text": [
            "loading annotations into memory...\n",
            "Done (t=13.28s)\n",
            "creating index...\n",
            "index created!\n"
          ]
        },
        {
          "output_type": "execute_result",
          "data": {
            "text/plain": [
              "{0: {'id': 0, 'name': 'Padi', 'supercategory': 'none'},\n",
              " 1: {'id': 1, 'name': 'Belalang', 'supercategory': 'Padi'},\n",
              " 2: {'id': 2, 'name': 'Padi', 'supercategory': 'Padi'},\n",
              " 3: {'id': 3, 'name': 'Ulat', 'supercategory': 'Padi'},\n",
              " 4: {'id': 4, 'name': 'Wereng', 'supercategory': 'Padi'}}"
            ]
          },
          "metadata": {},
          "execution_count": 17
        }
      ],
      "source": [
        "# memanggil label yang terdapat di file annotation\n",
        "coco = COCO(os.path.join(dataset_path, \"train\", \"_annotations.coco.json\"))\n",
        "categories = coco.cats\n",
        "n_classes = len(categories.keys())\n",
        "categories"
      ]
    },
    {
      "cell_type": "code",
      "execution_count": 18,
      "metadata": {
        "colab": {
          "base_uri": "https://localhost:8080/"
        },
        "id": "UPhkFoDh61qH",
        "outputId": "8695f33a-758d-41d0-cce3-e3b460286b08"
      },
      "outputs": [
        {
          "output_type": "execute_result",
          "data": {
            "text/plain": [
              "['Padi', 'Belalang', 'Padi', 'Ulat', 'Wereng']"
            ]
          },
          "metadata": {},
          "execution_count": 18
        }
      ],
      "source": [
        "classes = [i[1]['name'] for i in categories.items()]\n",
        "classes"
      ]
    },
    {
      "cell_type": "code",
      "execution_count": 19,
      "metadata": {
        "colab": {
          "base_uri": "https://localhost:8080/"
        },
        "id": "naMGxd2Q6365",
        "outputId": "2256694f-4073-42ed-f58b-efc725172991"
      },
      "outputs": [
        {
          "output_type": "stream",
          "name": "stdout",
          "text": [
            "loading annotations into memory...\n",
            "Done (t=0.02s)\n",
            "creating index...\n",
            "index created!\n",
            "loading annotations into memory...\n",
            "Done (t=4.12s)\n",
            "creating index...\n",
            "index created!\n"
          ]
        }
      ],
      "source": [
        "# Melakukan Detection pada data train\n",
        "train_dataset = PestDetection(root=dataset_path, transforms=get_transforms(True))\n",
        "\n",
        "# Melakukan Detection pada data test\n",
        "test_dataset = PestDetection(root=dataset_path, split=\"test\", transforms=get_transforms(False))"
      ]
    },
    {
      "cell_type": "code",
      "execution_count": 20,
      "metadata": {
        "colab": {
          "base_uri": "https://localhost:8080/",
          "height": 286
        },
        "id": "9bLtlF7b66NS",
        "outputId": "86ec86fb-0c91-4475-c99a-93fec9268937"
      },
      "outputs": [
        {
          "output_type": "execute_result",
          "data": {
            "text/plain": [
              "<matplotlib.image.AxesImage at 0x7fb0b70a8160>"
            ]
          },
          "metadata": {},
          "execution_count": 20
        },
        {
          "output_type": "display_data",
          "data": {
            "text/plain": [
              "<Figure size 432x288 with 1 Axes>"
            ],
            "image/png": "[encoded data removed]"
          },
          "metadata": {
            "needs_background": "light"
          }
        }
      ],
      "source": [
        "#mencoba memanggil data train sebelum masuk ke model\n",
        "sample = train_dataset[8]\n",
        "img_int = torch.tensor(sample[0] * 255, dtype=torch.uint8)\n",
        "plt.imshow(draw_bounding_boxes(\n",
        "    img_int, sample[1]['boxes'], [classes[i] for i in sample[1]['labels']], width=4\n",
        ").permute(1, 2, 0))"
      ]
    },
    {
      "cell_type": "code",
      "execution_count": 21,
      "metadata": {
        "colab": {
          "base_uri": "https://localhost:8080/"
        },
        "id": "hBPLavHA7B3g",
        "outputId": "30fe1c16-af59-4309-d939-7866293bd7ca"
      },
      "outputs": [
        {
          "output_type": "execute_result",
          "data": {
            "text/plain": [
              "1671"
            ]
          },
          "metadata": {},
          "execution_count": 21
        }
      ],
      "source": [
        "len(train_dataset)"
      ]
    },
    {
      "cell_type": "code",
      "execution_count": 22,
      "metadata": {
        "id": "bTQJG9wIvcWc"
      },
      "outputs": [],
      "source": [
        "import torch\n",
        "from tqdm import tqdm\n",
        "from torchvision.models.detection import maskrcnn_resnet50_fpn\n",
        "from torchvision.models.detection.faster_rcnn import FastRCNNPredictor"
      ]
    },
    {
      "cell_type": "code",
      "execution_count": 23,
      "metadata": {
        "id": "FwA9fzkb7FKI",
        "colab": {
          "base_uri": "https://localhost:8080/",
          "height": 86,
          "referenced_widgets": [
            "cccfd67f1feb49a78a9ad3236b0df7b7",
            "390fdfedc8a14edaab25b34d3735baf2",
            "c9b1ca4530414f44bb001cedcb37f464",
            "90bb57a0a8484537a2d695d76582b040",
            "87e9f3d1f46e43158ddba700d0c58b68",
            "4c6a8e57428442af841b94269ec8c906",
            "409a8961c15647fcbcd55d4e500da5a6",
            "92350b40cb484eee95d73f412b9bd871",
            "34e3080646d241d7b29e076e97fed568",
            "f5624e8221cf431da2ff0c69a9579209",
            "4dc4a690c9cc4634910440ffa161098a"
          ]
        },
        "outputId": "591737da-8d96-40ba-d161-de0d4b2eda71"
      },
      "outputs": [
        {
          "output_type": "stream",
          "name": "stderr",
          "text": [
            "Downloading: \"https://download.pytorch.org/models/fasterrcnn_resnet50_fpn_coco-258fb6c6.pth\" to /root/.cache/torch/hub/checkpoints/fasterrcnn_resnet50_fpn_coco-258fb6c6.pth\n"
          ]
        },
        {
          "output_type": "display_data",
          "data": {
            "text/plain": [
              "  0%|          | 0.00/160M [00:00<?, ?B/s]"
            ],
            "application/vnd.jupyter.widget-view+json": {
              "version_major": 2,
              "version_minor": 0,
              "model_id": "cccfd67f1feb49a78a9ad3236b0df7b7"
            }
          },
          "metadata": {}
        }
      ],
      "source": [
        "model = models.detection.fasterrcnn_resnet50_fpn(pretrained=True)\n",
        "in_features = model.roi_heads.box_predictor.cls_score.in_features # we need to change the head\n",
        "model.roi_heads.box_predictor = FastRCNNPredictor(in_features, n_classes)\n",
        "\n"
      ]
    },
    {
      "cell_type": "code",
      "execution_count": 24,
      "metadata": {
        "colab": {
          "base_uri": "https://localhost:8080/"
        },
        "id": "JkgQOw4J7Hnj",
        "outputId": "0a4ecfa3-8804-4173-9025-e9d56cb36a15"
      },
      "outputs": [
        {
          "output_type": "execute_result",
          "data": {
            "text/plain": [
              "1024"
            ]
          },
          "metadata": {},
          "execution_count": 24
        }
      ],
      "source": [
        "in_features"
      ]
    },
    {
      "cell_type": "code",
      "source": [
        "model.roi_heads.box_predictor\n"
      ],
      "metadata": {
        "colab": {
          "base_uri": "https://localhost:8080/"
        },
        "id": "VIGfvOybqXix",
        "outputId": "8133edab-0678-488d-d409-de1b4003e7e1"
      },
      "execution_count": 25,
      "outputs": [
        {
          "output_type": "execute_result",
          "data": {
            "text/plain": [
              "FastRCNNPredictor(\n",
              "  (cls_score): Linear(in_features=1024, out_features=5, bias=True)\n",
              "  (bbox_pred): Linear(in_features=1024, out_features=20, bias=True)\n",
              ")"
            ]
          },
          "metadata": {},
          "execution_count": 25
        }
      ]
    },
    {
      "cell_type": "code",
      "execution_count": 26,
      "metadata": {
        "id": "nNHp_b_C7Jps"
      },
      "outputs": [],
      "source": [
        "def collate_fn(batch):\n",
        "    return tuple(zip(*batch))"
      ]
    },
    {
      "cell_type": "code",
      "source": [
        "# def collate_fn(batch):\n",
        "#   images = list()\n",
        "#   targets = list()\n",
        "#   for b in batch:\n",
        "#         images.append(b[0])\n",
        "#         targets.append(b[1])\n",
        "#   images = torch.stack(images, dim=0)\n",
        "#   return images, targets"
      ],
      "metadata": {
        "id": "eEk6bJKn0Jib"
      },
      "execution_count": 27,
      "outputs": []
    },
    {
      "cell_type": "code",
      "execution_count": 28,
      "metadata": {
        "id": "zS05irB37LfW"
      },
      "outputs": [],
      "source": [
        "#Melakukan \n",
        "train_loader = DataLoader(train_dataset, batch_size=4, shuffle=True, num_workers=4, collate_fn=collate_fn)\n",
        "# train_loader = DataLoader(train_dataset, batch_size=4, shuffle=True)\n",
        "test_loader = DataLoader(test_dataset, batch_size=4, shuffle=False, num_workers=4, collate_fn=collate_fn)"
      ]
    },
    {
      "cell_type": "code",
      "execution_count": 29,
      "metadata": {
        "id": "u3QhfZ9B7O7o"
      },
      "outputs": [],
      "source": [
        "#memisahkan images (gambar asli) dan targets(dari file annotation)\n",
        "images,targets = next(iter(train_loader))\n",
        "\n"
      ]
    },
    {
      "cell_type": "code",
      "source": [
        "\n",
        "images[1]"
      ],
      "metadata": {
        "colab": {
          "base_uri": "https://localhost:8080/"
        },
        "id": "Hk8DdLBp2Y5M",
        "outputId": "a7a8e5ab-eafd-4f5e-a24e-5ab11f01b624"
      },
      "execution_count": 30,
      "outputs": [
        {
          "output_type": "execute_result",
          "data": {
            "text/plain": [
              "tensor([[[1.0000, 1.0000, 1.0000,  ..., 1.0000, 1.0000, 1.0000],\n",
              "         [1.0000, 1.0000, 1.0000,  ..., 1.0000, 1.0000, 1.0000],\n",
              "         [1.0000, 1.0000, 1.0000,  ..., 1.0000, 1.0000, 1.0000],\n",
              "         ...,\n",
              "         [1.0000, 1.0000, 1.0000,  ..., 1.0000, 1.0000, 1.0000],\n",
              "         [1.0000, 1.0000, 1.0000,  ..., 1.0000, 1.0000, 1.0000],\n",
              "         [1.0000, 1.0000, 1.0000,  ..., 1.0000, 1.0000, 1.0000]],\n",
              "\n",
              "        [[1.0000, 1.0000, 1.0000,  ..., 1.0000, 1.0000, 1.0000],\n",
              "         [1.0000, 1.0000, 1.0000,  ..., 1.0000, 1.0000, 1.0000],\n",
              "         [1.0000, 1.0000, 1.0000,  ..., 1.0000, 1.0000, 1.0000],\n",
              "         ...,\n",
              "         [1.0000, 1.0000, 1.0000,  ..., 1.0000, 1.0000, 1.0000],\n",
              "         [1.0000, 1.0000, 1.0000,  ..., 1.0000, 1.0000, 1.0000],\n",
              "         [1.0000, 1.0000, 1.0000,  ..., 1.0000, 1.0000, 1.0000]],\n",
              "\n",
              "        [[1.0000, 1.0000, 1.0000,  ..., 1.0000, 1.0000, 1.0000],\n",
              "         [1.0000, 1.0000, 1.0000,  ..., 1.0000, 1.0000, 0.9608],\n",
              "         [1.0000, 1.0000, 1.0000,  ..., 1.0000, 1.0000, 0.9961],\n",
              "         ...,\n",
              "         [1.0000, 1.0000, 1.0000,  ..., 1.0000, 1.0000, 1.0000],\n",
              "         [1.0000, 1.0000, 1.0000,  ..., 1.0000, 1.0000, 1.0000],\n",
              "         [1.0000, 1.0000, 1.0000,  ..., 1.0000, 1.0000, 1.0000]]])"
            ]
          },
          "metadata": {},
          "execution_count": 30
        }
      ]
    },
    {
      "cell_type": "code",
      "source": [
        "targets[1]"
      ],
      "metadata": {
        "colab": {
          "base_uri": "https://localhost:8080/"
        },
        "id": "Vcusq7ZM2FpN",
        "outputId": "26b71850-adb3-413b-e128-33961866ced2"
      },
      "execution_count": 31,
      "outputs": [
        {
          "output_type": "execute_result",
          "data": {
            "text/plain": [
              "{'boxes': tensor([[  8.4375,  85.3125, 495.9375, 573.0469]]),\n",
              " 'labels': tensor([4]),\n",
              " 'image_id': tensor([1643]),\n",
              " 'area': tensor([237770.5000]),\n",
              " 'iscrowd': tensor([0])}"
            ]
          },
          "metadata": {},
          "execution_count": 31
        }
      ]
    },
    {
      "cell_type": "code",
      "execution_count": 32,
      "metadata": {
        "id": "2eHmQEpA7RXn"
      },
      "outputs": [],
      "source": [
        "images = list(image for image in images)\n",
        "targets = [{k:v for k, v in t.items()} for t in targets]\n",
        "output = model(images, targets)"
      ]
    },
    {
      "cell_type": "code",
      "execution_count": 33,
      "metadata": {
        "id": "HwJJsYwh7UIT"
      },
      "outputs": [],
      "source": [
        "device = torch.device(\"cuda\")"
      ]
    },
    {
      "cell_type": "code",
      "execution_count": 34,
      "metadata": {
        "id": "-WeA_SuX7V_y"
      },
      "outputs": [],
      "source": [
        "model = model.to(device)"
      ]
    },
    {
      "cell_type": "code",
      "execution_count": 35,
      "metadata": {
        "id": "SHtOiJPw7YzV"
      },
      "outputs": [],
      "source": [
        "# params = [p for p in model.parameters() if p.requires_grad]\n",
        "# optimizer = torch.optim.SGD(params, lr=0.01, momentum=0.9, nesterov=True, weight_decay=1e-4)\n",
        "\n",
        "optimizer = torch.optim.AdamW(params=model.parameters(),\n",
        "                                  lr=0.01,\n",
        "                                  weight_decay=1e-4)"
      ]
    },
    {
      "cell_type": "code",
      "execution_count": 36,
      "metadata": {
        "id": "aVXF53xu7alS"
      },
      "outputs": [],
      "source": [
        "def train_one_epoch(model, optimizer, loader, device, epoch):\n",
        "    model.to(device)\n",
        "    model.train()\n",
        "    \n",
        "    # lr_scheduler = True\n",
        "    # if epoch == 0:\n",
        "    #     warmup_factor = 1.0 / 1000 # do lr warmup\n",
        "    #     warmup_iters = min(1000, len(loader) - 1)\n",
        "        \n",
        "    #     lr_scheduler = optim.lr_scheduler.LinearLR(optimizer, start_factor = warmup_factor, total_iters=warmup_iters)\n",
        "    \n",
        "    all_losses = []\n",
        "    all_losses_dict = []\n",
        "    for images, targets in tqdm(loader):\n",
        "      \n",
        "          images = list(image.to(device) for image in images)\n",
        "          targets = [{k: torch.tensor(v).to(device) for k, v in t.items()} for t in targets]\n",
        "          \n",
        "          loss_dict = model(images, targets) # the model computes the loss automatically if we pass in targets\n",
        "          losses = sum(loss for loss in loss_dict.values())\n",
        "          loss_dict_append = {k: v.item() for k, v in loss_dict.items()}\n",
        "          loss_value = losses.item()\n",
        "          \n",
        "          all_losses.append(loss_value)\n",
        "          all_losses_dict.append(loss_dict_append)\n",
        "          \n",
        "          if not math.isfinite(loss_value):\n",
        "              print(f\"Loss is {loss_value}, stopping trainig\") # train if loss becomes infinity\n",
        "              print(loss_dict)\n",
        "              sys.exit(1)\n",
        "          \n",
        "          optimizer.zero_grad()\n",
        "          losses.backward()\n",
        "          optimizer.step()\n",
        "        \n",
        "        # if lr_scheduler is not None:\n",
        "        #     lr_scheduler.step() # \n",
        "    print(f\"Avg train Loss: {np.mean(all_losses)}\")\n",
        "    return np.mean(all_losses)\n",
        "        \n",
        "    # all_losses_dict = pd.DataFrame(all_losses_dict) # for printing\n",
        "    # print(\"Epoch {}, lr: {:.6f}, loss: {:.6f}, loss_classifier: {:.6f}, loss_box: {:.6f}, loss_rpn_box: {:.6f}, loss_object: {:.6f}\".format(\n",
        "    #     epoch, optimizer.param_groups[0]['lr'], np.mean(all_losses),\n",
        "    #     all_losses_dict['loss_classifier'].mean(),\n",
        "    #     all_losses_dict['loss_box_reg'].mean(),\n",
        "    #     all_losses_dict['loss_rpn_box_reg'].mean(),\n",
        "    #     all_losses_dict['loss_objectness'].mean()\n",
        "    # ))"
      ]
    },
    {
      "cell_type": "code",
      "execution_count": 37,
      "metadata": {
        "id": "9yItATf_rwiS"
      },
      "outputs": [],
      "source": [
        "best_vloss = np.inf\n",
        "def validate(loader, model, optimizer, device, epoch):\n",
        "    global best_vloss\n",
        "    loop = tqdm(loader)\n",
        "    running_vloss = 0\n",
        "    for batch_idx, (images, targets) in enumerate(loop):\n",
        "        images = list(image.to(device) for image in images)\n",
        "        targets = [{k: v.to(device) for k, v in t.items()} for t in targets]\n",
        "        \n",
        "        with torch.no_grad():\n",
        "          loss_dict = model(images, targets)\n",
        "        \n",
        "        losses = sum(loss for loss in loss_dict.values())\n",
        "        running_vloss += losses\n",
        "        \n",
        "    avg_vloss = running_vloss / (batch_idx + 1)\n",
        "    print(f\"Avg Valid Loss: {avg_vloss}\")\n",
        "    if avg_vloss < best_vloss:\n",
        "      best_vloss = avg_vloss\n",
        "      # if SAVE_MODEL:\n",
        "      #       print(\"Model improved, saving...\")\n",
        "      #       checkpoint = {\n",
        "      #           \"state_dict\": model.state_dict(),\n",
        "      #           \"optimizer\": optimizer.state_dict(),\n",
        "      #       }\n",
        "      #       save_checkpoint(checkpoint, filename=f\"1152KaggleBest_second_{epoch}.pth.tar\")\n",
        "    print('\\n')\n",
        "    return avg_vloss"
      ]
    },
    {
      "cell_type": "code",
      "source": [],
      "metadata": {
        "id": "2jtM7AOgEx6a"
      },
      "execution_count": 37,
      "outputs": []
    },
    {
      "cell_type": "code",
      "source": [
        "!pip install pyttsx3"
      ],
      "metadata": {
        "colab": {
          "base_uri": "https://localhost:8080/"
        },
        "id": "QGzhyyBIFtUM",
        "outputId": "704a152d-76c1-4b72-e611-75086e154d06"
      },
      "execution_count": 38,
      "outputs": [
        {
          "output_type": "stream",
          "name": "stdout",
          "text": [
            "Looking in indexes: https://pypi.org/simple, https://us-python.pkg.dev/colab-wheels/public/simple/\n",
            "Collecting pyttsx3\n",
            "  Downloading pyttsx3-2.90-py3-none-any.whl (39 kB)\n",
            "Installing collected packages: pyttsx3\n",
            "Successfully installed pyttsx3-2.90\n"
          ]
        }
      ]
    },
    {
      "cell_type": "code",
      "execution_count": null,
      "metadata": {
        "colab": {
          "base_uri": "https://localhost:8080/"
        },
        "id": "uCKDS4Wh7c9o",
        "outputId": "e5aac0e3-8c97-41e4-dcca-9f290f31ebf9"
      },
      "outputs": [
        {
          "output_type": "stream",
          "name": "stderr",
          "text": [
            "100%|██████████| 418/418 [05:02<00:00,  1.38it/s]\n"
          ]
        },
        {
          "output_type": "stream",
          "name": "stdout",
          "text": [
            "Avg train Loss: 5.772985406688297e+30\n"
          ]
        },
        {
          "output_type": "stream",
          "name": "stderr",
          "text": [
            "100%|██████████| 140/140 [01:30<00:00,  1.55it/s]\n"
          ]
        },
        {
          "output_type": "stream",
          "name": "stdout",
          "text": [
            "Avg Valid Loss: 5.908362606463644e+30\n",
            "\n",
            "\n"
          ]
        },
        {
          "output_type": "stream",
          "name": "stderr",
          "text": [
            " 79%|███████▉  | 332/418 [03:52<01:00,  1.43it/s]"
          ]
        }
      ],
      "source": [
        "\n",
        "\n",
        "num_epochs=25\n",
        "train_error = []\n",
        "val_error = []\n",
        "for epoch in range(num_epochs):\n",
        "    train=train_one_epoch(model, optimizer, train_loader, device, epoch)\n",
        "    vloss= validate(test_loader, model, optimizer, device, epoch)\n",
        "    train_error.append(train*100)\n",
        "    val_error.append(vloss.tolist()*100)\n",
        "    \n",
        "  "
      ]
    },
    {
      "cell_type": "code",
      "execution_count": null,
      "metadata": {
        "id": "n5D0y4O1zmyo"
      },
      "outputs": [],
      "source": [
        "# plt.subplot(2, 1, 2)\n",
        "# plt.plot(train_error, label='Training Loss')\n",
        "# plt.plot(val_error, label='Validation Loss')\n",
        "# plt.legend()\n",
        "# plt.title('Training and Validation Loss')\n",
        "# plt.axvline(num_epochs, color=\"gray\", label=\"Epoch\")\n",
        "# # plt.ylabel('merror')\n",
        "# plt.ylabel('Loss ')\n",
        "\n",
        "# plt.show()"
      ]
    },
    {
      "cell_type": "code",
      "execution_count": null,
      "metadata": {
        "id": "uqxIaGhy7hHb"
      },
      "outputs": [],
      "source": [
        "model.eval()\n",
        "torch.cuda.empty_cache()"
      ]
    },
    {
      "cell_type": "code",
      "execution_count": null,
      "metadata": {
        "id": "mjPEOj6i7imR"
      },
      "outputs": [],
      "source": []
    },
    {
      "cell_type": "code",
      "execution_count": null,
      "metadata": {
        "id": "we59ghcJ7m7e"
      },
      "outputs": [],
      "source": [
        "len(test_dataset)"
      ]
    },
    {
      "cell_type": "code",
      "execution_count": null,
      "metadata": {
        "id": "35zJOj907nrj"
      },
      "outputs": [],
      "source": [
        "print(\"Score\")\n",
        "for i in range(1,10):\n",
        "  img, _ = test_dataset[i]\n",
        "  img_int = torch.tensor(img*255, dtype=torch.uint8)\n",
        "  with torch.no_grad():\n",
        "      prediction = model([img.to(device)])\n",
        "      pred = prediction[0]\n",
        "  \n",
        "  print( [classes[i] for i in pred['labels'][pred['scores'] > 0.9].tolist()], \": \",pred['scores'].tolist() )\n",
        "  fig = plt.figure(figsize=(14, 10))\n",
        "  plt.imshow(draw_bounding_boxes(img_int,\n",
        "    pred['boxes'][pred['scores'] > 0.9], \n",
        "    [classes[i] for i in pred['labels'][pred['scores'] > 0.9].tolist()], width=4\n",
        "  ).permute(1, 2, 0))\n",
        "\n",
        "  \n",
        "  \n",
        "    \n",
        "  \n"
      ]
    },
    {
      "cell_type": "code",
      "source": [
        "def predict_single_frame(frame):\n",
        "    images = cv2.resize(frame, [600,600], cv2.INTER_LINEAR)/255\n",
        "    images = torch.as_tensor(images, dtype=torch.float32).unsqueeze(0)\n",
        "    images = images.swapaxes(1, 3).swapaxes(2, 3)\n",
        "    images = list(image.to(device) for image in images)\n",
        "    \n",
        "    with torch.no_grad():\n",
        "      pred = model(images)\n",
        "    \n",
        "    # print(pred)\n",
        "    \n",
        "    im = images[0].swapaxes(0, 2).swapaxes(0, 1).detach().cpu().numpy().astype(np.float32)\n",
        "    im2 = np.zeros_like(im).astype(np.float32)\n",
        "    for i in range(len(pred[0]['boxes'])):\n",
        "        \n",
        "        scr=pred[0]['scores'][i].detach().cpu().numpy()\n",
        "        box=pred[0]['boxes'][i].detach().cpu().numpy()\n",
        "        lbl=pred[0]['labels'][i].detach().cpu().numpy()\n",
        "        if (lbl == 1) or (lbl == 3) or (lbl == 4) :\n",
        "          x = \"hama\"\n",
        "        else :\n",
        "          x = \"tidak hama\"\n",
        "        # print(lbl)\n",
        "        if scr>0.9 :\n",
        "            cv2.rectangle(im, (int(box[0]), int(box[1])), (int(box[2]), int(box[3])), (0,0,1), 2)\n",
        "            cv2.putText(im, \"{0:.2f}%\".format(scr*100), (int(box[0]+10), int(box[1])+40), cv2.FONT_HERSHEY_SIMPLEX,\n",
        "                        0.5, (0,0,1), 2, cv2.LINE_AA)\n",
        "            cv2.putText(im, x , (int(box[0]+4), int(box[1])+15), cv2.FONT_HERSHEY_SIMPLEX,\n",
        "                        0.5, (0,0,1), 2, cv2.LINE_AA)\n",
        "            # im2[:,:,0][box>0.87] = np.random.uniform(0,1)\n",
        "            # im2[:, :, 1][box > 0.87] = np.random.uniform(0,1)\n",
        "            # im2[:, :, 2][box > 0.87] = np.random.uniform(0,1)\n",
        "\n",
        "    return (cv2.addWeighted(im, 0.8, im2, 0.2,0)*255).astype(np.uint8)"
      ],
      "metadata": {
        "id": "5lsNO_YyngHJ"
      },
      "execution_count": null,
      "outputs": []
    },
    {
      "cell_type": "code",
      "source": [
        "cap = cv2.VideoCapture('/content/drive/MyDrive/Ta/Mask_RCNN/Dataset/Uji/2023-01-22_12.17.14.272.png')\n",
        "model.train(False)\n",
        "\n",
        "if (cap.isOpened()== False): \n",
        "    print(\"Error opening video stream or file\")\n",
        "\n",
        "images = []   \n",
        "while(cap.isOpened()):\n",
        "    ret, frame = cap.read()\n",
        "    if ret == True:\n",
        "        result_frame = predict_single_frame(frame)\n",
        "        images.append(result_frame)\n",
        "    else: \n",
        "        break\n",
        "\n",
        "cap.release()"
      ],
      "metadata": {
        "id": "TT7c6WEdoloB"
      },
      "execution_count": null,
      "outputs": []
    },
    {
      "cell_type": "code",
      "source": [
        "from google.colab.patches import cv2_imshow\n",
        "cv2_imshow(result_frame)"
      ],
      "metadata": {
        "id": "14LqykRcpD11"
      },
      "execution_count": null,
      "outputs": []
    },
    {
      "cell_type": "code",
      "source": [
        "cap = cv2.VideoCapture('/content/drive/MyDrive/Ta/Mask_RCNN/Dataset/Uji/2023-01-22_11.55.18.642.png')\n",
        "model.train(False)\n",
        "\n",
        "if (cap.isOpened()== False): \n",
        "    print(\"Error opening video stream or file\")\n",
        "\n",
        "images = []   \n",
        "while(cap.isOpened()):\n",
        "    ret, frame = cap.read()\n",
        "    if ret == True:\n",
        "        result_frame = predict_single_frame(frame)\n",
        "        images.append(result_frame)\n",
        "    else: \n",
        "        break\n",
        "\n",
        "cap.release()"
      ],
      "metadata": {
        "id": "j_tRF0XypJXQ"
      },
      "execution_count": null,
      "outputs": []
    },
    {
      "cell_type": "code",
      "source": [
        "from google.colab.patches import cv2_imshow\n",
        "cv2_imshow(result_frame)"
      ],
      "metadata": {
        "id": "PrlNJCxvpMlq"
      },
      "execution_count": null,
      "outputs": []
    }
  ],
  "metadata": {
    "accelerator": "GPU",
    "colab": {
      "provenance": [],
      "mount_file_id": "1yKeezI6BQDKBREHr9kK9YVtvTbKYdl32",
      "authorship_tag": "ABX9TyPHAaL9OUtuPIjORYxFypFZ",
      "include_colab_link": true
    },
    "gpuClass": "standard",
    "kernelspec": {
      "display_name": "Python 3",
      "name": "python3"
    },
    "language_info": {
      "name": "python"
    },
    "widgets": {
      "application/vnd.jupyter.widget-state+json": {
        "cccfd67f1feb49a78a9ad3236b0df7b7": {
          "model_module": "@jupyter-widgets/controls",
          "model_name": "HBoxModel",
          "model_module_version": "1.5.0",
          "state": {
            "_dom_classes": [],
            "_model_module": "@jupyter-widgets/controls",
            "_model_module_version": "1.5.0",
            "_model_name": "HBoxModel",
            "_view_count": null,
            "_view_module": "@jupyter-widgets/controls",
            "_view_module_version": "1.5.0",
            "_view_name": "HBoxView",
            "box_style": "",
            "children": [
              "IPY_MODEL_390fdfedc8a14edaab25b34d3735baf2",
              "IPY_MODEL_c9b1ca4530414f44bb001cedcb37f464",
              "IPY_MODEL_90bb57a0a8484537a2d695d76582b040"
            ],
            "layout": "IPY_MODEL_87e9f3d1f46e43158ddba700d0c58b68"
          }
        },
        "390fdfedc8a14edaab25b34d3735baf2": {
          "model_module": "@jupyter-widgets/controls",
          "model_name": "HTMLModel",
          "model_module_version": "1.5.0",
          "state": {
            "_dom_classes": [],
            "_model_module": "@jupyter-widgets/controls",
            "_model_module_version": "1.5.0",
            "_model_name": "HTMLModel",
            "_view_count": null,
            "_view_module": "@jupyter-widgets/controls",
            "_view_module_version": "1.5.0",
            "_view_name": "HTMLView",
            "description": "",
            "description_tooltip": null,
            "layout": "IPY_MODEL_4c6a8e57428442af841b94269ec8c906",
            "placeholder": "​",
            "style": "IPY_MODEL_409a8961c15647fcbcd55d4e500da5a6",
            "value": "100%"
          }
        },
        "c9b1ca4530414f44bb001cedcb37f464": {
          "model_module": "@jupyter-widgets/controls",
          "model_name": "FloatProgressModel",
          "model_module_version": "1.5.0",
          "state": {
            "_dom_classes": [],
            "_model_module": "@jupyter-widgets/controls",
            "_model_module_version": "1.5.0",
            "_model_name": "FloatProgressModel",
            "_view_count": null,
            "_view_module": "@jupyter-widgets/controls",
            "_view_module_version": "1.5.0",
            "_view_name": "ProgressView",
            "bar_style": "success",
            "description": "",
            "description_tooltip": null,
            "layout": "IPY_MODEL_92350b40cb484eee95d73f412b9bd871",
            "max": 167502836,
            "min": 0,
            "orientation": "horizontal",
            "style": "IPY_MODEL_34e3080646d241d7b29e076e97fed568",
            "value": 167502836
          }
        },
        "90bb57a0a8484537a2d695d76582b040": {
          "model_module": "@jupyter-widgets/controls",
          "model_name": "HTMLModel",
          "model_module_version": "1.5.0",
          "state": {
            "_dom_classes": [],
            "_model_module": "@jupyter-widgets/controls",
            "_model_module_version": "1.5.0",
            "_model_name": "HTMLModel",
            "_view_count": null,
            "_view_module": "@jupyter-widgets/controls",
            "_view_module_version": "1.5.0",
            "_view_name": "HTMLView",
            "description": "",
            "description_tooltip": null,
            "layout": "IPY_MODEL_f5624e8221cf431da2ff0c69a9579209",
            "placeholder": "​",
            "style": "IPY_MODEL_4dc4a690c9cc4634910440ffa161098a",
            "value": " 160M/160M [00:00&lt;00:00, 275MB/s]"
          }
        },
        "87e9f3d1f46e43158ddba700d0c58b68": {
          "model_module": "@jupyter-widgets/base",
          "model_name": "LayoutModel",
          "model_module_version": "1.2.0",
          "state": {
            "_model_module": "@jupyter-widgets/base",
            "_model_module_version": "1.2.0",
            "_model_name": "LayoutModel",
            "_view_count": null,
            "_view_module": "@jupyter-widgets/base",
            "_view_module_version": "1.2.0",
            "_view_name": "LayoutView",
            "align_content": null,
            "align_items": null,
            "align_self": null,
            "border": null,
            "bottom": null,
            "display": null,
            "flex": null,
            "flex_flow": null,
            "grid_area": null,
            "grid_auto_columns": null,
            "grid_auto_flow": null,
            "grid_auto_rows": null,
            "grid_column": null,
            "grid_gap": null,
            "grid_row": null,
            "grid_template_areas": null,
            "grid_template_columns": null,
            "grid_template_rows": null,
            "height": null,
            "justify_content": null,
            "justify_items": null,
            "left": null,
            "margin": null,
            "max_height": null,
            "max_width": null,
            "min_height": null,
            "min_width": null,
            "object_fit": null,
            "object_position": null,
            "order": null,
            "overflow": null,
            "overflow_x": null,
            "overflow_y": null,
            "padding": null,
            "right": null,
            "top": null,
            "visibility": null,
            "width": null
          }
        },
        "4c6a8e57428442af841b94269ec8c906": {
          "model_module": "@jupyter-widgets/base",
          "model_name": "LayoutModel",
          "model_module_version": "1.2.0",
          "state": {
            "_model_module": "@jupyter-widgets/base",
            "_model_module_version": "1.2.0",
            "_model_name": "LayoutModel",
            "_view_count": null,
            "_view_module": "@jupyter-widgets/base",
            "_view_module_version": "1.2.0",
            "_view_name": "LayoutView",
            "align_content": null,
            "align_items": null,
            "align_self": null,
            "border": null,
            "bottom": null,
            "display": null,
            "flex": null,
            "flex_flow": null,
            "grid_area": null,
            "grid_auto_columns": null,
            "grid_auto_flow": null,
            "grid_auto_rows": null,
            "grid_column": null,
            "grid_gap": null,
            "grid_row": null,
            "grid_template_areas": null,
            "grid_template_columns": null,
            "grid_template_rows": null,
            "height": null,
            "justify_content": null,
            "justify_items": null,
            "left": null,
            "margin": null,
            "max_height": null,
            "max_width": null,
            "min_height": null,
            "min_width": null,
            "object_fit": null,
            "object_position": null,
            "order": null,
            "overflow": null,
            "overflow_x": null,
            "overflow_y": null,
            "padding": null,
            "right": null,
            "top": null,
            "visibility": null,
            "width": null
          }
        },
        "409a8961c15647fcbcd55d4e500da5a6": {
          "model_module": "@jupyter-widgets/controls",
          "model_name": "DescriptionStyleModel",
          "model_module_version": "1.5.0",
          "state": {
            "_model_module": "@jupyter-widgets/controls",
            "_model_module_version": "1.5.0",
            "_model_name": "DescriptionStyleModel",
            "_view_count": null,
            "_view_module": "@jupyter-widgets/base",
            "_view_module_version": "1.2.0",
            "_view_name": "StyleView",
            "description_width": ""
          }
        },
        "92350b40cb484eee95d73f412b9bd871": {
          "model_module": "@jupyter-widgets/base",
          "model_name": "LayoutModel",
          "model_module_version": "1.2.0",
          "state": {
            "_model_module": "@jupyter-widgets/base",
            "_model_module_version": "1.2.0",
            "_model_name": "LayoutModel",
            "_view_count": null,
            "_view_module": "@jupyter-widgets/base",
            "_view_module_version": "1.2.0",
            "_view_name": "LayoutView",
            "align_content": null,
            "align_items": null,
            "align_self": null,
            "border": null,
            "bottom": null,
            "display": null,
            "flex": null,
            "flex_flow": null,
            "grid_area": null,
            "grid_auto_columns": null,
            "grid_auto_flow": null,
            "grid_auto_rows": null,
            "grid_column": null,
            "grid_gap": null,
            "grid_row": null,
            "grid_template_areas": null,
            "grid_template_columns": null,
            "grid_template_rows": null,
            "height": null,
            "justify_content": null,
            "justify_items": null,
            "left": null,
            "margin": null,
            "max_height": null,
            "max_width": null,
            "min_height": null,
            "min_width": null,
            "object_fit": null,
            "object_position": null,
            "order": null,
            "overflow": null,
            "overflow_x": null,
            "overflow_y": null,
            "padding": null,
            "right": null,
            "top": null,
            "visibility": null,
            "width": null
          }
        },
        "34e3080646d241d7b29e076e97fed568": {
          "model_module": "@jupyter-widgets/controls",
          "model_name": "ProgressStyleModel",
          "model_module_version": "1.5.0",
          "state": {
            "_model_module": "@jupyter-widgets/controls",
            "_model_module_version": "1.5.0",
            "_model_name": "ProgressStyleModel",
            "_view_count": null,
            "_view_module": "@jupyter-widgets/base",
            "_view_module_version": "1.2.0",
            "_view_name": "StyleView",
            "bar_color": null,
            "description_width": ""
          }
        },
        "f5624e8221cf431da2ff0c69a9579209": {
          "model_module": "@jupyter-widgets/base",
          "model_name": "LayoutModel",
          "model_module_version": "1.2.0",
          "state": {
            "_model_module": "@jupyter-widgets/base",
            "_model_module_version": "1.2.0",
            "_model_name": "LayoutModel",
            "_view_count": null,
            "_view_module": "@jupyter-widgets/base",
            "_view_module_version": "1.2.0",
            "_view_name": "LayoutView",
            "align_content": null,
            "align_items": null,
            "align_self": null,
            "border": null,
            "bottom": null,
            "display": null,
            "flex": null,
            "flex_flow": null,
            "grid_area": null,
            "grid_auto_columns": null,
            "grid_auto_flow": null,
            "grid_auto_rows": null,
            "grid_column": null,
            "grid_gap": null,
            "grid_row": null,
            "grid_template_areas": null,
            "grid_template_columns": null,
            "grid_template_rows": null,
            "height": null,
            "justify_content": null,
            "justify_items": null,
            "left": null,
            "margin": null,
            "max_height": null,
            "max_width": null,
            "min_height": null,
            "min_width": null,
            "object_fit": null,
            "object_position": null,
            "order": null,
            "overflow": null,
            "overflow_x": null,
            "overflow_y": null,
            "padding": null,
            "right": null,
            "top": null,
            "visibility": null,
            "width": null
          }
        },
        "4dc4a690c9cc4634910440ffa161098a": {
          "model_module": "@jupyter-widgets/controls",
          "model_name": "DescriptionStyleModel",
          "model_module_version": "1.5.0",
          "state": {
            "_model_module": "@jupyter-widgets/controls",
            "_model_module_version": "1.5.0",
            "_model_name": "DescriptionStyleModel",
            "_view_count": null,
            "_view_module": "@jupyter-widgets/base",
            "_view_module_version": "1.2.0",
            "_view_name": "StyleView",
            "description_width": ""
          }
        }
      }
    }
  },
  "nbformat": 4,
  "nbformat_minor": 0
}