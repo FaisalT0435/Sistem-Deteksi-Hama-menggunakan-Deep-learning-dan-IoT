{
  "cells": [
    {
      "cell_type": "markdown",
      "metadata": {
        "id": "view-in-github",
        "colab_type": "text"
      },
      "source": [
        "<a href=\"https://colab.research.google.com/github/FaisalT0435/Sistem-Deteksi-Hama-menggunakan-Deep-learning-dan-IoT/blob/main/K_Fold_Fast_RCNN_.ipynb\" target=\"_parent\"><img src=\"https://colab.research.google.com/assets/colab-badge.svg\" alt=\"Open In Colab\"/></a>"
      ]
    },
    {
      "cell_type": "markdown",
      "metadata": {
        "id": "fc18NM7yL42E"
      },
      "source": [
        "Import Library\n"
      ]
    },
    {
      "cell_type": "code",
      "execution_count": 1,
      "metadata": {
        "id": "eByfqE6J-7G1"
      },
      "outputs": [],
      "source": [
        "import numpy as np # linear algebra\n",
        "import pandas as pd # data processing, CSV file I/O (e.g. pd.read_csv)\n",
        "import os\n",
        "\n"
      ]
    },
    {
      "cell_type": "code",
      "execution_count": null,
      "metadata": {
        "colab": {
          "base_uri": "https://localhost:8080/"
        },
        "id": "mfXLc8Q1rUJq",
        "outputId": "77de2b0d-aeae-41ec-8dd6-dd729c8b9ab8"
      },
      "outputs": [
        {
          "output_type": "stream",
          "name": "stdout",
          "text": [
            "Sun Jan 29 16:12:32 2023       \n",
            "+-----------------------------------------------------------------------------+\n",
            "| NVIDIA-SMI 510.47.03    Driver Version: 510.47.03    CUDA Version: 11.6     |\n",
            "|-------------------------------+----------------------+----------------------+\n",
            "| GPU  Name        Persistence-M| Bus-Id        Disp.A | Volatile Uncorr. ECC |\n",
            "| Fan  Temp  Perf  Pwr:Usage/Cap|         Memory-Usage | GPU-Util  Compute M. |\n",
            "|                               |                      |               MIG M. |\n",
            "|===============================+======================+======================|\n",
            "|   0  Tesla T4            Off  | 00000000:00:04.0 Off |                    0 |\n",
            "| N/A   47C    P0    27W /  70W |      0MiB / 15360MiB |      0%      Default |\n",
            "|                               |                      |                  N/A |\n",
            "+-------------------------------+----------------------+----------------------+\n",
            "                                                                               \n",
            "+-----------------------------------------------------------------------------+\n",
            "| Processes:                                                                  |\n",
            "|  GPU   GI   CI        PID   Type   Process name                  GPU Memory |\n",
            "|        ID   ID                                                   Usage      |\n",
            "|=============================================================================|\n",
            "|  No running processes found                                                 |\n",
            "+-----------------------------------------------------------------------------+\n"
          ]
        }
      ],
      "source": [
        "!nvidia-smi"
      ]
    },
    {
      "cell_type": "code",
      "execution_count": 2,
      "metadata": {
        "colab": {
          "base_uri": "https://localhost:8080/"
        },
        "id": "IRxhiSGX2Ni6",
        "outputId": "3bb0691e-35a0-41be-9cfc-e18c7baba863"
      },
      "outputs": [
        {
          "output_type": "stream",
          "name": "stdout",
          "text": [
            "Mounted at /content/drive\n"
          ]
        }
      ],
      "source": [
        "from google.colab import drive\n",
        "drive.mount('/content/drive')"
      ]
    },
    {
      "cell_type": "code",
      "execution_count": null,
      "metadata": {
        "colab": {
          "base_uri": "https://localhost:8080/"
        },
        "id": "kJIaGWtS_AT5",
        "outputId": "9a56ce44-9329-4379-9f97-75b1550906be"
      },
      "outputs": [
        {
          "output_type": "stream",
          "name": "stdout",
          "text": [
            "Looking in indexes: https://pypi.org/simple, https://us-python.pkg.dev/colab-wheels/public/simple/\n",
            "Requirement already satisfied: torchvision in /usr/local/lib/python3.8/dist-packages (0.14.1+cu116)\n",
            "Requirement already satisfied: typing-extensions in /usr/local/lib/python3.8/dist-packages (from torchvision) (4.4.0)\n",
            "Requirement already satisfied: pillow!=8.3.*,>=5.3.0 in /usr/local/lib/python3.8/dist-packages (from torchvision) (7.1.2)\n",
            "Requirement already satisfied: requests in /usr/local/lib/python3.8/dist-packages (from torchvision) (2.25.1)\n",
            "Requirement already satisfied: numpy in /usr/local/lib/python3.8/dist-packages (from torchvision) (1.21.6)\n",
            "Requirement already satisfied: torch==1.13.1 in /usr/local/lib/python3.8/dist-packages (from torchvision) (1.13.1+cu116)\n",
            "Requirement already satisfied: chardet<5,>=3.0.2 in /usr/local/lib/python3.8/dist-packages (from requests->torchvision) (4.0.0)\n",
            "Requirement already satisfied: certifi>=2017.4.17 in /usr/local/lib/python3.8/dist-packages (from requests->torchvision) (2022.12.7)\n",
            "Requirement already satisfied: idna<3,>=2.5 in /usr/local/lib/python3.8/dist-packages (from requests->torchvision) (2.10)\n",
            "Requirement already satisfied: urllib3<1.27,>=1.21.1 in /usr/local/lib/python3.8/dist-packages (from requests->torchvision) (1.24.3)\n"
          ]
        }
      ],
      "source": [
        "!pip install -U torchvision "
      ]
    },
    {
      "cell_type": "markdown",
      "metadata": {
        "id": "gOKJv4f6L3tI"
      },
      "source": []
    },
    {
      "cell_type": "code",
      "execution_count": null,
      "metadata": {
        "id": "V9KrOKBn_E1H"
      },
      "outputs": [],
      "source": [
        "import torch\n",
        "import torchvision\n",
        "from torchvision import datasets, models\n",
        "from torchvision.transforms import functional as FT\n",
        "from torchvision import transforms as T\n",
        "from torch import nn, optim\n",
        "from torch.nn import functional as F\n",
        "from torch.utils.data import DataLoader, sampler, random_split, Dataset\n",
        "import copy\n",
        "import math\n",
        "from PIL import Image\n",
        "import cv2\n",
        "import albumentations as A  # our data augmentation library\n",
        "\n",
        "import matplotlib.pyplot as plt\n",
        "%matplotlib inline"
      ]
    },
    {
      "cell_type": "code",
      "execution_count": null,
      "metadata": {
        "id": "hSELvN1AAOw3"
      },
      "outputs": [],
      "source": [
        "import warnings\n",
        "warnings.filterwarnings(\"ignore\")\n",
        "from collections import defaultdict, deque\n",
        "import datetime\n",
        "import time\n",
        "from tqdm import tqdm # progress bar\n",
        "from torchvision.utils import draw_bounding_boxes"
      ]
    },
    {
      "cell_type": "code",
      "execution_count": null,
      "metadata": {
        "colab": {
          "base_uri": "https://localhost:8080/"
        },
        "id": "3I5OB9RnARbJ",
        "outputId": "8c07f7b6-b699-4d79-e460-0f577c7a8ac0"
      },
      "outputs": [
        {
          "output_type": "stream",
          "name": "stdout",
          "text": [
            "1.13.1+cu116\n",
            "0.14.1+cu116\n"
          ]
        }
      ],
      "source": [
        "print(torch.__version__)\n",
        "print(torchvision.__version__)"
      ]
    },
    {
      "cell_type": "code",
      "execution_count": null,
      "metadata": {
        "colab": {
          "base_uri": "https://localhost:8080/"
        },
        "id": "-QXGAoNuAUtF",
        "outputId": "a603b714-43cb-4108-b1b7-3e1552e7bd78"
      },
      "outputs": [
        {
          "output_type": "stream",
          "name": "stdout",
          "text": [
            "Looking in indexes: https://pypi.org/simple, https://us-python.pkg.dev/colab-wheels/public/simple/\n",
            "Requirement already satisfied: pycocotools in /usr/local/lib/python3.8/dist-packages (2.0.6)\n",
            "Requirement already satisfied: matplotlib>=2.1.0 in /usr/local/lib/python3.8/dist-packages (from pycocotools) (3.2.2)\n",
            "Requirement already satisfied: numpy in /usr/local/lib/python3.8/dist-packages (from pycocotools) (1.21.6)\n",
            "Requirement already satisfied: cycler>=0.10 in /usr/local/lib/python3.8/dist-packages (from matplotlib>=2.1.0->pycocotools) (0.11.0)\n",
            "Requirement already satisfied: kiwisolver>=1.0.1 in /usr/local/lib/python3.8/dist-packages (from matplotlib>=2.1.0->pycocotools) (1.4.4)\n",
            "Requirement already satisfied: pyparsing!=2.0.4,!=2.1.2,!=2.1.6,>=2.0.1 in /usr/local/lib/python3.8/dist-packages (from matplotlib>=2.1.0->pycocotools) (3.0.9)\n",
            "Requirement already satisfied: python-dateutil>=2.1 in /usr/local/lib/python3.8/dist-packages (from matplotlib>=2.1.0->pycocotools) (2.8.2)\n",
            "Requirement already satisfied: six>=1.5 in /usr/local/lib/python3.8/dist-packages (from python-dateutil>=2.1->matplotlib>=2.1.0->pycocotools) (1.15.0)\n"
          ]
        }
      ],
      "source": [
        "!pip install pycocotools\n",
        "from pycocotools.coco import COCO"
      ]
    },
    {
      "cell_type": "markdown",
      "metadata": {
        "id": "X5TfJSKGMftW"
      },
      "source": [
        "Membuat boxes deteksi menggunakan library augmentasi Albumentations "
      ]
    },
    {
      "cell_type": "code",
      "execution_count": null,
      "metadata": {
        "id": "syqmpRrCWNyj"
      },
      "outputs": [],
      "source": [
        "from albumentations.pytorch import ToTensorV2"
      ]
    },
    {
      "cell_type": "code",
      "execution_count": null,
      "metadata": {
        "id": "61AiDhrTAcR5"
      },
      "outputs": [],
      "source": [
        "def get_transforms(train=False):\n",
        "    if train:\n",
        "        transform = A.Compose([\n",
        "            A.Resize(600, 600), # our input size can be 600px\n",
        "            A.HorizontalFlip(p=0.3),\n",
        "            A.VerticalFlip(p=0.3),\n",
        "            A.RandomBrightnessContrast(p=0.1),\n",
        "            A.ColorJitter(p=0.1),\n",
        "            ToTensorV2()\n",
        "        ], bbox_params=A.BboxParams(format='coco'))\n",
        "    else:\n",
        "        transform = A.Compose([\n",
        "            A.Resize(600, 600), # our input size can be 600px\n",
        "            ToTensorV2()\n",
        "        ], bbox_params=A.BboxParams(format='coco'))\n",
        "    return transform"
      ]
    },
    {
      "cell_type": "code",
      "execution_count": null,
      "metadata": {
        "id": "-L0DIhNfXrDY"
      },
      "outputs": [],
      "source": [
        "class PestDetection(datasets.VisionDataset):\n",
        "    def __init__(self, root, split='train', transform=None, target_transform=None, transforms=None):\n",
        "        # the 3 transform parameters are reuqired for datasets.VisionDataset\n",
        "        super().__init__(root, transforms, transform, target_transform)\n",
        "        self.split = split #train, valid, test\n",
        "        self.coco = COCO(os.path.join(root, split, \"_annotations.coco.json\")) # annotatiosn stored here\n",
        "        self.ids = list(sorted(self.coco.imgs.keys()))\n",
        "        self.ids = [id for id in self.ids if (len(self._load_target(id)) > 0)]\n",
        "    \n",
        "    def _load_image(self, id: int):\n",
        "        path = self.coco.loadImgs(id)[0]['file_name']\n",
        "        # print(path)\n",
        "        image = cv2.imread(os.path.join(self.root, self.split, path))\n",
        "        image = cv2.cvtColor(image, cv2.COLOR_BGR2RGB)\n",
        "        return image\n",
        "    def _load_target(self, id):\n",
        "        return self.coco.loadAnns(self.coco.getAnnIds(id))\n",
        "    \n",
        "    def __getitem__(self, index):\n",
        "        id = self.ids[index]\n",
        "        image = self._load_image(id)\n",
        "        target = self._load_target(id)\n",
        "        target = copy.deepcopy(self._load_target(id))\n",
        "        \n",
        "        boxes = [t['bbox'] + [t['category_id']] for t in target] # required annotation format for albumentations\n",
        "        if self.transforms is not None:\n",
        "            transformed = self.transforms(image=image, bboxes=boxes)\n",
        "        \n",
        "        image = transformed['image']\n",
        "        boxes = transformed['bboxes']\n",
        "        \n",
        "        new_boxes = [] # convert from xywh to xyxy\n",
        "        for box in boxes:\n",
        "            \n",
        "            xmin = box[0]\n",
        "            xmax = xmin + box[2]\n",
        "            ymin = box[1]\n",
        "            ymax = ymin + box[3]\n",
        "            \n",
        "\n",
        "            new_boxes.append([xmin, ymin, xmax, ymax])\n",
        "        \n",
        "        boxes = torch.tensor(new_boxes, dtype=torch.float32)\n",
        "        \n",
        "        targ = {} # here is our transformed target\n",
        "        targ['boxes'] = boxes\n",
        "        targ['labels'] = torch.tensor([t['category_id'] for t in target], dtype=torch.int64)\n",
        "        targ['image_id'] = torch.tensor([t['image_id'] for t in target])\n",
        "        targ['area'] = (boxes[:, 3] - boxes[:, 1]) * (boxes[:, 2] - boxes[:, 0]) # we have a different area\n",
        "        targ['iscrowd'] = torch.tensor([t['iscrowd'] for t in target], dtype=torch.int64)\n",
        "        return image.div(255), targ # scale images\n",
        "    def __len__(self):\n",
        "        return len(self.ids)"
      ]
    },
    {
      "cell_type": "markdown",
      "metadata": {
        "id": "xq-vNAnSNCac"
      },
      "source": [
        "Dataset"
      ]
    },
    {
      "cell_type": "markdown",
      "metadata": {
        "id": "Qno96c9pNdyS"
      },
      "source": [
        "Membuat class PetsDetection yang berisi fungsi train data dan labeling "
      ]
    },
    {
      "cell_type": "code",
      "execution_count": null,
      "metadata": {
        "id": "nFi5IABIA1n_"
      },
      "outputs": [],
      "source": [
        "#Memanggil dataset\n",
        "dataset_path = \"/content/drive/MyDrive/Dataset/\""
      ]
    },
    {
      "cell_type": "code",
      "execution_count": null,
      "metadata": {
        "colab": {
          "base_uri": "https://localhost:8080/"
        },
        "id": "TdHzG1A6A9RL",
        "outputId": "1eef1db4-9443-4f63-e015-f01d267fb797"
      },
      "outputs": [
        {
          "output_type": "stream",
          "name": "stdout",
          "text": [
            "loading annotations into memory...\n",
            "Done (t=6.73s)\n",
            "creating index...\n",
            "index created!\n"
          ]
        },
        {
          "output_type": "execute_result",
          "data": {
            "text/plain": [
              "{0: {'id': 0, 'name': 'Pest', 'supercategory': 'none'},\n",
              " 1: {'id': 1, 'name': 'Belalang', 'supercategory': 'Pest'},\n",
              " 2: {'id': 2, 'name': 'Sehat', 'supercategory': 'Pest'},\n",
              " 3: {'id': 3, 'name': 'Ulat', 'supercategory': 'Pest'},\n",
              " 4: {'id': 4, 'name': 'Wereng', 'supercategory': 'Pest'}}"
            ]
          },
          "metadata": {},
          "execution_count": 13
        }
      ],
      "source": [
        "# memanggil file annotation untuk membuat box di data train \n",
        "coco = COCO(os.path.join(dataset_path, 'train/','_annotations.coco.json'))\n",
        "categories = coco.cats\n",
        "n_classes = len(categories.keys())\n",
        "categories"
      ]
    },
    {
      "cell_type": "code",
      "execution_count": null,
      "metadata": {
        "colab": {
          "base_uri": "https://localhost:8080/"
        },
        "id": "NHAY4uYLBfOS",
        "outputId": "0cd21c36-2131-4079-962c-bb7a7ff79c26"
      },
      "outputs": [
        {
          "output_type": "execute_result",
          "data": {
            "text/plain": [
              "['Pest', 'Belalang', 'Sehat', 'Ulat', 'Wereng']"
            ]
          },
          "metadata": {},
          "execution_count": 14
        }
      ],
      "source": [
        "classes = [i[1]['name'] for i in categories.items()]\n",
        "classes"
      ]
    },
    {
      "cell_type": "markdown",
      "metadata": {
        "id": "zEswJtX7Qf6g"
      },
      "source": []
    },
    {
      "cell_type": "code",
      "execution_count": null,
      "metadata": {
        "colab": {
          "base_uri": "https://localhost:8080/"
        },
        "id": "twZZEqPlVd8V",
        "outputId": "d09b2681-bd21-49aa-eab6-0e0a8194c068"
      },
      "outputs": [
        {
          "output_type": "stream",
          "name": "stdout",
          "text": [
            "loading annotations into memory...\n",
            "Done (t=0.01s)\n",
            "creating index...\n",
            "index created!\n"
          ]
        },
        {
          "output_type": "execute_result",
          "data": {
            "text/plain": [
              "(tensor([[[0., 0., 0.,  ..., 0., 0., 0.],\n",
              "          [0., 0., 0.,  ..., 0., 0., 0.],\n",
              "          [0., 0., 0.,  ..., 0., 0., 0.],\n",
              "          ...,\n",
              "          [0., 0., 0.,  ..., 0., 0., 0.],\n",
              "          [0., 0., 0.,  ..., 0., 0., 0.],\n",
              "          [0., 0., 0.,  ..., 0., 0., 0.]],\n",
              " \n",
              "         [[0., 0., 0.,  ..., 0., 0., 0.],\n",
              "          [0., 0., 0.,  ..., 0., 0., 0.],\n",
              "          [0., 0., 0.,  ..., 0., 0., 0.],\n",
              "          ...,\n",
              "          [0., 0., 0.,  ..., 0., 0., 0.],\n",
              "          [0., 0., 0.,  ..., 0., 0., 0.],\n",
              "          [0., 0., 0.,  ..., 0., 0., 0.]],\n",
              " \n",
              "         [[0., 0., 0.,  ..., 0., 0., 0.],\n",
              "          [0., 0., 0.,  ..., 0., 0., 0.],\n",
              "          [0., 0., 0.,  ..., 0., 0., 0.],\n",
              "          ...,\n",
              "          [0., 0., 0.,  ..., 0., 0., 0.],\n",
              "          [0., 0., 0.,  ..., 0., 0., 0.],\n",
              "          [0., 0., 0.,  ..., 0., 0., 0.]]]),\n",
              " {'boxes': tensor([[ 36.5625,  14.0625, 514.6875, 536.2500]]),\n",
              "  'labels': tensor([3]),\n",
              "  'image_id': tensor([100]),\n",
              "  'area': tensor([249670.9062]),\n",
              "  'iscrowd': tensor([0])})"
            ]
          },
          "metadata": {},
          "execution_count": 15
        }
      ],
      "source": [
        "train_dataset = PestDetection(root=dataset_path, transforms=get_transforms(True))\n",
        "train_dataset[100]"
      ]
    },
    {
      "cell_type": "code",
      "execution_count": null,
      "metadata": {
        "colab": {
          "base_uri": "https://localhost:8080/",
          "height": 286
        },
        "id": "05XHC552WZj4",
        "outputId": "5aefccdd-6e05-4caf-8ccc-dc10d920adc4"
      },
      "outputs": [
        {
          "output_type": "execute_result",
          "data": {
            "text/plain": [
              "<matplotlib.image.AxesImage at 0x7f03330450d0>"
            ]
          },
          "metadata": {},
          "execution_count": 16
        },
        {
          "output_type": "display_data",
          "data": {
            "text/plain": [
              "<Figure size 432x288 with 1 Axes>"
            ],
            "image/png": "[encoded data removed]"
          },
          "metadata": {
            "needs_background": "light"
          }
        }
      ],
      "source": [
        "# contoh data train yang sudah dikasih box\n",
        "sample = train_dataset[14]\n",
        "img_int = torch.tensor(sample[0] * 255, dtype=torch.uint8)\n",
        "plt.imshow(draw_bounding_boxes(\n",
        "    img_int, sample[1]['boxes'], [classes[i] for i in sample[1]['labels']], width=4\n",
        ").permute(1, 2, 0))"
      ]
    },
    {
      "cell_type": "code",
      "execution_count": null,
      "metadata": {
        "colab": {
          "base_uri": "https://localhost:8080/"
        },
        "id": "t2c9VeI6WeXa",
        "outputId": "8cd962b9-0863-4d98-a8c6-1c6cb1ea04c4"
      },
      "outputs": [
        {
          "output_type": "execute_result",
          "data": {
            "text/plain": [
              "642"
            ]
          },
          "metadata": {},
          "execution_count": 17
        }
      ],
      "source": [
        "len(train_dataset)"
      ]
    },
    {
      "cell_type": "markdown",
      "metadata": {
        "id": "BjTmL4taOKch"
      },
      "source": [
        "Model Deep Learning Faster RCNN"
      ]
    },
    {
      "cell_type": "code",
      "source": [
        "from torchvision.models.detection.faster_rcnn import FastRCNNPredictor"
      ],
      "metadata": {
        "id": "hnDY8bXVfVcI"
      },
      "execution_count": null,
      "outputs": []
    },
    {
      "cell_type": "code",
      "execution_count": null,
      "metadata": {
        "id": "ruKFQYzWWha6",
        "colab": {
          "base_uri": "https://localhost:8080/",
          "height": 86,
          "referenced_widgets": [
            "830f2d87a1704e8ba1181b23824580d7",
            "01b70db927284ba598367e7826121b40",
            "17ebf0057fe448d58f95e747da4edb85",
            "791a45455c284301a6e1da7eb53d7ea8",
            "e8328724d31c4ccfad2b299602356cf8",
            "09c6a60cd1644bb7b3f2b4fcb3a12f87",
            "c5f84e6780dd4e62abbb06f70cf5e251",
            "6909de937bde4055b39f4d61c78e495c",
            "0c4a7ba2e0774a92a5b89a1e9b8433e2",
            "d7a4caf6d16c4f9fb1c31b4c672bebd9",
            "48190c1f532c4e61b1694ac2ee08bfc3"
          ]
        },
        "outputId": "eac533ec-dce5-4d71-fc53-d8a0c2bb812a"
      },
      "outputs": [
        {
          "output_type": "stream",
          "name": "stderr",
          "text": [
            "Downloading: \"https://download.pytorch.org/models/fasterrcnn_resnet50_fpn_coco-258fb6c6.pth\" to /root/.cache/torch/hub/checkpoints/fasterrcnn_resnet50_fpn_coco-258fb6c6.pth\n"
          ]
        },
        {
          "output_type": "display_data",
          "data": {
            "text/plain": [
              "  0%|          | 0.00/160M [00:00<?, ?B/s]"
            ],
            "application/vnd.jupyter.widget-view+json": {
              "version_major": 2,
              "version_minor": 0,
              "model_id": "830f2d87a1704e8ba1181b23824580d7"
            }
          },
          "metadata": {}
        }
      ],
      "source": [
        "model = models.detection.fasterrcnn_resnet50_fpn(pretrained=True)\n",
        "in_features = model.roi_heads.box_predictor.cls_score.in_features # we need to change the head\n",
        "model.roi_heads.box_predictor = FastRCNNPredictor(in_features, n_classes)\n",
        "\n"
      ]
    },
    {
      "cell_type": "code",
      "execution_count": null,
      "metadata": {
        "colab": {
          "base_uri": "https://localhost:8080/"
        },
        "id": "u9pshWhjuTq5",
        "outputId": "9769dba5-4056-4ac7-a0cc-2ed2eda18720"
      },
      "outputs": [
        {
          "output_type": "execute_result",
          "data": {
            "text/plain": [
              "1024"
            ]
          },
          "metadata": {},
          "execution_count": 20
        }
      ],
      "source": [
        "in_features"
      ]
    },
    {
      "cell_type": "markdown",
      "metadata": {
        "id": "DHXTZ1iwPGyI"
      },
      "source": [
        "Membuat dataset  untuk memudahkan masuk ke model "
      ]
    },
    {
      "cell_type": "code",
      "execution_count": null,
      "metadata": {
        "id": "iX0vgJpVWm7g"
      },
      "outputs": [],
      "source": [
        "def collate_fn(batch):\n",
        "    return tuple(zip(*batch))"
      ]
    },
    {
      "cell_type": "code",
      "source": [
        "def train_one_epoch(model, optimizer, loader, device, epoch):\n",
        "    model.to(device)\n",
        "    model.train()\n",
        "    \n",
        "#     lr_scheduler = None\n",
        "#     if epoch == 0:\n",
        "#         warmup_factor = 1.0 / 1000 # do lr warmup\n",
        "#         warmup_iters = min(1000, len(loader) - 1)\n",
        "        \n",
        "#         lr_scheduler = optim.lr_scheduler.LinearLR(optimizer, start_factor = warmup_factor, total_iters=warmup_iters)\n",
        "    \n",
        "    all_losses = []\n",
        "    all_losses_dict = []\n",
        "    for images, targets in tqdm(loader):\n",
        "      \n",
        "          images = list(image.to(device) for image in images)\n",
        "          targets = [{k: torch.tensor(v).to(device) for k, v in t.items()} for t in targets]\n",
        "          \n",
        "          loss_dict = model(images, targets) # the model computes the loss automatically if we pass in targets\n",
        "          losses = sum(loss for loss in loss_dict.values())\n",
        "          loss_dict_append = {k: v.item() for k, v in loss_dict.items()}\n",
        "          loss_value = losses.item()\n",
        "          \n",
        "          all_losses.append(loss_value)\n",
        "          all_losses_dict.append(loss_dict_append)\n",
        "          \n",
        "          if not math.isfinite(loss_value):\n",
        "              print(f\"Loss is {loss_value}, stopping trainig\") # train if loss becomes infinity\n",
        "              print(loss_dict)\n",
        "              sys.exit(1)\n",
        "          \n",
        "          optimizer.zero_grad()\n",
        "          losses.backward()\n",
        "          optimizer.step()\n",
        "        \n",
        "#         if lr_scheduler is not None:\n",
        "#             lr_scheduler.step() # \n",
        "        \n",
        "    all_losses_dict = pd.DataFrame(all_losses_dict) # for printing\n",
        "    print(\"Epoch {}, lr: {:.6f}, loss: {:.6f}, loss_classifier: {:.6f}, loss_box: {:.6f}, loss_rpn_box: {:.6f}, loss_object: {:.6f}\".format(\n",
        "        epoch, optimizer.param_groups[0]['lr'], np.mean(all_losses),\n",
        "        all_losses_dict['loss_classifier'].mean(),\n",
        "        all_losses_dict['loss_box_reg'].mean(),\n",
        "        all_losses_dict['loss_rpn_box_reg'].mean(),\n",
        "        all_losses_dict['loss_objectness'].mean()\n",
        "    ))\n",
        "    return(np.mean(all_losses))"
      ],
      "metadata": {
        "id": "BHrjWQMG0dyz"
      },
      "execution_count": null,
      "outputs": []
    },
    {
      "cell_type": "code",
      "source": [
        "LEARNING_RATE = 1e-5\n",
        "WEIGHT_DECAY = 5e-4"
      ],
      "metadata": {
        "id": "hLR2iTqB1YBn"
      },
      "execution_count": null,
      "outputs": []
    },
    {
      "cell_type": "code",
      "execution_count": null,
      "metadata": {
        "id": "SqN7StbdWp5n",
        "colab": {
          "base_uri": "https://localhost:8080/"
        },
        "outputId": "ee283004-5530-47c8-f5d7-b8190df928e1"
      },
      "outputs": [
        {
          "output_type": "stream",
          "name": "stdout",
          "text": [
            "FOLD 0\n",
            "--------------------------------\n"
          ]
        },
        {
          "output_type": "stream",
          "name": "stderr",
          "text": [
            "100%|██████████| 161/161 [02:16<00:00,  1.18it/s]\n"
          ]
        },
        {
          "output_type": "stream",
          "name": "stdout",
          "text": [
            "Epoch 0, lr: 0.010000, loss: 0.156858, loss_classifier: 0.069910, loss_box: 0.073123, loss_rpn_box: 0.007029, loss_object: 0.006796\n"
          ]
        },
        {
          "output_type": "stream",
          "name": "stderr",
          "text": [
            "100%|██████████| 161/161 [02:10<00:00,  1.23it/s]\n"
          ]
        },
        {
          "output_type": "stream",
          "name": "stdout",
          "text": [
            "Epoch 1, lr: 0.010000, loss: 0.090340, loss_classifier: 0.036355, loss_box: 0.045499, loss_rpn_box: 0.005133, loss_object: 0.003353\n"
          ]
        },
        {
          "output_type": "stream",
          "name": "stderr",
          "text": [
            "100%|██████████| 161/161 [02:10<00:00,  1.23it/s]\n"
          ]
        },
        {
          "output_type": "stream",
          "name": "stdout",
          "text": [
            "Epoch 2, lr: 0.010000, loss: 0.072338, loss_classifier: 0.029597, loss_box: 0.035819, loss_rpn_box: 0.004667, loss_object: 0.002256\n"
          ]
        },
        {
          "output_type": "stream",
          "name": "stderr",
          "text": [
            "100%|██████████| 161/161 [02:10<00:00,  1.23it/s]\n"
          ]
        },
        {
          "output_type": "stream",
          "name": "stdout",
          "text": [
            "Epoch 3, lr: 0.010000, loss: 0.061924, loss_classifier: 0.024526, loss_box: 0.030798, loss_rpn_box: 0.004401, loss_object: 0.002200\n"
          ]
        },
        {
          "output_type": "stream",
          "name": "stderr",
          "text": [
            "100%|██████████| 161/161 [02:10<00:00,  1.23it/s]\n"
          ]
        },
        {
          "output_type": "stream",
          "name": "stdout",
          "text": [
            "Epoch 4, lr: 0.010000, loss: 0.057136, loss_classifier: 0.022658, loss_box: 0.028734, loss_rpn_box: 0.004179, loss_object: 0.001565\n"
          ]
        },
        {
          "output_type": "stream",
          "name": "stderr",
          "text": [
            "100%|██████████| 161/161 [02:11<00:00,  1.23it/s]\n"
          ]
        },
        {
          "output_type": "stream",
          "name": "stdout",
          "text": [
            "Epoch 5, lr: 0.010000, loss: 0.054729, loss_classifier: 0.021743, loss_box: 0.027179, loss_rpn_box: 0.003916, loss_object: 0.001891\n"
          ]
        },
        {
          "output_type": "stream",
          "name": "stderr",
          "text": [
            "100%|██████████| 161/161 [02:11<00:00,  1.23it/s]\n"
          ]
        },
        {
          "output_type": "stream",
          "name": "stdout",
          "text": [
            "Epoch 6, lr: 0.010000, loss: 0.047797, loss_classifier: 0.018948, loss_box: 0.023993, loss_rpn_box: 0.003601, loss_object: 0.001254\n"
          ]
        },
        {
          "output_type": "stream",
          "name": "stderr",
          "text": [
            "100%|██████████| 161/161 [02:11<00:00,  1.23it/s]\n"
          ]
        },
        {
          "output_type": "stream",
          "name": "stdout",
          "text": [
            "Epoch 7, lr: 0.010000, loss: 0.044568, loss_classifier: 0.017347, loss_box: 0.022771, loss_rpn_box: 0.003440, loss_object: 0.001011\n"
          ]
        },
        {
          "output_type": "stream",
          "name": "stderr",
          "text": [
            "100%|██████████| 161/161 [02:11<00:00,  1.23it/s]\n"
          ]
        },
        {
          "output_type": "stream",
          "name": "stdout",
          "text": [
            "Epoch 8, lr: 0.010000, loss: 0.042561, loss_classifier: 0.016127, loss_box: 0.022102, loss_rpn_box: 0.003267, loss_object: 0.001064\n"
          ]
        },
        {
          "output_type": "stream",
          "name": "stderr",
          "text": [
            "100%|██████████| 161/161 [02:11<00:00,  1.23it/s]"
          ]
        },
        {
          "output_type": "stream",
          "name": "stdout",
          "text": [
            "Epoch 9, lr: 0.010000, loss: 0.040327, loss_classifier: 0.014808, loss_box: 0.021178, loss_rpn_box: 0.003151, loss_object: 0.001190\n",
            "FOLD 1\n",
            "--------------------------------\n"
          ]
        },
        {
          "output_type": "stream",
          "name": "stderr",
          "text": [
            "\n",
            "100%|██████████| 161/161 [02:11<00:00,  1.23it/s]\n"
          ]
        },
        {
          "output_type": "stream",
          "name": "stdout",
          "text": [
            "Epoch 0, lr: 0.010000, loss: 0.037001, loss_classifier: 0.013407, loss_box: 0.019758, loss_rpn_box: 0.002983, loss_object: 0.000853\n"
          ]
        },
        {
          "output_type": "stream",
          "name": "stderr",
          "text": [
            "100%|██████████| 161/161 [02:11<00:00,  1.22it/s]\n"
          ]
        },
        {
          "output_type": "stream",
          "name": "stdout",
          "text": [
            "Epoch 1, lr: 0.010000, loss: 0.036230, loss_classifier: 0.013143, loss_box: 0.019314, loss_rpn_box: 0.002941, loss_object: 0.000832\n"
          ]
        },
        {
          "output_type": "stream",
          "name": "stderr",
          "text": [
            "100%|██████████| 161/161 [02:11<00:00,  1.23it/s]\n"
          ]
        },
        {
          "output_type": "stream",
          "name": "stdout",
          "text": [
            "Epoch 2, lr: 0.010000, loss: 0.036022, loss_classifier: 0.014081, loss_box: 0.018125, loss_rpn_box: 0.002886, loss_object: 0.000930\n"
          ]
        },
        {
          "output_type": "stream",
          "name": "stderr",
          "text": [
            "100%|██████████| 161/161 [02:11<00:00,  1.22it/s]\n"
          ]
        },
        {
          "output_type": "stream",
          "name": "stdout",
          "text": [
            "Epoch 3, lr: 0.010000, loss: 0.032559, loss_classifier: 0.011512, loss_box: 0.017690, loss_rpn_box: 0.002637, loss_object: 0.000720\n"
          ]
        },
        {
          "output_type": "stream",
          "name": "stderr",
          "text": [
            "100%|██████████| 161/161 [02:11<00:00,  1.23it/s]\n"
          ]
        },
        {
          "output_type": "stream",
          "name": "stdout",
          "text": [
            "Epoch 4, lr: 0.010000, loss: 0.031369, loss_classifier: 0.010718, loss_box: 0.017386, loss_rpn_box: 0.002565, loss_object: 0.000700\n"
          ]
        },
        {
          "output_type": "stream",
          "name": "stderr",
          "text": [
            "100%|██████████| 161/161 [02:11<00:00,  1.23it/s]\n"
          ]
        },
        {
          "output_type": "stream",
          "name": "stdout",
          "text": [
            "Epoch 5, lr: 0.010000, loss: 0.030711, loss_classifier: 0.010771, loss_box: 0.016685, loss_rpn_box: 0.002541, loss_object: 0.000714\n"
          ]
        },
        {
          "output_type": "stream",
          "name": "stderr",
          "text": [
            "100%|██████████| 161/161 [02:11<00:00,  1.23it/s]\n"
          ]
        },
        {
          "output_type": "stream",
          "name": "stdout",
          "text": [
            "Epoch 6, lr: 0.010000, loss: 0.029389, loss_classifier: 0.010504, loss_box: 0.015884, loss_rpn_box: 0.002482, loss_object: 0.000519\n"
          ]
        },
        {
          "output_type": "stream",
          "name": "stderr",
          "text": [
            "100%|██████████| 161/161 [02:10<00:00,  1.23it/s]\n"
          ]
        },
        {
          "output_type": "stream",
          "name": "stdout",
          "text": [
            "Epoch 7, lr: 0.010000, loss: 0.026081, loss_classifier: 0.008858, loss_box: 0.014139, loss_rpn_box: 0.002312, loss_object: 0.000771\n"
          ]
        },
        {
          "output_type": "stream",
          "name": "stderr",
          "text": [
            "100%|██████████| 161/161 [02:11<00:00,  1.23it/s]\n"
          ]
        },
        {
          "output_type": "stream",
          "name": "stdout",
          "text": [
            "Epoch 8, lr: 0.010000, loss: 0.025460, loss_classifier: 0.008416, loss_box: 0.014423, loss_rpn_box: 0.002167, loss_object: 0.000454\n"
          ]
        },
        {
          "output_type": "stream",
          "name": "stderr",
          "text": [
            "100%|██████████| 161/161 [02:10<00:00,  1.23it/s]"
          ]
        },
        {
          "output_type": "stream",
          "name": "stdout",
          "text": [
            "Epoch 9, lr: 0.010000, loss: 0.027732, loss_classifier: 0.009336, loss_box: 0.015615, loss_rpn_box: 0.002199, loss_object: 0.000582\n",
            "FOLD 2\n",
            "--------------------------------\n"
          ]
        },
        {
          "output_type": "stream",
          "name": "stderr",
          "text": [
            "\n",
            "100%|██████████| 161/161 [02:11<00:00,  1.23it/s]\n"
          ]
        },
        {
          "output_type": "stream",
          "name": "stdout",
          "text": [
            "Epoch 0, lr: 0.010000, loss: 0.023688, loss_classifier: 0.007932, loss_box: 0.013194, loss_rpn_box: 0.002051, loss_object: 0.000510\n"
          ]
        },
        {
          "output_type": "stream",
          "name": "stderr",
          "text": [
            "100%|██████████| 161/161 [02:11<00:00,  1.22it/s]\n"
          ]
        },
        {
          "output_type": "stream",
          "name": "stdout",
          "text": [
            "Epoch 1, lr: 0.010000, loss: 0.024458, loss_classifier: 0.008343, loss_box: 0.013667, loss_rpn_box: 0.002007, loss_object: 0.000441\n"
          ]
        },
        {
          "output_type": "stream",
          "name": "stderr",
          "text": [
            "100%|██████████| 161/161 [02:10<00:00,  1.23it/s]\n"
          ]
        },
        {
          "output_type": "stream",
          "name": "stdout",
          "text": [
            "Epoch 2, lr: 0.010000, loss: 0.023503, loss_classifier: 0.007846, loss_box: 0.013128, loss_rpn_box: 0.001949, loss_object: 0.000580\n"
          ]
        },
        {
          "output_type": "stream",
          "name": "stderr",
          "text": [
            "100%|██████████| 161/161 [02:11<00:00,  1.23it/s]\n"
          ]
        },
        {
          "output_type": "stream",
          "name": "stdout",
          "text": [
            "Epoch 3, lr: 0.010000, loss: 0.021010, loss_classifier: 0.006693, loss_box: 0.012151, loss_rpn_box: 0.001791, loss_object: 0.000375\n"
          ]
        },
        {
          "output_type": "stream",
          "name": "stderr",
          "text": [
            "100%|██████████| 161/161 [02:11<00:00,  1.23it/s]\n"
          ]
        },
        {
          "output_type": "stream",
          "name": "stdout",
          "text": [
            "Epoch 4, lr: 0.010000, loss: 0.024640, loss_classifier: 0.008702, loss_box: 0.013285, loss_rpn_box: 0.001983, loss_object: 0.000670\n"
          ]
        },
        {
          "output_type": "stream",
          "name": "stderr",
          "text": [
            "100%|██████████| 161/161 [02:11<00:00,  1.23it/s]\n"
          ]
        },
        {
          "output_type": "stream",
          "name": "stdout",
          "text": [
            "Epoch 5, lr: 0.010000, loss: 0.020237, loss_classifier: 0.006140, loss_box: 0.011828, loss_rpn_box: 0.001803, loss_object: 0.000465\n"
          ]
        },
        {
          "output_type": "stream",
          "name": "stderr",
          "text": [
            "100%|██████████| 161/161 [02:11<00:00,  1.22it/s]\n"
          ]
        },
        {
          "output_type": "stream",
          "name": "stdout",
          "text": [
            "Epoch 6, lr: 0.010000, loss: 0.020006, loss_classifier: 0.006222, loss_box: 0.011718, loss_rpn_box: 0.001724, loss_object: 0.000341\n"
          ]
        },
        {
          "output_type": "stream",
          "name": "stderr",
          "text": [
            "100%|██████████| 161/161 [02:11<00:00,  1.23it/s]\n"
          ]
        },
        {
          "output_type": "stream",
          "name": "stdout",
          "text": [
            "Epoch 7, lr: 0.010000, loss: 0.018625, loss_classifier: 0.006006, loss_box: 0.010643, loss_rpn_box: 0.001634, loss_object: 0.000341\n"
          ]
        },
        {
          "output_type": "stream",
          "name": "stderr",
          "text": [
            "100%|██████████| 161/161 [02:11<00:00,  1.23it/s]\n"
          ]
        },
        {
          "output_type": "stream",
          "name": "stdout",
          "text": [
            "Epoch 8, lr: 0.010000, loss: 0.018131, loss_classifier: 0.005625, loss_box: 0.010700, loss_rpn_box: 0.001492, loss_object: 0.000315\n"
          ]
        },
        {
          "output_type": "stream",
          "name": "stderr",
          "text": [
            "100%|██████████| 161/161 [02:11<00:00,  1.23it/s]"
          ]
        },
        {
          "output_type": "stream",
          "name": "stdout",
          "text": [
            "Epoch 9, lr: 0.010000, loss: 0.022092, loss_classifier: 0.007499, loss_box: 0.012451, loss_rpn_box: 0.001711, loss_object: 0.000431\n",
            "FOLD 3\n",
            "--------------------------------\n"
          ]
        },
        {
          "output_type": "stream",
          "name": "stderr",
          "text": [
            "\n",
            "100%|██████████| 161/161 [02:11<00:00,  1.22it/s]\n"
          ]
        },
        {
          "output_type": "stream",
          "name": "stdout",
          "text": [
            "Epoch 0, lr: 0.010000, loss: 0.019442, loss_classifier: 0.006375, loss_box: 0.011105, loss_rpn_box: 0.001560, loss_object: 0.000401\n"
          ]
        },
        {
          "output_type": "stream",
          "name": "stderr",
          "text": [
            "100%|██████████| 161/161 [02:11<00:00,  1.23it/s]\n"
          ]
        },
        {
          "output_type": "stream",
          "name": "stdout",
          "text": [
            "Epoch 1, lr: 0.010000, loss: 0.019380, loss_classifier: 0.006363, loss_box: 0.011160, loss_rpn_box: 0.001526, loss_object: 0.000331\n"
          ]
        },
        {
          "output_type": "stream",
          "name": "stderr",
          "text": [
            "100%|██████████| 161/161 [02:10<00:00,  1.23it/s]\n"
          ]
        },
        {
          "output_type": "stream",
          "name": "stdout",
          "text": [
            "Epoch 2, lr: 0.010000, loss: 0.016756, loss_classifier: 0.005301, loss_box: 0.009816, loss_rpn_box: 0.001301, loss_object: 0.000338\n"
          ]
        },
        {
          "output_type": "stream",
          "name": "stderr",
          "text": [
            "100%|██████████| 161/161 [02:11<00:00,  1.23it/s]\n"
          ]
        },
        {
          "output_type": "stream",
          "name": "stdout",
          "text": [
            "Epoch 3, lr: 0.010000, loss: 0.016321, loss_classifier: 0.004931, loss_box: 0.009798, loss_rpn_box: 0.001314, loss_object: 0.000278\n"
          ]
        },
        {
          "output_type": "stream",
          "name": "stderr",
          "text": [
            "100%|██████████| 161/161 [02:11<00:00,  1.23it/s]\n"
          ]
        },
        {
          "output_type": "stream",
          "name": "stdout",
          "text": [
            "Epoch 4, lr: 0.010000, loss: 0.016113, loss_classifier: 0.005246, loss_box: 0.009399, loss_rpn_box: 0.001233, loss_object: 0.000234\n"
          ]
        },
        {
          "output_type": "stream",
          "name": "stderr",
          "text": [
            "100%|██████████| 161/161 [02:11<00:00,  1.23it/s]\n"
          ]
        },
        {
          "output_type": "stream",
          "name": "stdout",
          "text": [
            "Epoch 5, lr: 0.010000, loss: 0.015139, loss_classifier: 0.004848, loss_box: 0.008755, loss_rpn_box: 0.001201, loss_object: 0.000334\n"
          ]
        },
        {
          "output_type": "stream",
          "name": "stderr",
          "text": [
            "100%|██████████| 161/161 [02:10<00:00,  1.23it/s]\n"
          ]
        },
        {
          "output_type": "stream",
          "name": "stdout",
          "text": [
            "Epoch 6, lr: 0.010000, loss: 0.015504, loss_classifier: 0.004835, loss_box: 0.009142, loss_rpn_box: 0.001209, loss_object: 0.000318\n"
          ]
        },
        {
          "output_type": "stream",
          "name": "stderr",
          "text": [
            "100%|██████████| 161/161 [02:11<00:00,  1.23it/s]\n"
          ]
        },
        {
          "output_type": "stream",
          "name": "stdout",
          "text": [
            "Epoch 7, lr: 0.010000, loss: 0.016984, loss_classifier: 0.005792, loss_box: 0.009497, loss_rpn_box: 0.001279, loss_object: 0.000417\n"
          ]
        },
        {
          "output_type": "stream",
          "name": "stderr",
          "text": [
            "100%|██████████| 161/161 [02:11<00:00,  1.23it/s]\n"
          ]
        },
        {
          "output_type": "stream",
          "name": "stdout",
          "text": [
            "Epoch 8, lr: 0.010000, loss: 0.016953, loss_classifier: 0.006076, loss_box: 0.009282, loss_rpn_box: 0.001237, loss_object: 0.000358\n"
          ]
        },
        {
          "output_type": "stream",
          "name": "stderr",
          "text": [
            "100%|██████████| 161/161 [02:11<00:00,  1.23it/s]"
          ]
        },
        {
          "output_type": "stream",
          "name": "stdout",
          "text": [
            "Epoch 9, lr: 0.010000, loss: 0.015698, loss_classifier: 0.004940, loss_box: 0.009264, loss_rpn_box: 0.001183, loss_object: 0.000311\n",
            "FOLD 4\n",
            "--------------------------------\n"
          ]
        },
        {
          "output_type": "stream",
          "name": "stderr",
          "text": [
            "\n",
            "100%|██████████| 161/161 [02:11<00:00,  1.22it/s]\n"
          ]
        },
        {
          "output_type": "stream",
          "name": "stdout",
          "text": [
            "Epoch 0, lr: 0.010000, loss: 0.014178, loss_classifier: 0.004476, loss_box: 0.008332, loss_rpn_box: 0.001081, loss_object: 0.000289\n"
          ]
        },
        {
          "output_type": "stream",
          "name": "stderr",
          "text": [
            "100%|██████████| 161/161 [02:11<00:00,  1.22it/s]\n"
          ]
        },
        {
          "output_type": "stream",
          "name": "stdout",
          "text": [
            "Epoch 1, lr: 0.010000, loss: 0.014701, loss_classifier: 0.004948, loss_box: 0.008401, loss_rpn_box: 0.001073, loss_object: 0.000278\n"
          ]
        },
        {
          "output_type": "stream",
          "name": "stderr",
          "text": [
            "100%|██████████| 161/161 [02:11<00:00,  1.23it/s]\n"
          ]
        },
        {
          "output_type": "stream",
          "name": "stdout",
          "text": [
            "Epoch 2, lr: 0.010000, loss: 0.018131, loss_classifier: 0.005921, loss_box: 0.010482, loss_rpn_box: 0.001355, loss_object: 0.000373\n"
          ]
        },
        {
          "output_type": "stream",
          "name": "stderr",
          "text": [
            "100%|██████████| 161/161 [02:11<00:00,  1.23it/s]\n"
          ]
        },
        {
          "output_type": "stream",
          "name": "stdout",
          "text": [
            "Epoch 3, lr: 0.010000, loss: 0.014553, loss_classifier: 0.004950, loss_box: 0.008325, loss_rpn_box: 0.001074, loss_object: 0.000205\n"
          ]
        },
        {
          "output_type": "stream",
          "name": "stderr",
          "text": [
            "100%|██████████| 161/161 [02:11<00:00,  1.22it/s]\n"
          ]
        },
        {
          "output_type": "stream",
          "name": "stdout",
          "text": [
            "Epoch 4, lr: 0.010000, loss: 0.013994, loss_classifier: 0.004373, loss_box: 0.008312, loss_rpn_box: 0.001067, loss_object: 0.000242\n"
          ]
        },
        {
          "output_type": "stream",
          "name": "stderr",
          "text": [
            "100%|██████████| 161/161 [02:11<00:00,  1.23it/s]\n"
          ]
        },
        {
          "output_type": "stream",
          "name": "stdout",
          "text": [
            "Epoch 5, lr: 0.010000, loss: 0.013288, loss_classifier: 0.004111, loss_box: 0.007986, loss_rpn_box: 0.000987, loss_object: 0.000205\n"
          ]
        },
        {
          "output_type": "stream",
          "name": "stderr",
          "text": [
            "100%|██████████| 161/161 [02:11<00:00,  1.23it/s]\n"
          ]
        },
        {
          "output_type": "stream",
          "name": "stdout",
          "text": [
            "Epoch 6, lr: 0.010000, loss: 0.012773, loss_classifier: 0.003930, loss_box: 0.007693, loss_rpn_box: 0.000936, loss_object: 0.000213\n"
          ]
        },
        {
          "output_type": "stream",
          "name": "stderr",
          "text": [
            "100%|██████████| 161/161 [02:11<00:00,  1.23it/s]\n"
          ]
        },
        {
          "output_type": "stream",
          "name": "stdout",
          "text": [
            "Epoch 7, lr: 0.010000, loss: 0.012568, loss_classifier: 0.003971, loss_box: 0.007463, loss_rpn_box: 0.000911, loss_object: 0.000223\n"
          ]
        },
        {
          "output_type": "stream",
          "name": "stderr",
          "text": [
            "100%|██████████| 161/161 [02:11<00:00,  1.23it/s]\n"
          ]
        },
        {
          "output_type": "stream",
          "name": "stdout",
          "text": [
            "Epoch 8, lr: 0.010000, loss: 0.012199, loss_classifier: 0.004100, loss_box: 0.006995, loss_rpn_box: 0.000898, loss_object: 0.000207\n"
          ]
        },
        {
          "output_type": "stream",
          "name": "stderr",
          "text": [
            "100%|██████████| 161/161 [02:11<00:00,  1.23it/s]"
          ]
        },
        {
          "output_type": "stream",
          "name": "stdout",
          "text": [
            "Epoch 9, lr: 0.010000, loss: 0.013317, loss_classifier: 0.004618, loss_box: 0.007520, loss_rpn_box: 0.000944, loss_object: 0.000234\n"
          ]
        },
        {
          "output_type": "stream",
          "name": "stderr",
          "text": [
            "\n"
          ]
        }
      ],
      "source": [
        "from sklearn.model_selection import KFold\n",
        "\n",
        "dataset = train_dataset\n",
        "k_folds = 5\n",
        "\n",
        "kfold = KFold(n_splits=k_folds, shuffle=True)\n",
        "avg_train_loss = []\n",
        "avg_val_loss = []\n",
        "# output = model(images, targets)\n",
        "for fold, (train_ids, test_ids) in enumerate(kfold.split(dataset)):\n",
        "  print(f'FOLD {fold}')\n",
        "  print('--------------------------------')\n",
        "  train_subsampler = torch.utils.data.SubsetRandomSampler(train_ids)\n",
        "  \n",
        "  train_loader = DataLoader(train_dataset, batch_size=4, shuffle=True, num_workers=4, collate_fn=collate_fn)\n",
        "\n",
        "  images,targets = next(iter(train_loader))\n",
        "\n",
        "  images = list(image for image in images)\n",
        "  targets = [{k:v for k, v in t.items()} for t in targets]\n",
        "  device = torch.device(\"cuda\")\n",
        "  model = model.to(device)\n",
        "  # output = model(images, targets)\n",
        "\n",
        "  \n",
        "  \n",
        "  optimizer = torch.optim.AdamW(params=model.parameters(),\n",
        "                                  lr=LEARNING_RATE,\n",
        "                                  weight_decay=WEIGHT_DECAY)\n",
        "\n",
        "  \n",
        "  # params = [p for p in model.parameters() if p.requires_grad]\n",
        "  # optimizer = torch.optim.SGD(params, lr=0.01, momentum=0.9, nesterov=True, weight_decay=1e-4)\n",
        "\n",
        "  num_epochs=10\n",
        "\n",
        "  for epoch in range(num_epochs):\n",
        "    x = train_one_epoch(model, optimizer, train_loader, device, epoch)\n",
        "    avg_train_loss.append(x)\n",
        "#     lr_scheduler.step()\n"
      ]
    },
    {
      "cell_type": "code",
      "source": [
        "grap = []\n",
        "kfol1 = sum(avg_train_loss[0:9])/10\n",
        "grap.append(kfol1)\n",
        "\n",
        "kfol2 = sum(avg_train_loss[10:19])/10\n",
        "grap.append(kfol2)\n",
        "kfol3 = sum(avg_train_loss[20:29])/10\n",
        "grap.append(kfol3)\n",
        "kfol4 = sum(avg_train_loss[30:39])/10\n",
        "grap.append(kfol4)\n",
        "kfol5 = sum(avg_train_loss[40:49])/10\n",
        "grap.append(kfol5)\n",
        "\n",
        "print(grap)"
      ],
      "metadata": {
        "colab": {
          "base_uri": "https://localhost:8080/"
        },
        "id": "fKBFFLX_wxxU",
        "outputId": "c99b5dda-689c-43b7-ea53-277021c291e1"
      },
      "execution_count": null,
      "outputs": [
        {
          "output_type": "stream",
          "name": "stdout",
          "text": [
            "[0.06282518364095724, 0.02848218792835424, 0.019429748120966445, 0.015259216276217274, 0.012638478493173348]\n"
          ]
        }
      ]
    },
    {
      "cell_type": "code",
      "source": [
        "index = np.arange(5)\n",
        "x_label = [0,1,2,3,4]\n",
        "bar_width = 0.35\n",
        "\n",
        "fig, ax = plt.subplots()\n",
        "train = ax.bar(index, grap, bar_width,\n",
        "                label=\"Train Loss\")\n",
        "\n",
        "# valid = ax.bar(index+bar_width, avg_val_loss,\n",
        "#                  bar_width, label=\"Validation Loss\")\n",
        "\n",
        "ax.set_xlabel('Fold')\n",
        "ax.set_ylabel('Loss')\n",
        "ax.set_title('Training & Validation Loss')\n",
        "ax.set_xticks(index + bar_width / 2)\n",
        "ax.set_xticklabels(x_label)\n",
        "\n",
        "# ax.set_xticklabels([\"ASB\", \"Violence\", \"Theft\", \"Public Order\", \"Drugs\"])\n",
        "ax.legend()\n",
        "\n",
        "plt.show()"
      ],
      "metadata": {
        "id": "mNn6zlary4Hl",
        "outputId": "35464550-f48e-4492-ebde-66ee3495e5d9",
        "colab": {
          "base_uri": "https://localhost:8080/"
        }
      },
      "execution_count": null,
      "outputs": [
        {
          "output_type": "display_data",
          "data": {
            "text/plain": [
              "<Figure size 432x288 with 1 Axes>"
            ],
            "image/png": "[encoded data removed]"
          },
          "metadata": {
            "needs_background": "light"
          }
        }
      ]
    },
    {
      "cell_type": "markdown",
      "metadata": {
        "id": "M2vlvrWKPmMX"
      },
      "source": []
    },
    {
      "cell_type": "code",
      "execution_count": null,
      "metadata": {
        "id": "wtnPFb3J9eNn"
      },
      "outputs": [],
      "source": [
        "model.eval()\n",
        "torch.cuda.empty_cache()"
      ]
    },
    {
      "cell_type": "code",
      "execution_count": null,
      "metadata": {
        "colab": {
          "base_uri": "https://localhost:8080/"
        },
        "id": "yvCst0zZ9gkK",
        "outputId": "9306d127-990a-4d5a-900a-2cac6f7ffa90"
      },
      "outputs": [
        {
          "output_type": "stream",
          "name": "stdout",
          "text": [
            "loading annotations into memory...\n",
            "Done (t=1.16s)\n",
            "creating index...\n",
            "index created!\n"
          ]
        }
      ],
      "source": [
        "test_dataset = PestDetection(root=dataset_path, split=\"test\", transforms=get_transforms(False))"
      ]
    },
    {
      "cell_type": "code",
      "execution_count": null,
      "metadata": {
        "colab": {
          "base_uri": "https://localhost:8080/"
        },
        "id": "RPoB9iBqPgko",
        "outputId": "526b3368-1cb0-492d-c96f-d0f27a453a7d"
      },
      "outputs": [
        {
          "output_type": "execute_result",
          "data": {
            "text/plain": [
              "Dataset PestDetection\n",
              "    Number of datapoints: 170\n",
              "    Root location: /content/drive/MyDrive/Dataset/\n",
              "    Compose([\n",
              "  Resize(always_apply=False, p=1, height=600, width=600, interpolation=1),\n",
              "  ToTensorV2(always_apply=True, p=1.0, transpose_mask=False),\n",
              "], p=1.0, bbox_params={'format': 'coco', 'label_fields': None, 'min_area': 0.0, 'min_visibility': 0.0, 'check_each_transform': True}, keypoint_params=None, additional_targets={})"
            ]
          },
          "metadata": {},
          "execution_count": 29
        }
      ],
      "source": [
        "test_dataset"
      ]
    },
    {
      "cell_type": "code",
      "execution_count": null,
      "metadata": {
        "colab": {
          "base_uri": "https://localhost:8080/"
        },
        "id": "sIj2toz7_zS3",
        "outputId": "eb750fa4-6abf-4234-a003-f43745f58e72"
      },
      "outputs": [
        {
          "output_type": "execute_result",
          "data": {
            "text/plain": [
              "170"
            ]
          },
          "metadata": {},
          "execution_count": 30
        }
      ],
      "source": [
        "len(test_dataset)"
      ]
    },
    {
      "cell_type": "code",
      "execution_count": 3,
      "metadata": {
        "id": "WO6PSqEVYz6N",
        "colab": {
          "base_uri": "https://localhost:8080/",
          "height": 424
        },
        "outputId": "14872d30-459c-4842-87ce-d26aceca679c"
      },
      "outputs": [
        {
          "output_type": "execute_result",
          "data": {
            "text/plain": [
              "                                              filename   Belalang   Sehat  \\\n",
              "0    Wereng-33-_jpg.rf.0023f384c26e7d66c8bb905c8fa2...          0       0   \n",
              "1    Wereng-72-_jpg.rf.0315ec5d8678d3be183582ce1d0d...          0       0   \n",
              "2    Wereng-25-_jpg.rf.081b03ea5f5b1276fa21e4512f04...          0       0   \n",
              "3    Ulat-69-_jpg.rf.088d9fd97dc296be8218328df3a723...          0       0   \n",
              "4    Ulat-62-_jpg.rf.08b9f9275628ae55e0353af40f1230...          1       0   \n",
              "..                                                 ...        ...     ...   \n",
              "165  Ulat-91-_jpg.rf.fd8ce17c9ae10811eddf2db9308ede...          0       0   \n",
              "166  Ulat-78-_jpg.rf.fddb4585975965e29ed434ad977019...          0       0   \n",
              "167  Wereng-52-_jpg.rf.ffdd05dabb56269f1bd6a8371001...          0       0   \n",
              "168  Wereng-78-_jpg.rf.fd0f2c13bc628d2e2d3492be8dbc...          0       0   \n",
              "169  Ulat-16-_jpg.rf.ff2ab7d76a20b5cc7358e7e7692649...          0       0   \n",
              "\n",
              "      Ulat   Wereng  \n",
              "0        0        1  \n",
              "1        0        1  \n",
              "2        0        1  \n",
              "3        1        0  \n",
              "4        0        0  \n",
              "..     ...      ...  \n",
              "165      1        0  \n",
              "166      1        0  \n",
              "167      0        1  \n",
              "168      0        1  \n",
              "169      1        0  \n",
              "\n",
              "[170 rows x 5 columns]"
            ],
            "text/html": [
              "\n",
              "  <div id=\"df-d2be4329-9cc8-43b1-be1d-5d0d0d1370ad\">\n",
              "    <div class=\"colab-df-container\">\n",
              "      <div>\n",
              "<style scoped>\n",
              "    .dataframe tbody tr th:only-of-type {\n",
              "        vertical-align: middle;\n",
              "    }\n",
              "\n",
              "    .dataframe tbody tr th {\n",
              "        vertical-align: top;\n",
              "    }\n",
              "\n",
              "    .dataframe thead th {\n",
              "        text-align: right;\n",
              "    }\n",
              "</style>\n",
              "<table border=\"1\" class=\"dataframe\">\n",
              "  <thead>\n",
              "    <tr style=\"text-align: right;\">\n",
              "      <th></th>\n",
              "      <th>filename</th>\n",
              "      <th>Belalang</th>\n",
              "      <th>Sehat</th>\n",
              "      <th>Ulat</th>\n",
              "      <th>Wereng</th>\n",
              "    </tr>\n",
              "  </thead>\n",
              "  <tbody>\n",
              "    <tr>\n",
              "      <th>0</th>\n",
              "      <td>Wereng-33-_jpg.rf.0023f384c26e7d66c8bb905c8fa2...</td>\n",
              "      <td>0</td>\n",
              "      <td>0</td>\n",
              "      <td>0</td>\n",
              "      <td>1</td>\n",
              "    </tr>\n",
              "    <tr>\n",
              "      <th>1</th>\n",
              "      <td>Wereng-72-_jpg.rf.0315ec5d8678d3be183582ce1d0d...</td>\n",
              "      <td>0</td>\n",
              "      <td>0</td>\n",
              "      <td>0</td>\n",
              "      <td>1</td>\n",
              "    </tr>\n",
              "    <tr>\n",
              "      <th>2</th>\n",
              "      <td>Wereng-25-_jpg.rf.081b03ea5f5b1276fa21e4512f04...</td>\n",
              "      <td>0</td>\n",
              "      <td>0</td>\n",
              "      <td>0</td>\n",
              "      <td>1</td>\n",
              "    </tr>\n",
              "    <tr>\n",
              "      <th>3</th>\n",
              "      <td>Ulat-69-_jpg.rf.088d9fd97dc296be8218328df3a723...</td>\n",
              "      <td>0</td>\n",
              "      <td>0</td>\n",
              "      <td>1</td>\n",
              "      <td>0</td>\n",
              "    </tr>\n",
              "    <tr>\n",
              "      <th>4</th>\n",
              "      <td>Ulat-62-_jpg.rf.08b9f9275628ae55e0353af40f1230...</td>\n",
              "      <td>1</td>\n",
              "      <td>0</td>\n",
              "      <td>0</td>\n",
              "      <td>0</td>\n",
              "    </tr>\n",
              "    <tr>\n",
              "      <th>...</th>\n",
              "      <td>...</td>\n",
              "      <td>...</td>\n",
              "      <td>...</td>\n",
              "      <td>...</td>\n",
              "      <td>...</td>\n",
              "    </tr>\n",
              "    <tr>\n",
              "      <th>165</th>\n",
              "      <td>Ulat-91-_jpg.rf.fd8ce17c9ae10811eddf2db9308ede...</td>\n",
              "      <td>0</td>\n",
              "      <td>0</td>\n",
              "      <td>1</td>\n",
              "      <td>0</td>\n",
              "    </tr>\n",
              "    <tr>\n",
              "      <th>166</th>\n",
              "      <td>Ulat-78-_jpg.rf.fddb4585975965e29ed434ad977019...</td>\n",
              "      <td>0</td>\n",
              "      <td>0</td>\n",
              "      <td>1</td>\n",
              "      <td>0</td>\n",
              "    </tr>\n",
              "    <tr>\n",
              "      <th>167</th>\n",
              "      <td>Wereng-52-_jpg.rf.ffdd05dabb56269f1bd6a8371001...</td>\n",
              "      <td>0</td>\n",
              "      <td>0</td>\n",
              "      <td>0</td>\n",
              "      <td>1</td>\n",
              "    </tr>\n",
              "    <tr>\n",
              "      <th>168</th>\n",
              "      <td>Wereng-78-_jpg.rf.fd0f2c13bc628d2e2d3492be8dbc...</td>\n",
              "      <td>0</td>\n",
              "      <td>0</td>\n",
              "      <td>0</td>\n",
              "      <td>1</td>\n",
              "    </tr>\n",
              "    <tr>\n",
              "      <th>169</th>\n",
              "      <td>Ulat-16-_jpg.rf.ff2ab7d76a20b5cc7358e7e7692649...</td>\n",
              "      <td>0</td>\n",
              "      <td>0</td>\n",
              "      <td>1</td>\n",
              "      <td>0</td>\n",
              "    </tr>\n",
              "  </tbody>\n",
              "</table>\n",
              "<p>170 rows × 5 columns</p>\n",
              "</div>\n",
              "      <button class=\"colab-df-convert\" onclick=\"convertToInteractive('df-d2be4329-9cc8-43b1-be1d-5d0d0d1370ad')\"\n",
              "              title=\"Convert this dataframe to an interactive table.\"\n",
              "              style=\"display:none;\">\n",
              "        \n",
              "  <svg xmlns=\"http://www.w3.org/2000/svg\" height=\"24px\"viewBox=\"0 0 24 24\"\n",
              "       width=\"24px\">\n",
              "    <path d=\"M0 0h24v24H0V0z\" fill=\"none\"/>\n",
              "    <path d=\"M18.56 5.44l.94 2.06.94-2.06 2.06-.94-2.06-.94-.94-2.06-.94 2.06-2.06.94zm-11 1L8.5 8.5l.94-2.06 2.06-.94-2.06-.94L8.5 2.5l-.94 2.06-2.06.94zm10 10l.94 2.06.94-2.06 2.06-.94-2.06-.94-.94-2.06-.94 2.06-2.06.94z\"/><path d=\"M17.41 7.96l-1.37-1.37c-.4-.4-.92-.59-1.43-.59-.52 0-1.04.2-1.43.59L10.3 9.45l-7.72 7.72c-.78.78-.78 2.05 0 2.83L4 21.41c.39.39.9.59 1.41.59.51 0 1.02-.2 1.41-.59l7.78-7.78 2.81-2.81c.8-.78.8-2.07 0-2.86zM5.41 20L4 18.59l7.72-7.72 1.47 1.35L5.41 20z\"/>\n",
              "  </svg>\n",
              "      </button>\n",
              "      \n",
              "  <style>\n",
              "    .colab-df-container {\n",
              "      display:flex;\n",
              "      flex-wrap:wrap;\n",
              "      gap: 12px;\n",
              "    }\n",
              "\n",
              "    .colab-df-convert {\n",
              "      background-color: #E8F0FE;\n",
              "      border: none;\n",
              "      border-radius: 50%;\n",
              "      cursor: pointer;\n",
              "      display: none;\n",
              "      fill: #1967D2;\n",
              "      height: 32px;\n",
              "      padding: 0 0 0 0;\n",
              "      width: 32px;\n",
              "    }\n",
              "\n",
              "    .colab-df-convert:hover {\n",
              "      background-color: #E2EBFA;\n",
              "      box-shadow: 0px 1px 2px rgba(60, 64, 67, 0.3), 0px 1px 3px 1px rgba(60, 64, 67, 0.15);\n",
              "      fill: #174EA6;\n",
              "    }\n",
              "\n",
              "    [theme=dark] .colab-df-convert {\n",
              "      background-color: #3B4455;\n",
              "      fill: #D2E3FC;\n",
              "    }\n",
              "\n",
              "    [theme=dark] .colab-df-convert:hover {\n",
              "      background-color: #434B5C;\n",
              "      box-shadow: 0px 1px 3px 1px rgba(0, 0, 0, 0.15);\n",
              "      filter: drop-shadow(0px 1px 2px rgba(0, 0, 0, 0.3));\n",
              "      fill: #FFFFFF;\n",
              "    }\n",
              "  </style>\n",
              "\n",
              "      <script>\n",
              "        const buttonEl =\n",
              "          document.querySelector('#df-d2be4329-9cc8-43b1-be1d-5d0d0d1370ad button.colab-df-convert');\n",
              "        buttonEl.style.display =\n",
              "          google.colab.kernel.accessAllowed ? 'block' : 'none';\n",
              "\n",
              "        async function convertToInteractive(key) {\n",
              "          const element = document.querySelector('#df-d2be4329-9cc8-43b1-be1d-5d0d0d1370ad');\n",
              "          const dataTable =\n",
              "            await google.colab.kernel.invokeFunction('convertToInteractive',\n",
              "                                                     [key], {});\n",
              "          if (!dataTable) return;\n",
              "\n",
              "          const docLinkHtml = 'Like what you see? Visit the ' +\n",
              "            '<a target=\"_blank\" href=https://colab.research.google.com/notebooks/data_table.ipynb>data table notebook</a>'\n",
              "            + ' to learn more about interactive tables.';\n",
              "          element.innerHTML = '';\n",
              "          dataTable['output_type'] = 'display_data';\n",
              "          await google.colab.output.renderOutput(dataTable, element);\n",
              "          const docLink = document.createElement('div');\n",
              "          docLink.innerHTML = docLinkHtml;\n",
              "          element.appendChild(docLink);\n",
              "        }\n",
              "      </script>\n",
              "    </div>\n",
              "  </div>\n",
              "  "
            ]
          },
          "metadata": {},
          "execution_count": 3
        }
      ],
      "source": [
        "labels = pd.read_csv('/content/drive/MyDrive/Dataset/test/_classes.csv', sep=',')\n",
        "\n",
        "labels"
      ]
    },
    {
      "cell_type": "code",
      "source": [
        "def get_label(row):\n",
        "  for c in labels.columns:\n",
        "    if row[c]==1:\n",
        "      return c"
      ],
      "metadata": {
        "id": "JfzJvHsI6PQi"
      },
      "execution_count": 4,
      "outputs": []
    },
    {
      "cell_type": "code",
      "source": [
        "test_labels = labels.apply(get_label, axis=1)\n",
        "\n",
        "test_labels\n"
      ],
      "metadata": {
        "colab": {
          "base_uri": "https://localhost:8080/"
        },
        "id": "ydfeYPk46UpT",
        "outputId": "2beb7419-95ee-4473-d20b-62ff24c74553"
      },
      "execution_count": 5,
      "outputs": [
        {
          "output_type": "execute_result",
          "data": {
            "text/plain": [
              "0         Wereng\n",
              "1         Wereng\n",
              "2         Wereng\n",
              "3           Ulat\n",
              "4       Belalang\n",
              "         ...    \n",
              "165         Ulat\n",
              "166         Ulat\n",
              "167       Wereng\n",
              "168       Wereng\n",
              "169         Ulat\n",
              "Length: 170, dtype: object"
            ]
          },
          "metadata": {},
          "execution_count": 5
        }
      ]
    },
    {
      "cell_type": "code",
      "source": [
        "test_dataset = PestDetection(root=dataset_path, split=\"test\", transforms=get_transforms(False))\n",
        "img, _ = test_dataset[5]\n",
        "img\n",
        "dataset_path"
      ],
      "metadata": {
        "colab": {
          "base_uri": "https://localhost:8080/",
          "height": 105
        },
        "id": "5Ps2aM1YAMhx",
        "outputId": "5dd011b3-b0e1-4634-cfaf-fb3d69611ff2"
      },
      "execution_count": null,
      "outputs": [
        {
          "output_type": "stream",
          "name": "stdout",
          "text": [
            "loading annotations into memory...\n",
            "Done (t=0.00s)\n",
            "creating index...\n",
            "index created!\n"
          ]
        },
        {
          "output_type": "execute_result",
          "data": {
            "text/plain": [
              "'/content/drive/MyDrive/Dataset/'"
            ],
            "application/vnd.google.colaboratory.intrinsic+json": {
              "type": "string"
            }
          },
          "metadata": {},
          "execution_count": 34
        }
      ]
    },
    {
      "cell_type": "code",
      "source": [
        "# import os\n",
        "# from os import listdir\n",
        "\n",
        "# hasil_pred = []\n",
        "# test_dataset = PestDetection(root=dataset_path, split=\"test\", transforms=get_transforms(False))\n",
        "# # get the path/directory\n",
        "# folder_dir = \"/content/drive/MyDrive/TA/dataset/test/\"\n",
        "# for images in os.listdir(folder_dir):\n",
        "#     # check if the image ends with png\n",
        "#     if (images.endswith(\".jpg\")):\n",
        "#       img, _ = test_dataset[i]\n",
        "\n",
        "      \n",
        "\n",
        "\n",
        "#       images = []   \n",
        "#       # while(cap.isOpened()):\n",
        "#           ret, frame = cap.read()\n",
        "#           if ret == True:\n",
        "#               result_frame, predict = predict_single_frame(frame)\n",
        "#               images.append(result_frame)\n",
        "#               hasil_pred.append (predict)\n",
        "#           else: \n",
        "#               break\n",
        "\n",
        "#       cap.release()"
      ],
      "metadata": {
        "id": "-v6Fl_Gh_N3O"
      },
      "execution_count": null,
      "outputs": []
    },
    {
      "cell_type": "code",
      "source": [
        "print(\"Score\")\n",
        "tp = []\n",
        "fp = []\n",
        "fn = []\n",
        "predict = []\n",
        "folder_dir = \"/content/drive/MyDrive/Ta/Faster_RCNN/Dataset/test/\"\n",
        "for i in range(2):\n",
        "  img, _ = test_dataset[i]\n",
        "  img_int = torch.tensor(img*255, dtype=torch.uint8)\n",
        "  with torch.no_grad():\n",
        "      prediction = model([img.to(device)])\n",
        "      pred = prediction[0]\n",
        "\n",
        "\n",
        "  x = len(pred['labels'][pred['scores'] > 0.8])\n",
        "  y = len(pred['labels'].tolist())\n",
        "  # print(pred['labels'].tolist())\n",
        "\n",
        "  predict.append(pred['labels'].tolist())\n",
        "  # if (x==1):\n",
        "  #   tp.append(1)\n",
        "  # elif (x > 1 ):\n",
        "  #   fp.append(1)\n",
        "  # elif (y > 1):\n",
        "  #   fn.append(1)\n",
        "\n",
        "  # print( [classes[i] for i in pred['labels'][pred['scores'] > 0.8].tolist()], \": \",pred['scores'].tolist() )\n",
        "  # fig = plt.figure(figsize=(14, 10))\n",
        "  # plt.imshow(draw_bounding_boxes(img_int,\n",
        "  #   pred['boxes'][pred['scores'] > 0.8], \n",
        "  #   [classes[i] for i in pred['labels'][pred['scores'] > 0.8].tolist()], width=4\n",
        "  # ).permute(1, 2, 0))\n",
        "  \n",
        "\n",
        "  \n",
        "# x = pred['labels'][pred['scores'] > 0.8]\n",
        "# y = pred['labels']\n",
        "# len(y)   "
      ],
      "metadata": {
        "id": "Y9nyvQz06kXh"
      },
      "execution_count": null,
      "outputs": []
    },
    {
      "cell_type": "code",
      "source": [
        "predict\n",
        "predicted = []\n",
        "\n",
        "for i in predict:\n",
        "  if (i[0] == 1):\n",
        "    predicted.append(' Belalang')\n",
        "  elif (i[0] == 2):\n",
        "    predicted.append(' Padi')\n",
        "  elif (i[0] == 3):\n",
        "    predicted.append(' Ulat')\n",
        "  elif (i[0] == 4):\n",
        "    predicted.append(' Wereng')\n",
        "\n",
        "\n",
        "predicted"
      ],
      "metadata": {
        "id": "Xw7mGFk2zC99"
      },
      "execution_count": null,
      "outputs": []
    },
    {
      "cell_type": "code",
      "source": [
        "df_hasil_pred = pd.DataFrame(predicted)\n",
        "df_hasil_pred [1] = pd.DataFrame(test_labels)\n",
        "\n",
        "df_hasil_pred"
      ],
      "metadata": {
        "colab": {
          "base_uri": "https://localhost:8080/",
          "height": 424
        },
        "id": "VNO5P3-jzLK4",
        "outputId": "6fdc6c94-81e7-453d-900f-7f968392d9cc"
      },
      "execution_count": 9,
      "outputs": [
        {
          "output_type": "execute_result",
          "data": {
            "text/plain": [
              "             0          1\n",
              "0       Wereng     Wereng\n",
              "1       Wereng     Wereng\n",
              "2       Wereng     Wereng\n",
              "3         Ulat       Ulat\n",
              "4     Belalang   Belalang\n",
              "..         ...        ...\n",
              "165       Ulat       Ulat\n",
              "166       Ulat       Ulat\n",
              "167     Wereng     Wereng\n",
              "168     Wereng     Wereng\n",
              "169       Ulat       Ulat\n",
              "\n",
              "[170 rows x 2 columns]"
            ],
            "text/html": [
              "\n",
              "  <div id=\"df-d91b5a2b-9fb3-4af4-bc5b-b77f2b70d14a\">\n",
              "    <div class=\"colab-df-container\">\n",
              "      <div>\n",
              "<style scoped>\n",
              "    .dataframe tbody tr th:only-of-type {\n",
              "        vertical-align: middle;\n",
              "    }\n",
              "\n",
              "    .dataframe tbody tr th {\n",
              "        vertical-align: top;\n",
              "    }\n",
              "\n",
              "    .dataframe thead th {\n",
              "        text-align: right;\n",
              "    }\n",
              "</style>\n",
              "<table border=\"1\" class=\"dataframe\">\n",
              "  <thead>\n",
              "    <tr style=\"text-align: right;\">\n",
              "      <th></th>\n",
              "      <th>0</th>\n",
              "      <th>1</th>\n",
              "    </tr>\n",
              "  </thead>\n",
              "  <tbody>\n",
              "    <tr>\n",
              "      <th>0</th>\n",
              "      <td>Wereng</td>\n",
              "      <td>Wereng</td>\n",
              "    </tr>\n",
              "    <tr>\n",
              "      <th>1</th>\n",
              "      <td>Wereng</td>\n",
              "      <td>Wereng</td>\n",
              "    </tr>\n",
              "    <tr>\n",
              "      <th>2</th>\n",
              "      <td>Wereng</td>\n",
              "      <td>Wereng</td>\n",
              "    </tr>\n",
              "    <tr>\n",
              "      <th>3</th>\n",
              "      <td>Ulat</td>\n",
              "      <td>Ulat</td>\n",
              "    </tr>\n",
              "    <tr>\n",
              "      <th>4</th>\n",
              "      <td>Belalang</td>\n",
              "      <td>Belalang</td>\n",
              "    </tr>\n",
              "    <tr>\n",
              "      <th>...</th>\n",
              "      <td>...</td>\n",
              "      <td>...</td>\n",
              "    </tr>\n",
              "    <tr>\n",
              "      <th>165</th>\n",
              "      <td>Ulat</td>\n",
              "      <td>Ulat</td>\n",
              "    </tr>\n",
              "    <tr>\n",
              "      <th>166</th>\n",
              "      <td>Ulat</td>\n",
              "      <td>Ulat</td>\n",
              "    </tr>\n",
              "    <tr>\n",
              "      <th>167</th>\n",
              "      <td>Wereng</td>\n",
              "      <td>Wereng</td>\n",
              "    </tr>\n",
              "    <tr>\n",
              "      <th>168</th>\n",
              "      <td>Wereng</td>\n",
              "      <td>Wereng</td>\n",
              "    </tr>\n",
              "    <tr>\n",
              "      <th>169</th>\n",
              "      <td>Ulat</td>\n",
              "      <td>Ulat</td>\n",
              "    </tr>\n",
              "  </tbody>\n",
              "</table>\n",
              "<p>170 rows × 2 columns</p>\n",
              "</div>\n",
              "      <button class=\"colab-df-convert\" onclick=\"convertToInteractive('df-d91b5a2b-9fb3-4af4-bc5b-b77f2b70d14a')\"\n",
              "              title=\"Convert this dataframe to an interactive table.\"\n",
              "              style=\"display:none;\">\n",
              "        \n",
              "  <svg xmlns=\"http://www.w3.org/2000/svg\" height=\"24px\"viewBox=\"0 0 24 24\"\n",
              "       width=\"24px\">\n",
              "    <path d=\"M0 0h24v24H0V0z\" fill=\"none\"/>\n",
              "    <path d=\"M18.56 5.44l.94 2.06.94-2.06 2.06-.94-2.06-.94-.94-2.06-.94 2.06-2.06.94zm-11 1L8.5 8.5l.94-2.06 2.06-.94-2.06-.94L8.5 2.5l-.94 2.06-2.06.94zm10 10l.94 2.06.94-2.06 2.06-.94-2.06-.94-.94-2.06-.94 2.06-2.06.94z\"/><path d=\"M17.41 7.96l-1.37-1.37c-.4-.4-.92-.59-1.43-.59-.52 0-1.04.2-1.43.59L10.3 9.45l-7.72 7.72c-.78.78-.78 2.05 0 2.83L4 21.41c.39.39.9.59 1.41.59.51 0 1.02-.2 1.41-.59l7.78-7.78 2.81-2.81c.8-.78.8-2.07 0-2.86zM5.41 20L4 18.59l7.72-7.72 1.47 1.35L5.41 20z\"/>\n",
              "  </svg>\n",
              "      </button>\n",
              "      \n",
              "  <style>\n",
              "    .colab-df-container {\n",
              "      display:flex;\n",
              "      flex-wrap:wrap;\n",
              "      gap: 12px;\n",
              "    }\n",
              "\n",
              "    .colab-df-convert {\n",
              "      background-color: #E8F0FE;\n",
              "      border: none;\n",
              "      border-radius: 50%;\n",
              "      cursor: pointer;\n",
              "      display: none;\n",
              "      fill: #1967D2;\n",
              "      height: 32px;\n",
              "      padding: 0 0 0 0;\n",
              "      width: 32px;\n",
              "    }\n",
              "\n",
              "    .colab-df-convert:hover {\n",
              "      background-color: #E2EBFA;\n",
              "      box-shadow: 0px 1px 2px rgba(60, 64, 67, 0.3), 0px 1px 3px 1px rgba(60, 64, 67, 0.15);\n",
              "      fill: #174EA6;\n",
              "    }\n",
              "\n",
              "    [theme=dark] .colab-df-convert {\n",
              "      background-color: #3B4455;\n",
              "      fill: #D2E3FC;\n",
              "    }\n",
              "\n",
              "    [theme=dark] .colab-df-convert:hover {\n",
              "      background-color: #434B5C;\n",
              "      box-shadow: 0px 1px 3px 1px rgba(0, 0, 0, 0.15);\n",
              "      filter: drop-shadow(0px 1px 2px rgba(0, 0, 0, 0.3));\n",
              "      fill: #FFFFFF;\n",
              "    }\n",
              "  </style>\n",
              "\n",
              "      <script>\n",
              "        const buttonEl =\n",
              "          document.querySelector('#df-d91b5a2b-9fb3-4af4-bc5b-b77f2b70d14a button.colab-df-convert');\n",
              "        buttonEl.style.display =\n",
              "          google.colab.kernel.accessAllowed ? 'block' : 'none';\n",
              "\n",
              "        async function convertToInteractive(key) {\n",
              "          const element = document.querySelector('#df-d91b5a2b-9fb3-4af4-bc5b-b77f2b70d14a');\n",
              "          const dataTable =\n",
              "            await google.colab.kernel.invokeFunction('convertToInteractive',\n",
              "                                                     [key], {});\n",
              "          if (!dataTable) return;\n",
              "\n",
              "          const docLinkHtml = 'Like what you see? Visit the ' +\n",
              "            '<a target=\"_blank\" href=https://colab.research.google.com/notebooks/data_table.ipynb>data table notebook</a>'\n",
              "            + ' to learn more about interactive tables.';\n",
              "          element.innerHTML = '';\n",
              "          dataTable['output_type'] = 'display_data';\n",
              "          await google.colab.output.renderOutput(dataTable, element);\n",
              "          const docLink = document.createElement('div');\n",
              "          docLink.innerHTML = docLinkHtml;\n",
              "          element.appendChild(docLink);\n",
              "        }\n",
              "      </script>\n",
              "    </div>\n",
              "  </div>\n",
              "  "
            ]
          },
          "metadata": {},
          "execution_count": 9
        }
      ]
    },
    {
      "cell_type": "code",
      "source": [
        "import matplotlib.pyplot as plt\n",
        "import numpy\n",
        "from sklearn import metrics\n",
        "\n",
        "actual = df_hasil_pred[0]\n",
        "predicted = df_hasil_pred[1]\n",
        "\n",
        "confusion_matrix = metrics.confusion_matrix(actual, predicted)\n",
        "\n",
        "cm_display = metrics.ConfusionMatrixDisplay(confusion_matrix = confusion_matrix, display_labels = ['Belalang', 'Sehat', 'Ulat', 'Wereng'])\n",
        "\n",
        "cm_display.plot()\n",
        "plt.show()"
      ],
      "metadata": {
        "colab": {
          "base_uri": "https://localhost:8080/",
          "height": 279
        },
        "id": "n0QFRZvnzM2v",
        "outputId": "fbae4cd9-66f7-4185-d3f6-a0d706791220"
      },
      "execution_count": 10,
      "outputs": [
        {
          "output_type": "display_data",
          "data": {
            "text/plain": [
              "<Figure size 432x288 with 2 Axes>"
            ],
            "image/png": "[encoded data removed]"
          },
          "metadata": {
            "needs_background": "light"
          }
        }
      ]
    },
    {
      "cell_type": "code",
      "source": [
        "from sklearn.metrics import classification_report\n",
        "print(classification_report(actual, predicted, target_names=['Belalang', 'Sehat', 'Ulat', 'Wereng']))"
      ],
      "metadata": {
        "colab": {
          "base_uri": "https://localhost:8080/"
        },
        "id": "SuxTcFLDzOjW",
        "outputId": "486f322b-0137-4dde-9da8-39119b96fdeb"
      },
      "execution_count": 11,
      "outputs": [
        {
          "output_type": "stream",
          "name": "stdout",
          "text": [
            "              precision    recall  f1-score   support\n",
            "\n",
            "    Belalang       0.83      0.79      0.81        19\n",
            "       Sehat       0.91      0.67      0.77        15\n",
            "        Ulat       0.90      0.95      0.93        59\n",
            "      Wereng       0.91      0.94      0.92        77\n",
            "\n",
            "    accuracy                           0.90       170\n",
            "   macro avg       0.89      0.84      0.86       170\n",
            "weighted avg       0.90      0.90      0.90       170\n",
            "\n"
          ]
        }
      ]
    },
    {
      "cell_type": "code",
      "source": [
        "!pip install paho-mqtt\n",
        "!pip install simpy"
      ],
      "metadata": {
        "id": "KMbijJjQD-lc"
      },
      "execution_count": null,
      "outputs": []
    },
    {
      "cell_type": "code",
      "source": [
        "import random\n",
        "import time\n",
        "\n",
        "from paho.mqtt import client as mqtt_client\n",
        "\n",
        "broker = 'broker.emqx.io'\n",
        "port = 1883\n",
        "topic1 = \"detect/hama\"\n",
        "# topic0 = \"detect/healthy\"\n",
        "# generate client ID with pub prefix randomly\n",
        "client_id = f'python-mqtt-{random.randint(0, 1000)}'\n",
        "username = 'emqx'\n",
        "password = 'public'\n",
        "\n",
        "def connect_mqtt():\n",
        "    def on_connect(client, userdata, flags, rc):\n",
        "        if rc == 0:\n",
        "            print(\"Connected to MQTT Broker!\")\n",
        "        else:\n",
        "            print(\"Failed to connect, return code %d\\n\", rc)\n",
        "\n",
        "    client = mqtt_client.Client(client_id)\n",
        "    client.username_pw_set(username, password)\n",
        "    client.on_connect = on_connect\n",
        "    client.connect(broker, port)\n",
        "    return client\n",
        "\n",
        "\n",
        "def publish(client):\n",
        "    \n",
        "    msg_count = 0\n",
        "    msg = ''\n",
        "    while True:\n",
        "        time.sleep(1)\n",
        "        # pred = predict()\n",
        "        # print (pred)\n",
        "        deteksi = []\n",
        "        for i in predicted:\n",
        "            if (i == ' Belalang' or i == ' Wereng' or i == ' Ulat')  :\n",
        "                j = 'Pest'\n",
        "                deteksi.append(j)\n",
        "            else:\n",
        "                j = 'healthy'\n",
        "                deteksi.append(j)\n",
        "        # print (deteksi)\n",
        "    \n",
        "        for x in deteksi:\n",
        "            if (x == 'Pest'):\n",
        "                msg = \"Pest\"\n",
        "                result = client.publish(topic1, msg)\n",
        "                status = result[0]\n",
        "                if status == 0:\n",
        "                    print(f\"Send `{msg}` to topic `{topic1}`\")\n",
        "                else:\n",
        "                    print(f\"Failed to send message to topic {topic1}\")\n",
        "\n",
        "\n",
        "def run():\n",
        "    client = connect_mqtt()\n",
        "    client.loop_start()\n",
        "    publish(client)\n"
      ],
      "metadata": {
        "id": "jNtQ3Pt8D1CV"
      },
      "execution_count": null,
      "outputs": []
    },
    {
      "cell_type": "code",
      "source": [
        "run()"
      ],
      "metadata": {
        "id": "RA6WBTlvEGTA"
      },
      "execution_count": null,
      "outputs": []
    },
    {
      "cell_type": "code",
      "execution_count": null,
      "metadata": {
        "id": "g9B03qhP9jJE"
      },
      "outputs": [],
      "source": [
        "# print(\"Score\")\n",
        "\n",
        "\n",
        "# for i in range(30,100):\n",
        "#   img, _ = test_dataset[i]\n",
        "#   img_int = torch.tensor(img*255, dtype=torch.uint8)\n",
        "#   with torch.no_grad():\n",
        "#       prediction = model([img.to(device)])\n",
        "#       pred = prediction[0]\n",
        "\n",
        "\n",
        "#   x = len(pred['labels'][pred['scores'] > 0.8])\n",
        "#   y = len(pred['labels'])\n",
        "#   \n",
        "\n",
        "#   # print( [classes[i] for i in pred['labels'][pred['scores'] > 0.8].tolist()], \": \",pred['scores'].tolist() )\n",
        "#   fig = plt.figure(figsize=(14, 10))\n",
        "#   plt.imshow(draw_bounding_boxes(img_int,\n",
        "#     pred['boxes'][pred['scores'] > 0.8], \n",
        "#     [classes[i] for i in pred['labels'][pred['scores'] > 0.8].tolist()], width=4\n",
        "#   ).permute(1, 2, 0))\n",
        "  \n",
        "\n",
        "  \n",
        "# # x = pred['labels'][pred['scores'] > 0.8]\n",
        "# # y = pred['labels']\n",
        "# # len(y)   \n",
        "  \n"
      ]
    }
  ],
  "metadata": {
    "colab": {
      "provenance": [],
      "include_colab_link": true
    },
    "gpuClass": "standard",
    "kernelspec": {
      "display_name": "Python 3",
      "name": "python3"
    },
    "language_info": {
      "name": "python"
    },
    "widgets": {
      "application/vnd.jupyter.widget-state+json": {
        "830f2d87a1704e8ba1181b23824580d7": {
          "model_module": "@jupyter-widgets/controls",
          "model_name": "HBoxModel",
          "model_module_version": "1.5.0",
          "state": {
            "_dom_classes": [],
            "_model_module": "@jupyter-widgets/controls",
            "_model_module_version": "1.5.0",
            "_model_name": "HBoxModel",
            "_view_count": null,
            "_view_module": "@jupyter-widgets/controls",
            "_view_module_version": "1.5.0",
            "_view_name": "HBoxView",
            "box_style": "",
            "children": [
              "IPY_MODEL_01b70db927284ba598367e7826121b40",
              "IPY_MODEL_17ebf0057fe448d58f95e747da4edb85",
              "IPY_MODEL_791a45455c284301a6e1da7eb53d7ea8"
            ],
            "layout": "IPY_MODEL_e8328724d31c4ccfad2b299602356cf8"
          }
        },
        "01b70db927284ba598367e7826121b40": {
          "model_module": "@jupyter-widgets/controls",
          "model_name": "HTMLModel",
          "model_module_version": "1.5.0",
          "state": {
            "_dom_classes": [],
            "_model_module": "@jupyter-widgets/controls",
            "_model_module_version": "1.5.0",
            "_model_name": "HTMLModel",
            "_view_count": null,
            "_view_module": "@jupyter-widgets/controls",
            "_view_module_version": "1.5.0",
            "_view_name": "HTMLView",
            "description": "",
            "description_tooltip": null,
            "layout": "IPY_MODEL_09c6a60cd1644bb7b3f2b4fcb3a12f87",
            "placeholder": "​",
            "style": "IPY_MODEL_c5f84e6780dd4e62abbb06f70cf5e251",
            "value": "100%"
          }
        },
        "17ebf0057fe448d58f95e747da4edb85": {
          "model_module": "@jupyter-widgets/controls",
          "model_name": "FloatProgressModel",
          "model_module_version": "1.5.0",
          "state": {
            "_dom_classes": [],
            "_model_module": "@jupyter-widgets/controls",
            "_model_module_version": "1.5.0",
            "_model_name": "FloatProgressModel",
            "_view_count": null,
            "_view_module": "@jupyter-widgets/controls",
            "_view_module_version": "1.5.0",
            "_view_name": "ProgressView",
            "bar_style": "success",
            "description": "",
            "description_tooltip": null,
            "layout": "IPY_MODEL_6909de937bde4055b39f4d61c78e495c",
            "max": 167502836,
            "min": 0,
            "orientation": "horizontal",
            "style": "IPY_MODEL_0c4a7ba2e0774a92a5b89a1e9b8433e2",
            "value": 167502836
          }
        },
        "791a45455c284301a6e1da7eb53d7ea8": {
          "model_module": "@jupyter-widgets/controls",
          "model_name": "HTMLModel",
          "model_module_version": "1.5.0",
          "state": {
            "_dom_classes": [],
            "_model_module": "@jupyter-widgets/controls",
            "_model_module_version": "1.5.0",
            "_model_name": "HTMLModel",
            "_view_count": null,
            "_view_module": "@jupyter-widgets/controls",
            "_view_module_version": "1.5.0",
            "_view_name": "HTMLView",
            "description": "",
            "description_tooltip": null,
            "layout": "IPY_MODEL_d7a4caf6d16c4f9fb1c31b4c672bebd9",
            "placeholder": "​",
            "style": "IPY_MODEL_48190c1f532c4e61b1694ac2ee08bfc3",
            "value": " 160M/160M [00:03&lt;00:00, 58.8MB/s]"
          }
        },
        "e8328724d31c4ccfad2b299602356cf8": {
          "model_module": "@jupyter-widgets/base",
          "model_name": "LayoutModel",
          "model_module_version": "1.2.0",
          "state": {
            "_model_module": "@jupyter-widgets/base",
            "_model_module_version": "1.2.0",
            "_model_name": "LayoutModel",
            "_view_count": null,
            "_view_module": "@jupyter-widgets/base",
            "_view_module_version": "1.2.0",
            "_view_name": "LayoutView",
            "align_content": null,
            "align_items": null,
            "align_self": null,
            "border": null,
            "bottom": null,
            "display": null,
            "flex": null,
            "flex_flow": null,
            "grid_area": null,
            "grid_auto_columns": null,
            "grid_auto_flow": null,
            "grid_auto_rows": null,
            "grid_column": null,
            "grid_gap": null,
            "grid_row": null,
            "grid_template_areas": null,
            "grid_template_columns": null,
            "grid_template_rows": null,
            "height": null,
            "justify_content": null,
            "justify_items": null,
            "left": null,
            "margin": null,
            "max_height": null,
            "max_width": null,
            "min_height": null,
            "min_width": null,
            "object_fit": null,
            "object_position": null,
            "order": null,
            "overflow": null,
            "overflow_x": null,
            "overflow_y": null,
            "padding": null,
            "right": null,
            "top": null,
            "visibility": null,
            "width": null
          }
        },
        "09c6a60cd1644bb7b3f2b4fcb3a12f87": {
          "model_module": "@jupyter-widgets/base",
          "model_name": "LayoutModel",
          "model_module_version": "1.2.0",
          "state": {
            "_model_module": "@jupyter-widgets/base",
            "_model_module_version": "1.2.0",
            "_model_name": "LayoutModel",
            "_view_count": null,
            "_view_module": "@jupyter-widgets/base",
            "_view_module_version": "1.2.0",
            "_view_name": "LayoutView",
            "align_content": null,
            "align_items": null,
            "align_self": null,
            "border": null,
            "bottom": null,
            "display": null,
            "flex": null,
            "flex_flow": null,
            "grid_area": null,
            "grid_auto_columns": null,
            "grid_auto_flow": null,
            "grid_auto_rows": null,
            "grid_column": null,
            "grid_gap": null,
            "grid_row": null,
            "grid_template_areas": null,
            "grid_template_columns": null,
            "grid_template_rows": null,
            "height": null,
            "justify_content": null,
            "justify_items": null,
            "left": null,
            "margin": null,
            "max_height": null,
            "max_width": null,
            "min_height": null,
            "min_width": null,
            "object_fit": null,
            "object_position": null,
            "order": null,
            "overflow": null,
            "overflow_x": null,
            "overflow_y": null,
            "padding": null,
            "right": null,
            "top": null,
            "visibility": null,
            "width": null
          }
        },
        "c5f84e6780dd4e62abbb06f70cf5e251": {
          "model_module": "@jupyter-widgets/controls",
          "model_name": "DescriptionStyleModel",
          "model_module_version": "1.5.0",
          "state": {
            "_model_module": "@jupyter-widgets/controls",
            "_model_module_version": "1.5.0",
            "_model_name": "DescriptionStyleModel",
            "_view_count": null,
            "_view_module": "@jupyter-widgets/base",
            "_view_module_version": "1.2.0",
            "_view_name": "StyleView",
            "description_width": ""
          }
        },
        "6909de937bde4055b39f4d61c78e495c": {
          "model_module": "@jupyter-widgets/base",
          "model_name": "LayoutModel",
          "model_module_version": "1.2.0",
          "state": {
            "_model_module": "@jupyter-widgets/base",
            "_model_module_version": "1.2.0",
            "_model_name": "LayoutModel",
            "_view_count": null,
            "_view_module": "@jupyter-widgets/base",
            "_view_module_version": "1.2.0",
            "_view_name": "LayoutView",
            "align_content": null,
            "align_items": null,
            "align_self": null,
            "border": null,
            "bottom": null,
            "display": null,
            "flex": null,
            "flex_flow": null,
            "grid_area": null,
            "grid_auto_columns": null,
            "grid_auto_flow": null,
            "grid_auto_rows": null,
            "grid_column": null,
            "grid_gap": null,
            "grid_row": null,
            "grid_template_areas": null,
            "grid_template_columns": null,
            "grid_template_rows": null,
            "height": null,
            "justify_content": null,
            "justify_items": null,
            "left": null,
            "margin": null,
            "max_height": null,
            "max_width": null,
            "min_height": null,
            "min_width": null,
            "object_fit": null,
            "object_position": null,
            "order": null,
            "overflow": null,
            "overflow_x": null,
            "overflow_y": null,
            "padding": null,
            "right": null,
            "top": null,
            "visibility": null,
            "width": null
          }
        },
        "0c4a7ba2e0774a92a5b89a1e9b8433e2": {
          "model_module": "@jupyter-widgets/controls",
          "model_name": "ProgressStyleModel",
          "model_module_version": "1.5.0",
          "state": {
            "_model_module": "@jupyter-widgets/controls",
            "_model_module_version": "1.5.0",
            "_model_name": "ProgressStyleModel",
            "_view_count": null,
            "_view_module": "@jupyter-widgets/base",
            "_view_module_version": "1.2.0",
            "_view_name": "StyleView",
            "bar_color": null,
            "description_width": ""
          }
        },
        "d7a4caf6d16c4f9fb1c31b4c672bebd9": {
          "model_module": "@jupyter-widgets/base",
          "model_name": "LayoutModel",
          "model_module_version": "1.2.0",
          "state": {
            "_model_module": "@jupyter-widgets/base",
            "_model_module_version": "1.2.0",
            "_model_name": "LayoutModel",
            "_view_count": null,
            "_view_module": "@jupyter-widgets/base",
            "_view_module_version": "1.2.0",
            "_view_name": "LayoutView",
            "align_content": null,
            "align_items": null,
            "align_self": null,
            "border": null,
            "bottom": null,
            "display": null,
            "flex": null,
            "flex_flow": null,
            "grid_area": null,
            "grid_auto_columns": null,
            "grid_auto_flow": null,
            "grid_auto_rows": null,
            "grid_column": null,
            "grid_gap": null,
            "grid_row": null,
            "grid_template_areas": null,
            "grid_template_columns": null,
            "grid_template_rows": null,
            "height": null,
            "justify_content": null,
            "justify_items": null,
            "left": null,
            "margin": null,
            "max_height": null,
            "max_width": null,
            "min_height": null,
            "min_width": null,
            "object_fit": null,
            "object_position": null,
            "order": null,
            "overflow": null,
            "overflow_x": null,
            "overflow_y": null,
            "padding": null,
            "right": null,
            "top": null,
            "visibility": null,
            "width": null
          }
        },
        "48190c1f532c4e61b1694ac2ee08bfc3": {
          "model_module": "@jupyter-widgets/controls",
          "model_name": "DescriptionStyleModel",
          "model_module_version": "1.5.0",
          "state": {
            "_model_module": "@jupyter-widgets/controls",
            "_model_module_version": "1.5.0",
            "_model_name": "DescriptionStyleModel",
            "_view_count": null,
            "_view_module": "@jupyter-widgets/base",
            "_view_module_version": "1.2.0",
            "_view_name": "StyleView",
            "description_width": ""
          }
        }
      }
    }
  },
  "nbformat": 4,
  "nbformat_minor": 0
}